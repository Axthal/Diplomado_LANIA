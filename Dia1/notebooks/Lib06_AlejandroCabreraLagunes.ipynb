{
 "metadata": {
  "name": "",
  "signature": "sha256:b91b3fef756be76de21676b85f5370764c3cea669e32d67cc235509d42036dd7"
 },
 "nbformat": 3,
 "nbformat_minor": 0,
 "worksheets": [
  {
   "cells": [
    {
     "cell_type": "code",
     "collapsed": false,
     "input": [
      "%run ../talktools.py"
     ],
     "language": "python",
     "metadata": {},
     "outputs": [
      {
       "html": [
        "<link href='http://fonts.googleapis.com/css?family=Alegreya+Sans:100,300,400,500,700,800,900,100italic,300italic,400italic,500italic,700italic,800italic,900italic' rel='stylesheet' type='text/css'>\n",
        "<link href='http://fonts.googleapis.com/css?family=Arvo:400,700,400italic' rel='stylesheet' type='text/css'>\n",
        "<link href='http://fonts.googleapis.com/css?family=PT+Mono' rel='stylesheet' type='text/css'>\n",
        "<link href='http://fonts.googleapis.com/css?family=Shadows+Into+Light' rel='stylesheet' type='text/css'>\n",
        "<link href='http://fonts.googleapis.com/css?family=Nixie+One' rel='stylesheet' type='text/css'>\n",
        "<style>\n",
        "\n",
        "@font-face {\n",
        "    font-family: \"Computer Modern\";\n",
        "    src: url('http://mirrors.ctan.org/fonts/cm-unicode/fonts/otf/cmunss.otf');\n",
        "}\n",
        "\n",
        "#notebook_panel { /* main background */\n",
        "    background: rgb(245,245,245);\n",
        "}\n",
        "\n",
        "div.cell { /* set cell width */\n",
        "    width: 750px;\n",
        "}\n",
        "\n",
        "div #notebook { /* centre the content */\n",
        "    background: #fff; /* white background for content */\n",
        "    width: 1000px;\n",
        "    margin: auto;\n",
        "    padding-left: 0em;\n",
        "}\n",
        "\n",
        "#notebook li { /* More space between bullet points */\n",
        "margin-top:0.8em;\n",
        "}\n",
        "\n",
        "/* draw border around running cells */\n",
        "div.cell.border-box-sizing.code_cell.running { \n",
        "    border: 1px solid #111;\n",
        "}\n",
        "\n",
        "/* Put a solid color box around each cell and its output, visually linking them*/\n",
        "div.cell.code_cell {\n",
        "    background-color: rgb(256,256,256); \n",
        "    border-radius: 0px; \n",
        "    padding: 0.5em;\n",
        "    margin-left:1em;\n",
        "    margin-top: 1em;\n",
        "}\n",
        "\n",
        "div.text_cell_render{\n",
        "    font-family: 'Alegreya Sans' sans-serif;\n",
        "    line-height: 140%;\n",
        "    font-size: 125%;\n",
        "    font-weight: 400;\n",
        "    width:600px;\n",
        "    margin-left:auto;\n",
        "    margin-right:auto;\n",
        "}\n",
        "\n",
        "\n",
        "/* Formatting for header cells */\n",
        ".text_cell_render h1 {\n",
        "    font-family: 'Nixie One', serif;\n",
        "    font-style:regular;\n",
        "    font-weight: 400;    \n",
        "    font-size: 45pt;\n",
        "    line-height: 100%;\n",
        "    color: rgb(0,51,102);\n",
        "    margin-bottom: 0.5em;\n",
        "    margin-top: 0.5em;\n",
        "    display: block;\n",
        "}\t\n",
        ".text_cell_render h2 {\n",
        "    font-family: 'Nixie One', serif;\n",
        "    font-weight: 400;\n",
        "    font-size: 30pt;\n",
        "    line-height: 100%;\n",
        "    color: rgb(0,51,102);\n",
        "    margin-bottom: 0.1em;\n",
        "    margin-top: 0.3em;\n",
        "    display: block;\n",
        "}\t\n",
        "\n",
        ".text_cell_render h3 {\n",
        "    font-family: 'Nixie One', serif;\n",
        "    margin-top:16px;\n",
        "\tfont-size: 22pt;\n",
        "    font-weight: 600;\n",
        "    margin-bottom: 3px;\n",
        "    font-style: regular;\n",
        "    color: rgb(102,102,0);\n",
        "}\n",
        "\n",
        ".text_cell_render h4 {    /*Use this for captions*/\n",
        "    font-family: 'Nixie One', serif;\n",
        "    font-size: 14pt;\n",
        "    text-align: center;\n",
        "    margin-top: 0em;\n",
        "    margin-bottom: 2em;\n",
        "    font-style: regular;\n",
        "}\n",
        "\n",
        ".text_cell_render h5 {  /*Use this for small titles*/\n",
        "    font-family: 'Nixie One', sans-serif;\n",
        "    font-weight: 400;\n",
        "    font-size: 16pt;\n",
        "    color: rgb(163,0,0);\n",
        "    font-style: italic;\n",
        "    margin-bottom: .1em;\n",
        "    margin-top: 0.8em;\n",
        "    display: block;\n",
        "}\n",
        "\n",
        ".text_cell_render h6 { /*use this for copyright note*/\n",
        "    font-family: 'PT Mono', sans-serif;\n",
        "    font-weight: 300;\n",
        "    font-size: 9pt;\n",
        "    line-height: 100%;\n",
        "    color: grey;\n",
        "    margin-bottom: 1px;\n",
        "    margin-top: 1px;\n",
        "}\n",
        "\n",
        ".CodeMirror{\n",
        "        font-family: \"PT Mono\";\n",
        "        font-size: 90%;\n",
        "}\n",
        "\n",
        "</style>\n",
        "<script>\n",
        "    MathJax.Hub.Config({\n",
        "                        TeX: {\n",
        "                           extensions: [\"AMSmath.js\"],\n",
        "                           equationNumbers: { autoNumber: \"AMS\", useLabelIds: true}\n",
        "                           },\n",
        "                tex2jax: {\n",
        "                    inlineMath: [ ['$','$'], [\"\\\\(\",\"\\\\)\"] ],\n",
        "                    displayMath: [ ['$$','$$'], [\"\\\\[\",\"\\\\]\"] ]\n",
        "                },\n",
        "                displayAlign: 'center', // Change this to 'center' to center equations.\n",
        "                \"HTML-CSS\": {\n",
        "                    styles: {'.MathJax_Display': {\"margin\": 4}}\n",
        "                }\n",
        "        });\n",
        "</script>"
       ],
       "metadata": {},
       "output_type": "display_data",
       "text": [
        "<IPython.core.display.HTML at 0xc236668>"
       ]
      }
     ],
     "prompt_number": 1
    },
    {
     "cell_type": "heading",
     "level": 3,
     "metadata": {},
     "source": [
      "Ejecutando comando del shell"
     ]
    },
    {
     "cell_type": "code",
     "collapsed": false,
     "input": [
      "filelist = !dir\n",
      "for x,i in enumerate(filelist):\n",
      "    print '#',x, '--->', i"
     ],
     "language": "python",
     "metadata": {},
     "outputs": [
      {
       "output_type": "stream",
       "stream": "stdout",
       "text": [
        "# 0 --->  El volumen de la unidad C es Acer\n",
        "# 1 --->  El n\ufffdmero de serie del volumen es: AC32-CB41\n",
        "# 2 ---> \n",
        "# 3 --->  Directorio de C:\\Users\\Axthal\\Documents\\IPython Notebooks\\lania.ipython\\Dia1\\notebooks\n",
        "# 4 ---> \n",
        "# 5 ---> 01/11/2014  04:58 p.m.    <DIR>          .\n",
        "# 6 ---> 01/11/2014  04:58 p.m.    <DIR>          ..\n",
        "# 7 ---> 01/11/2014  04:41 p.m.    <DIR>          .ipynb_checkpoints\n",
        "# 8 ---> 01/11/2014  04:58 p.m.                 8 Archivo_Prueba\n",
        "# 9 ---> 01/11/2014  01:42 p.m.            18,192 Lib00_Esenciales_IPython_Notebook.ipynb\n",
        "# 10 ---> 01/11/2014  01:54 p.m.            14,340 Lib01_Esenciales_IPython_Notebook.ipynb\n",
        "# 11 ---> 01/11/2014  04:10 p.m.             7,303 Lib02_AlejandroCabreraLagunes.ipynb\n",
        "# 12 ---> 01/11/2014  01:56 p.m.            10,750 Lib02_Esenciales_IPython_Notebook.ipynb\n",
        "# 13 ---> 01/11/2014  04:11 p.m.             9,554 Lib03_AlejandroCabreraLagunes.ipynb\n",
        "# 14 ---> 01/11/2014  03:46 p.m.            10,936 Lib03_Esenciales_IPython_Notebook.ipynb\n",
        "# 15 ---> 01/11/2014  04:11 p.m.            12,408 Lib04_AlejandroCabreraLagunes.ipynb\n",
        "# 16 ---> 01/11/2014  03:40 p.m.            11,608 Lib04_Esenciales_IPython_Notebook.ipynb\n",
        "# 17 ---> 01/11/2014  04:45 p.m.            16,578 Lib05_AlejandroCabreraLagunes.ipynb\n",
        "# 18 ---> 01/11/2014  04:34 p.m.            23,810 Lib05_Esenciales_IPython_Notebook.ipynb\n",
        "# 19 ---> 01/11/2014  05:09 p.m.            45,593 Lib06_AlejandroCabreraLagunes.ipynb\n",
        "# 20 ---> 01/11/2014  04:51 p.m.            24,875 Lib06_Esenciales_IPython_Notebook.ipynb\n",
        "# 21 ---> 01/11/2014  12:19 p.m.           223,399 Lib07_Esenciales_IPython_Notebook.ipynb\n",
        "# 22 ---> 01/11/2014  12:19 p.m.            15,846 Lib08_Esenciales_IPython_Notebook.ipynb\n",
        "# 23 ---> 01/11/2014  12:19 p.m.           296,400 Lib09_Esenciales_IPython_Notebook.ipynb\n",
        "# 24 ---> 01/11/2014  12:19 p.m.            16,852 Lib10_Esenciales_IPython_Notebook.ipynb\n",
        "# 25 ---> 01/11/2014  12:19 p.m.            22,169 Lib11_GIT01_RevisionControl_1aEtapa.ipynb\n",
        "# 26 ---> 01/11/2014  12:19 p.m.             8,979 Lib12_GIT02_RevisionControl_2aEtapa.ipynb\n",
        "# 27 ---> 01/11/2014  12:19 p.m.             8,698 Lib13_GIT03_RevisionControl_3aEtapa.ipynb\n",
        "# 28 ---> 01/11/2014  12:19 p.m.             7,569 Lib14_GIT04_RevisionControl_4aEtapa.ipynb\n",
        "# 29 ---> 01/11/2014  12:19 p.m.            14,307 Lib15_GIT05_RevisionControl_Aplicacion.ipynb\n",
        "# 30 --->               22 archivos        820,174 bytes\n",
        "# 31 --->                3 dirs   9,214,173,184 bytes libres\n"
       ]
      }
     ],
     "prompt_number": 36
    },
    {
     "cell_type": "code",
     "collapsed": false,
     "input": [
      "from IPython.display import FileLink, FileLinks\n",
      "FileLinks('.')"
     ],
     "language": "python",
     "metadata": {},
     "outputs": [
      {
       "html": [
        "./<br>\n",
        "&nbsp;&nbsp;<a href='./Lib00_Esenciales_IPython_Notebook.ipynb' target='_blank'>Lib00_Esenciales_IPython_Notebook.ipynb</a><br>\n",
        "&nbsp;&nbsp;<a href='./Lib01_Esenciales_IPython_Notebook.ipynb' target='_blank'>Lib01_Esenciales_IPython_Notebook.ipynb</a><br>\n",
        "&nbsp;&nbsp;<a href='./Lib02_AlejandroCabreraLagunes.ipynb' target='_blank'>Lib02_AlejandroCabreraLagunes.ipynb</a><br>\n",
        "&nbsp;&nbsp;<a href='./Lib02_Esenciales_IPython_Notebook.ipynb' target='_blank'>Lib02_Esenciales_IPython_Notebook.ipynb</a><br>\n",
        "&nbsp;&nbsp;<a href='./Lib03_AlejandroCabreraLagunes.ipynb' target='_blank'>Lib03_AlejandroCabreraLagunes.ipynb</a><br>\n",
        "&nbsp;&nbsp;<a href='./Lib03_Esenciales_IPython_Notebook.ipynb' target='_blank'>Lib03_Esenciales_IPython_Notebook.ipynb</a><br>\n",
        "&nbsp;&nbsp;<a href='./Lib04_AlejandroCabreraLagunes.ipynb' target='_blank'>Lib04_AlejandroCabreraLagunes.ipynb</a><br>\n",
        "&nbsp;&nbsp;<a href='./Lib04_Esenciales_IPython_Notebook.ipynb' target='_blank'>Lib04_Esenciales_IPython_Notebook.ipynb</a><br>\n",
        "&nbsp;&nbsp;<a href='./Lib05_AlejandroCabreraLagunes.ipynb' target='_blank'>Lib05_AlejandroCabreraLagunes.ipynb</a><br>\n",
        "&nbsp;&nbsp;<a href='./Lib05_Esenciales_IPython_Notebook.ipynb' target='_blank'>Lib05_Esenciales_IPython_Notebook.ipynb</a><br>\n",
        "&nbsp;&nbsp;<a href='./Lib06_AlejandroCabreraLagunes.ipynb' target='_blank'>Lib06_AlejandroCabreraLagunes.ipynb</a><br>\n",
        "&nbsp;&nbsp;<a href='./Lib06_Esenciales_IPython_Notebook.ipynb' target='_blank'>Lib06_Esenciales_IPython_Notebook.ipynb</a><br>\n",
        "&nbsp;&nbsp;<a href='./Lib07_Esenciales_IPython_Notebook.ipynb' target='_blank'>Lib07_Esenciales_IPython_Notebook.ipynb</a><br>\n",
        "&nbsp;&nbsp;<a href='./Lib08_Esenciales_IPython_Notebook.ipynb' target='_blank'>Lib08_Esenciales_IPython_Notebook.ipynb</a><br>\n",
        "&nbsp;&nbsp;<a href='./Lib09_Esenciales_IPython_Notebook.ipynb' target='_blank'>Lib09_Esenciales_IPython_Notebook.ipynb</a><br>\n",
        "&nbsp;&nbsp;<a href='./Lib10_Esenciales_IPython_Notebook.ipynb' target='_blank'>Lib10_Esenciales_IPython_Notebook.ipynb</a><br>\n",
        "&nbsp;&nbsp;<a href='./Lib11_GIT01_RevisionControl_1aEtapa.ipynb' target='_blank'>Lib11_GIT01_RevisionControl_1aEtapa.ipynb</a><br>\n",
        "&nbsp;&nbsp;<a href='./Lib12_GIT02_RevisionControl_2aEtapa.ipynb' target='_blank'>Lib12_GIT02_RevisionControl_2aEtapa.ipynb</a><br>\n",
        "&nbsp;&nbsp;<a href='./Lib13_GIT03_RevisionControl_3aEtapa.ipynb' target='_blank'>Lib13_GIT03_RevisionControl_3aEtapa.ipynb</a><br>\n",
        "&nbsp;&nbsp;<a href='./Lib14_GIT04_RevisionControl_4aEtapa.ipynb' target='_blank'>Lib14_GIT04_RevisionControl_4aEtapa.ipynb</a><br>\n",
        "&nbsp;&nbsp;<a href='./Lib15_GIT05_RevisionControl_Aplicacion.ipynb' target='_blank'>Lib15_GIT05_RevisionControl_Aplicacion.ipynb</a><br>\n",
        ".\\.ipynb_checkpoints/<br>\n",
        "&nbsp;&nbsp;<a href='./.ipynb_checkpoints/Lib00_Esenciales_IPython_Notebook-checkpoint.ipynb' target='_blank'>Lib00_Esenciales_IPython_Notebook-checkpoint.ipynb</a><br>\n",
        "&nbsp;&nbsp;<a href='./.ipynb_checkpoints/Lib01_Esenciales_IPython_Notebook-checkpoint.ipynb' target='_blank'>Lib01_Esenciales_IPython_Notebook-checkpoint.ipynb</a><br>\n",
        "&nbsp;&nbsp;<a href='./.ipynb_checkpoints/Lib02_AlejandroCabreraLagunes-checkpoint.ipynb' target='_blank'>Lib02_AlejandroCabreraLagunes-checkpoint.ipynb</a><br>\n",
        "&nbsp;&nbsp;<a href='./.ipynb_checkpoints/Lib02_Esenciales_IPython_Notebook-checkpoint.ipynb' target='_blank'>Lib02_Esenciales_IPython_Notebook-checkpoint.ipynb</a><br>\n",
        "&nbsp;&nbsp;<a href='./.ipynb_checkpoints/Lib03_AlejandroCabreraLagunes-checkpoint.ipynb' target='_blank'>Lib03_AlejandroCabreraLagunes-checkpoint.ipynb</a><br>\n",
        "&nbsp;&nbsp;<a href='./.ipynb_checkpoints/Lib03_Esenciales_IPython_Notebook-checkpoint.ipynb' target='_blank'>Lib03_Esenciales_IPython_Notebook-checkpoint.ipynb</a><br>\n",
        "&nbsp;&nbsp;<a href='./.ipynb_checkpoints/Lib04_AlejandroCabreraLagunes-checkpoint.ipynb' target='_blank'>Lib04_AlejandroCabreraLagunes-checkpoint.ipynb</a><br>\n",
        "&nbsp;&nbsp;<a href='./.ipynb_checkpoints/Lib04_Esenciales_IPython_Notebook-checkpoint.ipynb' target='_blank'>Lib04_Esenciales_IPython_Notebook-checkpoint.ipynb</a><br>\n",
        "&nbsp;&nbsp;<a href='./.ipynb_checkpoints/Lib05_AlejandroCabreraLagunes-checkpoint.ipynb' target='_blank'>Lib05_AlejandroCabreraLagunes-checkpoint.ipynb</a><br>\n",
        "&nbsp;&nbsp;<a href='./.ipynb_checkpoints/Lib05_Esenciales_IPython_Notebook-checkpoint.ipynb' target='_blank'>Lib05_Esenciales_IPython_Notebook-checkpoint.ipynb</a><br>\n",
        "&nbsp;&nbsp;<a href='./.ipynb_checkpoints/Lib06_AlejandroCabreraLagunes-checkpoint.ipynb' target='_blank'>Lib06_AlejandroCabreraLagunes-checkpoint.ipynb</a><br>\n",
        "&nbsp;&nbsp;<a href='./.ipynb_checkpoints/Lib06_Esenciales_IPython_Notebook-checkpoint.ipynb' target='_blank'>Lib06_Esenciales_IPython_Notebook-checkpoint.ipynb</a><br>"
       ],
       "metadata": {},
       "output_type": "pyout",
       "prompt_number": 4,
       "text": [
        "./\n",
        "  Lib00_Esenciales_IPython_Notebook.ipynb\n",
        "  Lib01_Esenciales_IPython_Notebook.ipynb\n",
        "  Lib02_AlejandroCabreraLagunes.ipynb\n",
        "  Lib02_Esenciales_IPython_Notebook.ipynb\n",
        "  Lib03_AlejandroCabreraLagunes.ipynb\n",
        "  Lib03_Esenciales_IPython_Notebook.ipynb\n",
        "  Lib04_AlejandroCabreraLagunes.ipynb\n",
        "  Lib04_Esenciales_IPython_Notebook.ipynb\n",
        "  Lib05_AlejandroCabreraLagunes.ipynb\n",
        "  Lib05_Esenciales_IPython_Notebook.ipynb\n",
        "  Lib06_AlejandroCabreraLagunes.ipynb\n",
        "  Lib06_Esenciales_IPython_Notebook.ipynb\n",
        "  Lib07_Esenciales_IPython_Notebook.ipynb\n",
        "  Lib08_Esenciales_IPython_Notebook.ipynb\n",
        "  Lib09_Esenciales_IPython_Notebook.ipynb\n",
        "  Lib10_Esenciales_IPython_Notebook.ipynb\n",
        "  Lib11_GIT01_RevisionControl_1aEtapa.ipynb\n",
        "  Lib12_GIT02_RevisionControl_2aEtapa.ipynb\n",
        "  Lib13_GIT03_RevisionControl_3aEtapa.ipynb\n",
        "  Lib14_GIT04_RevisionControl_4aEtapa.ipynb\n",
        "  Lib15_GIT05_RevisionControl_Aplicacion.ipynb\n",
        ".\\.ipynb_checkpoints/\n",
        "  Lib00_Esenciales_IPython_Notebook-checkpoint.ipynb\n",
        "  Lib01_Esenciales_IPython_Notebook-checkpoint.ipynb\n",
        "  Lib02_AlejandroCabreraLagunes-checkpoint.ipynb\n",
        "  Lib02_Esenciales_IPython_Notebook-checkpoint.ipynb\n",
        "  Lib03_AlejandroCabreraLagunes-checkpoint.ipynb\n",
        "  Lib03_Esenciales_IPython_Notebook-checkpoint.ipynb\n",
        "  Lib04_AlejandroCabreraLagunes-checkpoint.ipynb\n",
        "  Lib04_Esenciales_IPython_Notebook-checkpoint.ipynb\n",
        "  Lib05_AlejandroCabreraLagunes-checkpoint.ipynb\n",
        "  Lib05_Esenciales_IPython_Notebook-checkpoint.ipynb\n",
        "  Lib06_AlejandroCabreraLagunes-checkpoint.ipynb\n",
        "  Lib06_Esenciales_IPython_Notebook-checkpoint.ipynb"
       ]
      }
     ],
     "prompt_number": 4
    },
    {
     "cell_type": "code",
     "collapsed": false,
     "input": [
      "FileLinks('./.ipynb_checkpoints/')"
     ],
     "language": "python",
     "metadata": {},
     "outputs": [
      {
       "html": [
        "./.ipynb_checkpoints/<br>\n",
        "&nbsp;&nbsp;<a href='./.ipynb_checkpoints/Lib00_Esenciales_IPython_Notebook-checkpoint.ipynb' target='_blank'>Lib00_Esenciales_IPython_Notebook-checkpoint.ipynb</a><br>\n",
        "&nbsp;&nbsp;<a href='./.ipynb_checkpoints/Lib01_Esenciales_IPython_Notebook-checkpoint.ipynb' target='_blank'>Lib01_Esenciales_IPython_Notebook-checkpoint.ipynb</a><br>\n",
        "&nbsp;&nbsp;<a href='./.ipynb_checkpoints/Lib02_AlejandroCabreraLagunes-checkpoint.ipynb' target='_blank'>Lib02_AlejandroCabreraLagunes-checkpoint.ipynb</a><br>\n",
        "&nbsp;&nbsp;<a href='./.ipynb_checkpoints/Lib02_Esenciales_IPython_Notebook-checkpoint.ipynb' target='_blank'>Lib02_Esenciales_IPython_Notebook-checkpoint.ipynb</a><br>\n",
        "&nbsp;&nbsp;<a href='./.ipynb_checkpoints/Lib03_AlejandroCabreraLagunes-checkpoint.ipynb' target='_blank'>Lib03_AlejandroCabreraLagunes-checkpoint.ipynb</a><br>\n",
        "&nbsp;&nbsp;<a href='./.ipynb_checkpoints/Lib03_Esenciales_IPython_Notebook-checkpoint.ipynb' target='_blank'>Lib03_Esenciales_IPython_Notebook-checkpoint.ipynb</a><br>\n",
        "&nbsp;&nbsp;<a href='./.ipynb_checkpoints/Lib04_AlejandroCabreraLagunes-checkpoint.ipynb' target='_blank'>Lib04_AlejandroCabreraLagunes-checkpoint.ipynb</a><br>\n",
        "&nbsp;&nbsp;<a href='./.ipynb_checkpoints/Lib04_Esenciales_IPython_Notebook-checkpoint.ipynb' target='_blank'>Lib04_Esenciales_IPython_Notebook-checkpoint.ipynb</a><br>\n",
        "&nbsp;&nbsp;<a href='./.ipynb_checkpoints/Lib05_AlejandroCabreraLagunes-checkpoint.ipynb' target='_blank'>Lib05_AlejandroCabreraLagunes-checkpoint.ipynb</a><br>\n",
        "&nbsp;&nbsp;<a href='./.ipynb_checkpoints/Lib05_Esenciales_IPython_Notebook-checkpoint.ipynb' target='_blank'>Lib05_Esenciales_IPython_Notebook-checkpoint.ipynb</a><br>\n",
        "&nbsp;&nbsp;<a href='./.ipynb_checkpoints/Lib06_AlejandroCabreraLagunes-checkpoint.ipynb' target='_blank'>Lib06_AlejandroCabreraLagunes-checkpoint.ipynb</a><br>\n",
        "&nbsp;&nbsp;<a href='./.ipynb_checkpoints/Lib06_Esenciales_IPython_Notebook-checkpoint.ipynb' target='_blank'>Lib06_Esenciales_IPython_Notebook-checkpoint.ipynb</a><br>"
       ],
       "metadata": {},
       "output_type": "pyout",
       "prompt_number": 5,
       "text": [
        "./.ipynb_checkpoints/\n",
        "  Lib00_Esenciales_IPython_Notebook-checkpoint.ipynb\n",
        "  Lib01_Esenciales_IPython_Notebook-checkpoint.ipynb\n",
        "  Lib02_AlejandroCabreraLagunes-checkpoint.ipynb\n",
        "  Lib02_Esenciales_IPython_Notebook-checkpoint.ipynb\n",
        "  Lib03_AlejandroCabreraLagunes-checkpoint.ipynb\n",
        "  Lib03_Esenciales_IPython_Notebook-checkpoint.ipynb\n",
        "  Lib04_AlejandroCabreraLagunes-checkpoint.ipynb\n",
        "  Lib04_Esenciales_IPython_Notebook-checkpoint.ipynb\n",
        "  Lib05_AlejandroCabreraLagunes-checkpoint.ipynb\n",
        "  Lib05_Esenciales_IPython_Notebook-checkpoint.ipynb\n",
        "  Lib06_AlejandroCabreraLagunes-checkpoint.ipynb\n",
        "  Lib06_Esenciales_IPython_Notebook-checkpoint.ipynb"
       ]
      }
     ],
     "prompt_number": 5
    },
    {
     "cell_type": "heading",
     "level": 3,
     "metadata": {},
     "source": [
      "Acceso y ejecuci\u00f3n de c\u00f3digos externos"
     ]
    },
    {
     "cell_type": "code",
     "collapsed": false,
     "input": [
      "%load http://pastebin.com/raw.php?i=mGiV1FwY"
     ],
     "language": "python",
     "metadata": {},
     "outputs": [],
     "prompt_number": 11
    },
    {
     "cell_type": "code",
     "collapsed": false,
     "input": [
      "CustomPlot()\n",
      "font_size = 20\n",
      "figsize(11.5, 6)\n",
      "\n",
      "t = arange(0.0, 2.0, 0.01)\n",
      "s = sin(2*pi*t)\n",
      "plot(t, s)\n",
      "\n",
      "xlabel(r'time $(s)$', fontsize=font_size)\n",
      "ylabel('voltage $(mV)$', fontsize=font_size)\n",
      "title('Voltage', fontsize=font_size)\n",
      "grid(True)"
     ],
     "language": "python",
     "metadata": {},
     "outputs": []
    },
    {
     "cell_type": "markdown",
     "metadata": {},
     "source": [
      "Si no hay conexi\u00f3n a internet, marcar\u00e1 error"
     ]
    },
    {
     "cell_type": "heading",
     "level": 3,
     "metadata": {},
     "source": [
      "Salvando a Gist"
     ]
    },
    {
     "cell_type": "code",
     "collapsed": false,
     "input": [
      "%pastebin?"
     ],
     "language": "python",
     "metadata": {},
     "outputs": [],
     "prompt_number": 23
    },
    {
     "cell_type": "code",
     "collapsed": false,
     "input": [
      "%pastebin? -d \"grafica\" 0-10"
     ],
     "language": "python",
     "metadata": {},
     "outputs": [
      {
       "ename": "URLError",
       "evalue": "<urlopen error [Errno 11004] getaddrinfo failed>",
       "output_type": "pyerr",
       "traceback": [
        "\u001b[1;31m---------------------------------------------------------------------------\u001b[0m\n\u001b[1;31mURLError\u001b[0m                                  Traceback (most recent call last)",
        "\u001b[1;32m<ipython-input-26-cc7f58002c73>\u001b[0m in \u001b[0;36m<module>\u001b[1;34m()\u001b[0m\n\u001b[1;32m----> 1\u001b[1;33m \u001b[0mget_ipython\u001b[0m\u001b[1;33m(\u001b[0m\u001b[1;33m)\u001b[0m\u001b[1;33m.\u001b[0m\u001b[0mmagic\u001b[0m\u001b[1;33m(\u001b[0m\u001b[1;34mu'pastebin ? -d \"grafica\" 0-10'\u001b[0m\u001b[1;33m)\u001b[0m\u001b[1;33m\u001b[0m\u001b[0m\n\u001b[0m",
        "\u001b[1;32mC:\\Anaconda\\lib\\site-packages\\IPython\\core\\interactiveshell.pyc\u001b[0m in \u001b[0;36mmagic\u001b[1;34m(self, arg_s)\u001b[0m\n\u001b[0;32m   2203\u001b[0m         \u001b[0mmagic_name\u001b[0m\u001b[1;33m,\u001b[0m \u001b[0m_\u001b[0m\u001b[1;33m,\u001b[0m \u001b[0mmagic_arg_s\u001b[0m \u001b[1;33m=\u001b[0m \u001b[0marg_s\u001b[0m\u001b[1;33m.\u001b[0m\u001b[0mpartition\u001b[0m\u001b[1;33m(\u001b[0m\u001b[1;34m' '\u001b[0m\u001b[1;33m)\u001b[0m\u001b[1;33m\u001b[0m\u001b[0m\n\u001b[0;32m   2204\u001b[0m         \u001b[0mmagic_name\u001b[0m \u001b[1;33m=\u001b[0m \u001b[0mmagic_name\u001b[0m\u001b[1;33m.\u001b[0m\u001b[0mlstrip\u001b[0m\u001b[1;33m(\u001b[0m\u001b[0mprefilter\u001b[0m\u001b[1;33m.\u001b[0m\u001b[0mESC_MAGIC\u001b[0m\u001b[1;33m)\u001b[0m\u001b[1;33m\u001b[0m\u001b[0m\n\u001b[1;32m-> 2205\u001b[1;33m         \u001b[1;32mreturn\u001b[0m \u001b[0mself\u001b[0m\u001b[1;33m.\u001b[0m\u001b[0mrun_line_magic\u001b[0m\u001b[1;33m(\u001b[0m\u001b[0mmagic_name\u001b[0m\u001b[1;33m,\u001b[0m \u001b[0mmagic_arg_s\u001b[0m\u001b[1;33m)\u001b[0m\u001b[1;33m\u001b[0m\u001b[0m\n\u001b[0m\u001b[0;32m   2206\u001b[0m \u001b[1;33m\u001b[0m\u001b[0m\n\u001b[0;32m   2207\u001b[0m     \u001b[1;31m#-------------------------------------------------------------------------\u001b[0m\u001b[1;33m\u001b[0m\u001b[1;33m\u001b[0m\u001b[0m\n",
        "\u001b[1;32mC:\\Anaconda\\lib\\site-packages\\IPython\\core\\interactiveshell.pyc\u001b[0m in \u001b[0;36mrun_line_magic\u001b[1;34m(self, magic_name, line)\u001b[0m\n\u001b[0;32m   2124\u001b[0m                 \u001b[0mkwargs\u001b[0m\u001b[1;33m[\u001b[0m\u001b[1;34m'local_ns'\u001b[0m\u001b[1;33m]\u001b[0m \u001b[1;33m=\u001b[0m \u001b[0msys\u001b[0m\u001b[1;33m.\u001b[0m\u001b[0m_getframe\u001b[0m\u001b[1;33m(\u001b[0m\u001b[0mstack_depth\u001b[0m\u001b[1;33m)\u001b[0m\u001b[1;33m.\u001b[0m\u001b[0mf_locals\u001b[0m\u001b[1;33m\u001b[0m\u001b[0m\n\u001b[0;32m   2125\u001b[0m             \u001b[1;32mwith\u001b[0m \u001b[0mself\u001b[0m\u001b[1;33m.\u001b[0m\u001b[0mbuiltin_trap\u001b[0m\u001b[1;33m:\u001b[0m\u001b[1;33m\u001b[0m\u001b[0m\n\u001b[1;32m-> 2126\u001b[1;33m                 \u001b[0mresult\u001b[0m \u001b[1;33m=\u001b[0m \u001b[0mfn\u001b[0m\u001b[1;33m(\u001b[0m\u001b[1;33m*\u001b[0m\u001b[0margs\u001b[0m\u001b[1;33m,\u001b[0m\u001b[1;33m**\u001b[0m\u001b[0mkwargs\u001b[0m\u001b[1;33m)\u001b[0m\u001b[1;33m\u001b[0m\u001b[0m\n\u001b[0m\u001b[0;32m   2127\u001b[0m             \u001b[1;32mreturn\u001b[0m \u001b[0mresult\u001b[0m\u001b[1;33m\u001b[0m\u001b[0m\n\u001b[0;32m   2128\u001b[0m \u001b[1;33m\u001b[0m\u001b[0m\n",
        "\u001b[1;32mC:\\Anaconda\\lib\\site-packages\\IPython\\core\\magics\\code.pyc\u001b[0m in \u001b[0;36mpastebin\u001b[1;34m(self, parameter_s)\u001b[0m\n",
        "\u001b[1;32mC:\\Anaconda\\lib\\site-packages\\IPython\\core\\magic.pyc\u001b[0m in \u001b[0;36m<lambda>\u001b[1;34m(f, *a, **k)\u001b[0m\n\u001b[0;32m    191\u001b[0m     \u001b[1;31m# but it's overkill for just that one bit of state.\u001b[0m\u001b[1;33m\u001b[0m\u001b[1;33m\u001b[0m\u001b[0m\n\u001b[0;32m    192\u001b[0m     \u001b[1;32mdef\u001b[0m \u001b[0mmagic_deco\u001b[0m\u001b[1;33m(\u001b[0m\u001b[0marg\u001b[0m\u001b[1;33m)\u001b[0m\u001b[1;33m:\u001b[0m\u001b[1;33m\u001b[0m\u001b[0m\n\u001b[1;32m--> 193\u001b[1;33m         \u001b[0mcall\u001b[0m \u001b[1;33m=\u001b[0m \u001b[1;32mlambda\u001b[0m \u001b[0mf\u001b[0m\u001b[1;33m,\u001b[0m \u001b[1;33m*\u001b[0m\u001b[0ma\u001b[0m\u001b[1;33m,\u001b[0m \u001b[1;33m**\u001b[0m\u001b[0mk\u001b[0m\u001b[1;33m:\u001b[0m \u001b[0mf\u001b[0m\u001b[1;33m(\u001b[0m\u001b[1;33m*\u001b[0m\u001b[0ma\u001b[0m\u001b[1;33m,\u001b[0m \u001b[1;33m**\u001b[0m\u001b[0mk\u001b[0m\u001b[1;33m)\u001b[0m\u001b[1;33m\u001b[0m\u001b[0m\n\u001b[0m\u001b[0;32m    194\u001b[0m \u001b[1;33m\u001b[0m\u001b[0m\n\u001b[0;32m    195\u001b[0m         \u001b[1;32mif\u001b[0m \u001b[0mcallable\u001b[0m\u001b[1;33m(\u001b[0m\u001b[0marg\u001b[0m\u001b[1;33m)\u001b[0m\u001b[1;33m:\u001b[0m\u001b[1;33m\u001b[0m\u001b[0m\n",
        "\u001b[1;32mC:\\Anaconda\\lib\\site-packages\\IPython\\core\\magics\\code.pyc\u001b[0m in \u001b[0;36mpastebin\u001b[1;34m(self, parameter_s)\u001b[0m\n\u001b[0;32m    252\u001b[0m         }).encode('utf-8')\n\u001b[0;32m    253\u001b[0m \u001b[1;33m\u001b[0m\u001b[0m\n\u001b[1;32m--> 254\u001b[1;33m         \u001b[0mresponse\u001b[0m \u001b[1;33m=\u001b[0m \u001b[0murlopen\u001b[0m\u001b[1;33m(\u001b[0m\u001b[1;34m\"https://api.github.com/gists\"\u001b[0m\u001b[1;33m,\u001b[0m \u001b[0mpost_data\u001b[0m\u001b[1;33m)\u001b[0m\u001b[1;33m\u001b[0m\u001b[0m\n\u001b[0m\u001b[0;32m    255\u001b[0m         \u001b[0mresponse_data\u001b[0m \u001b[1;33m=\u001b[0m \u001b[0mjson\u001b[0m\u001b[1;33m.\u001b[0m\u001b[0mloads\u001b[0m\u001b[1;33m(\u001b[0m\u001b[0mresponse\u001b[0m\u001b[1;33m.\u001b[0m\u001b[0mread\u001b[0m\u001b[1;33m(\u001b[0m\u001b[1;33m)\u001b[0m\u001b[1;33m.\u001b[0m\u001b[0mdecode\u001b[0m\u001b[1;33m(\u001b[0m\u001b[1;34m'utf-8'\u001b[0m\u001b[1;33m)\u001b[0m\u001b[1;33m)\u001b[0m\u001b[1;33m\u001b[0m\u001b[0m\n\u001b[0;32m    256\u001b[0m         \u001b[1;32mreturn\u001b[0m \u001b[0mresponse_data\u001b[0m\u001b[1;33m[\u001b[0m\u001b[1;34m'html_url'\u001b[0m\u001b[1;33m]\u001b[0m\u001b[1;33m\u001b[0m\u001b[0m\n",
        "\u001b[1;32mC:\\Anaconda\\lib\\urllib2.pyc\u001b[0m in \u001b[0;36murlopen\u001b[1;34m(url, data, timeout)\u001b[0m\n\u001b[0;32m    125\u001b[0m     \u001b[1;32mif\u001b[0m \u001b[0m_opener\u001b[0m \u001b[1;32mis\u001b[0m \u001b[0mNone\u001b[0m\u001b[1;33m:\u001b[0m\u001b[1;33m\u001b[0m\u001b[0m\n\u001b[0;32m    126\u001b[0m         \u001b[0m_opener\u001b[0m \u001b[1;33m=\u001b[0m \u001b[0mbuild_opener\u001b[0m\u001b[1;33m(\u001b[0m\u001b[1;33m)\u001b[0m\u001b[1;33m\u001b[0m\u001b[0m\n\u001b[1;32m--> 127\u001b[1;33m     \u001b[1;32mreturn\u001b[0m \u001b[0m_opener\u001b[0m\u001b[1;33m.\u001b[0m\u001b[0mopen\u001b[0m\u001b[1;33m(\u001b[0m\u001b[0murl\u001b[0m\u001b[1;33m,\u001b[0m \u001b[0mdata\u001b[0m\u001b[1;33m,\u001b[0m \u001b[0mtimeout\u001b[0m\u001b[1;33m)\u001b[0m\u001b[1;33m\u001b[0m\u001b[0m\n\u001b[0m\u001b[0;32m    128\u001b[0m \u001b[1;33m\u001b[0m\u001b[0m\n\u001b[0;32m    129\u001b[0m \u001b[1;32mdef\u001b[0m \u001b[0minstall_opener\u001b[0m\u001b[1;33m(\u001b[0m\u001b[0mopener\u001b[0m\u001b[1;33m)\u001b[0m\u001b[1;33m:\u001b[0m\u001b[1;33m\u001b[0m\u001b[0m\n",
        "\u001b[1;32mC:\\Anaconda\\lib\\urllib2.pyc\u001b[0m in \u001b[0;36mopen\u001b[1;34m(self, fullurl, data, timeout)\u001b[0m\n\u001b[0;32m    402\u001b[0m             \u001b[0mreq\u001b[0m \u001b[1;33m=\u001b[0m \u001b[0mmeth\u001b[0m\u001b[1;33m(\u001b[0m\u001b[0mreq\u001b[0m\u001b[1;33m)\u001b[0m\u001b[1;33m\u001b[0m\u001b[0m\n\u001b[0;32m    403\u001b[0m \u001b[1;33m\u001b[0m\u001b[0m\n\u001b[1;32m--> 404\u001b[1;33m         \u001b[0mresponse\u001b[0m \u001b[1;33m=\u001b[0m \u001b[0mself\u001b[0m\u001b[1;33m.\u001b[0m\u001b[0m_open\u001b[0m\u001b[1;33m(\u001b[0m\u001b[0mreq\u001b[0m\u001b[1;33m,\u001b[0m \u001b[0mdata\u001b[0m\u001b[1;33m)\u001b[0m\u001b[1;33m\u001b[0m\u001b[0m\n\u001b[0m\u001b[0;32m    405\u001b[0m \u001b[1;33m\u001b[0m\u001b[0m\n\u001b[0;32m    406\u001b[0m         \u001b[1;31m# post-process response\u001b[0m\u001b[1;33m\u001b[0m\u001b[1;33m\u001b[0m\u001b[0m\n",
        "\u001b[1;32mC:\\Anaconda\\lib\\urllib2.pyc\u001b[0m in \u001b[0;36m_open\u001b[1;34m(self, req, data)\u001b[0m\n\u001b[0;32m    420\u001b[0m         \u001b[0mprotocol\u001b[0m \u001b[1;33m=\u001b[0m \u001b[0mreq\u001b[0m\u001b[1;33m.\u001b[0m\u001b[0mget_type\u001b[0m\u001b[1;33m(\u001b[0m\u001b[1;33m)\u001b[0m\u001b[1;33m\u001b[0m\u001b[0m\n\u001b[0;32m    421\u001b[0m         result = self._call_chain(self.handle_open, protocol, protocol +\n\u001b[1;32m--> 422\u001b[1;33m                                   '_open', req)\n\u001b[0m\u001b[0;32m    423\u001b[0m         \u001b[1;32mif\u001b[0m \u001b[0mresult\u001b[0m\u001b[1;33m:\u001b[0m\u001b[1;33m\u001b[0m\u001b[0m\n\u001b[0;32m    424\u001b[0m             \u001b[1;32mreturn\u001b[0m \u001b[0mresult\u001b[0m\u001b[1;33m\u001b[0m\u001b[0m\n",
        "\u001b[1;32mC:\\Anaconda\\lib\\urllib2.pyc\u001b[0m in \u001b[0;36m_call_chain\u001b[1;34m(self, chain, kind, meth_name, *args)\u001b[0m\n\u001b[0;32m    380\u001b[0m             \u001b[0mfunc\u001b[0m \u001b[1;33m=\u001b[0m \u001b[0mgetattr\u001b[0m\u001b[1;33m(\u001b[0m\u001b[0mhandler\u001b[0m\u001b[1;33m,\u001b[0m \u001b[0mmeth_name\u001b[0m\u001b[1;33m)\u001b[0m\u001b[1;33m\u001b[0m\u001b[0m\n\u001b[0;32m    381\u001b[0m \u001b[1;33m\u001b[0m\u001b[0m\n\u001b[1;32m--> 382\u001b[1;33m             \u001b[0mresult\u001b[0m \u001b[1;33m=\u001b[0m \u001b[0mfunc\u001b[0m\u001b[1;33m(\u001b[0m\u001b[1;33m*\u001b[0m\u001b[0margs\u001b[0m\u001b[1;33m)\u001b[0m\u001b[1;33m\u001b[0m\u001b[0m\n\u001b[0m\u001b[0;32m    383\u001b[0m             \u001b[1;32mif\u001b[0m \u001b[0mresult\u001b[0m \u001b[1;32mis\u001b[0m \u001b[1;32mnot\u001b[0m \u001b[0mNone\u001b[0m\u001b[1;33m:\u001b[0m\u001b[1;33m\u001b[0m\u001b[0m\n\u001b[0;32m    384\u001b[0m                 \u001b[1;32mreturn\u001b[0m \u001b[0mresult\u001b[0m\u001b[1;33m\u001b[0m\u001b[0m\n",
        "\u001b[1;32mC:\\Anaconda\\lib\\urllib2.pyc\u001b[0m in \u001b[0;36mhttps_open\u001b[1;34m(self, req)\u001b[0m\n\u001b[0;32m   1220\u001b[0m \u001b[1;33m\u001b[0m\u001b[0m\n\u001b[0;32m   1221\u001b[0m         \u001b[1;32mdef\u001b[0m \u001b[0mhttps_open\u001b[0m\u001b[1;33m(\u001b[0m\u001b[0mself\u001b[0m\u001b[1;33m,\u001b[0m \u001b[0mreq\u001b[0m\u001b[1;33m)\u001b[0m\u001b[1;33m:\u001b[0m\u001b[1;33m\u001b[0m\u001b[0m\n\u001b[1;32m-> 1222\u001b[1;33m             \u001b[1;32mreturn\u001b[0m \u001b[0mself\u001b[0m\u001b[1;33m.\u001b[0m\u001b[0mdo_open\u001b[0m\u001b[1;33m(\u001b[0m\u001b[0mhttplib\u001b[0m\u001b[1;33m.\u001b[0m\u001b[0mHTTPSConnection\u001b[0m\u001b[1;33m,\u001b[0m \u001b[0mreq\u001b[0m\u001b[1;33m)\u001b[0m\u001b[1;33m\u001b[0m\u001b[0m\n\u001b[0m\u001b[0;32m   1223\u001b[0m \u001b[1;33m\u001b[0m\u001b[0m\n\u001b[0;32m   1224\u001b[0m         \u001b[0mhttps_request\u001b[0m \u001b[1;33m=\u001b[0m \u001b[0mAbstractHTTPHandler\u001b[0m\u001b[1;33m.\u001b[0m\u001b[0mdo_request_\u001b[0m\u001b[1;33m\u001b[0m\u001b[0m\n",
        "\u001b[1;32mC:\\Anaconda\\lib\\urllib2.pyc\u001b[0m in \u001b[0;36mdo_open\u001b[1;34m(self, http_class, req)\u001b[0m\n\u001b[0;32m   1182\u001b[0m         \u001b[1;32mexcept\u001b[0m \u001b[0msocket\u001b[0m\u001b[1;33m.\u001b[0m\u001b[0merror\u001b[0m\u001b[1;33m,\u001b[0m \u001b[0merr\u001b[0m\u001b[1;33m:\u001b[0m \u001b[1;31m# XXX what error?\u001b[0m\u001b[1;33m\u001b[0m\u001b[0m\n\u001b[0;32m   1183\u001b[0m             \u001b[0mh\u001b[0m\u001b[1;33m.\u001b[0m\u001b[0mclose\u001b[0m\u001b[1;33m(\u001b[0m\u001b[1;33m)\u001b[0m\u001b[1;33m\u001b[0m\u001b[0m\n\u001b[1;32m-> 1184\u001b[1;33m             \u001b[1;32mraise\u001b[0m \u001b[0mURLError\u001b[0m\u001b[1;33m(\u001b[0m\u001b[0merr\u001b[0m\u001b[1;33m)\u001b[0m\u001b[1;33m\u001b[0m\u001b[0m\n\u001b[0m\u001b[0;32m   1185\u001b[0m         \u001b[1;32melse\u001b[0m\u001b[1;33m:\u001b[0m\u001b[1;33m\u001b[0m\u001b[0m\n\u001b[0;32m   1186\u001b[0m             \u001b[1;32mtry\u001b[0m\u001b[1;33m:\u001b[0m\u001b[1;33m\u001b[0m\u001b[0m\n",
        "\u001b[1;31mURLError\u001b[0m: <urlopen error [Errno 11004] getaddrinfo failed>"
       ]
      }
     ],
     "prompt_number": 26
    },
    {
     "cell_type": "markdown",
     "metadata": {},
     "source": [
      "'Gr\u00e1fica' es la descripci\u00f3n"
     ]
    },
    {
     "cell_type": "heading",
     "level": 3,
     "metadata": {},
     "source": [
      "Conectarse a un kernel remotamente"
     ]
    },
    {
     "cell_type": "code",
     "collapsed": false,
     "input": [
      "%connect_info"
     ],
     "language": "python",
     "metadata": {},
     "outputs": [
      {
       "output_type": "stream",
       "stream": "stdout",
       "text": [
        "{\n",
        "  \"stdin_port\": 10014, \n",
        "  \"ip\": \"127.0.0.1\", \n",
        "  \"control_port\": 10015, \n",
        "  \"hb_port\": 10016, \n",
        "  \"signature_scheme\": \"hmac-sha256\", \n",
        "  \"key\": \"ba31403b-e1a5-4499-9651-41529659586d\", \n",
        "  \"shell_port\": 10012, \n",
        "  \"transport\": \"tcp\", \n",
        "  \"iopub_port\": 10013\n",
        "}\n",
        "\n",
        "Paste the above JSON into a file, and connect with:\n",
        "    $> ipython <app> --existing <file>\n",
        "or, if you are local, you can connect with just:\n",
        "    $> ipython <app> --existing kernel-0bab2e97-70f1-4c29-9d4b-5f871e403ae9.json \n",
        "or even just:\n",
        "    $> ipython <app> --existing \n",
        "if this is the most recent IPython session you have started.\n"
       ]
      }
     ],
     "prompt_number": 15
    },
    {
     "cell_type": "heading",
     "level": 3,
     "metadata": {},
     "source": [
      "EJERCICIO"
     ]
    },
    {
     "cell_type": "code",
     "collapsed": false,
     "input": [
      "!echo $null >> Archivo_Prueba"
     ],
     "language": "python",
     "metadata": {},
     "outputs": [],
     "prompt_number": 16
    },
    {
     "cell_type": "code",
     "collapsed": false,
     "input": [
      "!dir"
     ],
     "language": "python",
     "metadata": {},
     "outputs": [
      {
       "output_type": "stream",
       "stream": "stdout",
       "text": [
        " El volumen de la unidad C es Acer\n",
        " El n\u00a3mero de serie del volumen es: AC32-CB41\n",
        "\n",
        " Directorio de C:\\Users\\Axthal\\Documents\\IPython Notebooks\\lania.ipython\\Dia1\\notebooks\n",
        "\n",
        "01/11/2014  04:58 p.m.    <DIR>          .\n",
        "01/11/2014  04:58 p.m.    <DIR>          ..\n",
        "01/11/2014  04:41 p.m.    <DIR>          .ipynb_checkpoints\n",
        "01/11/2014  04:58 p.m.                 8 Archivo_Prueba\n",
        "01/11/2014  01:42 p.m.            18,192 Lib00_Esenciales_IPython_Notebook.ipynb\n",
        "01/11/2014  01:54 p.m.            14,340 Lib01_Esenciales_IPython_Notebook.ipynb\n",
        "01/11/2014  04:10 p.m.             7,303 Lib02_AlejandroCabreraLagunes.ipynb\n",
        "01/11/2014  01:56 p.m.            10,750 Lib02_Esenciales_IPython_Notebook.ipynb\n",
        "01/11/2014  04:11 p.m.             9,554 Lib03_AlejandroCabreraLagunes.ipynb\n",
        "01/11/2014  03:46 p.m.            10,936 Lib03_Esenciales_IPython_Notebook.ipynb\n",
        "01/11/2014  04:11 p.m.            12,408 Lib04_AlejandroCabreraLagunes.ipynb\n",
        "01/11/2014  03:40 p.m.            11,608 Lib04_Esenciales_IPython_Notebook.ipynb\n",
        "01/11/2014  04:45 p.m.            16,578 Lib05_AlejandroCabreraLagunes.ipynb\n",
        "01/11/2014  04:34 p.m.            23,810 Lib05_Esenciales_IPython_Notebook.ipynb\n",
        "01/11/2014  05:11 p.m.            47,278 Lib06_AlejandroCabreraLagunes.ipynb\n",
        "01/11/2014  04:51 p.m.            24,875 Lib06_Esenciales_IPython_Notebook.ipynb\n",
        "01/11/2014  12:19 p.m.           223,399 Lib07_Esenciales_IPython_Notebook.ipynb\n",
        "01/11/2014  12:19 p.m.            15,846 Lib08_Esenciales_IPython_Notebook.ipynb\n",
        "01/11/2014  12:19 p.m.           296,400 Lib09_Esenciales_IPython_Notebook.ipynb\n",
        "01/11/2014  12:19 p.m.            16,852 Lib10_Esenciales_IPython_Notebook.ipynb\n",
        "01/11/2014  12:19 p.m.            22,169 Lib11_GIT01_RevisionControl_1aEtapa.ipynb\n",
        "01/11/2014  12:19 p.m.             8,979 Lib12_GIT02_RevisionControl_2aEtapa.ipynb\n",
        "01/11/2014  12:19 p.m.             8,698 Lib13_GIT03_RevisionControl_3aEtapa.ipynb\n",
        "01/11/2014  12:19 p.m.             7,569 Lib14_GIT04_RevisionControl_4aEtapa.ipynb\n",
        "01/11/2014  12:19 p.m.            14,307 Lib15_GIT05_RevisionControl_Aplicacion.ipynb\n",
        "              22 archivos        821,859 bytes\n",
        "               3 dirs   9,215,016,960 bytes libres\n"
       ]
      }
     ],
     "prompt_number": 37
    },
    {
     "cell_type": "code",
     "collapsed": false,
     "input": [
      "from IPython.display import FileLink, FileLinks\n",
      "FileLinks('.')"
     ],
     "language": "python",
     "metadata": {},
     "outputs": [
      {
       "html": [
        "./<br>\n",
        "&nbsp;&nbsp;<a href='./Archivo_Prueba' target='_blank'>Archivo_Prueba</a><br>\n",
        "&nbsp;&nbsp;<a href='./Lib00_Esenciales_IPython_Notebook.ipynb' target='_blank'>Lib00_Esenciales_IPython_Notebook.ipynb</a><br>\n",
        "&nbsp;&nbsp;<a href='./Lib01_Esenciales_IPython_Notebook.ipynb' target='_blank'>Lib01_Esenciales_IPython_Notebook.ipynb</a><br>\n",
        "&nbsp;&nbsp;<a href='./Lib02_AlejandroCabreraLagunes.ipynb' target='_blank'>Lib02_AlejandroCabreraLagunes.ipynb</a><br>\n",
        "&nbsp;&nbsp;<a href='./Lib02_Esenciales_IPython_Notebook.ipynb' target='_blank'>Lib02_Esenciales_IPython_Notebook.ipynb</a><br>\n",
        "&nbsp;&nbsp;<a href='./Lib03_AlejandroCabreraLagunes.ipynb' target='_blank'>Lib03_AlejandroCabreraLagunes.ipynb</a><br>\n",
        "&nbsp;&nbsp;<a href='./Lib03_Esenciales_IPython_Notebook.ipynb' target='_blank'>Lib03_Esenciales_IPython_Notebook.ipynb</a><br>\n",
        "&nbsp;&nbsp;<a href='./Lib04_AlejandroCabreraLagunes.ipynb' target='_blank'>Lib04_AlejandroCabreraLagunes.ipynb</a><br>\n",
        "&nbsp;&nbsp;<a href='./Lib04_Esenciales_IPython_Notebook.ipynb' target='_blank'>Lib04_Esenciales_IPython_Notebook.ipynb</a><br>\n",
        "&nbsp;&nbsp;<a href='./Lib05_AlejandroCabreraLagunes.ipynb' target='_blank'>Lib05_AlejandroCabreraLagunes.ipynb</a><br>\n",
        "&nbsp;&nbsp;<a href='./Lib05_Esenciales_IPython_Notebook.ipynb' target='_blank'>Lib05_Esenciales_IPython_Notebook.ipynb</a><br>\n",
        "&nbsp;&nbsp;<a href='./Lib06_AlejandroCabreraLagunes.ipynb' target='_blank'>Lib06_AlejandroCabreraLagunes.ipynb</a><br>\n",
        "&nbsp;&nbsp;<a href='./Lib06_Esenciales_IPython_Notebook.ipynb' target='_blank'>Lib06_Esenciales_IPython_Notebook.ipynb</a><br>\n",
        "&nbsp;&nbsp;<a href='./Lib07_Esenciales_IPython_Notebook.ipynb' target='_blank'>Lib07_Esenciales_IPython_Notebook.ipynb</a><br>\n",
        "&nbsp;&nbsp;<a href='./Lib08_Esenciales_IPython_Notebook.ipynb' target='_blank'>Lib08_Esenciales_IPython_Notebook.ipynb</a><br>\n",
        "&nbsp;&nbsp;<a href='./Lib09_Esenciales_IPython_Notebook.ipynb' target='_blank'>Lib09_Esenciales_IPython_Notebook.ipynb</a><br>\n",
        "&nbsp;&nbsp;<a href='./Lib10_Esenciales_IPython_Notebook.ipynb' target='_blank'>Lib10_Esenciales_IPython_Notebook.ipynb</a><br>\n",
        "&nbsp;&nbsp;<a href='./Lib11_GIT01_RevisionControl_1aEtapa.ipynb' target='_blank'>Lib11_GIT01_RevisionControl_1aEtapa.ipynb</a><br>\n",
        "&nbsp;&nbsp;<a href='./Lib12_GIT02_RevisionControl_2aEtapa.ipynb' target='_blank'>Lib12_GIT02_RevisionControl_2aEtapa.ipynb</a><br>\n",
        "&nbsp;&nbsp;<a href='./Lib13_GIT03_RevisionControl_3aEtapa.ipynb' target='_blank'>Lib13_GIT03_RevisionControl_3aEtapa.ipynb</a><br>\n",
        "&nbsp;&nbsp;<a href='./Lib14_GIT04_RevisionControl_4aEtapa.ipynb' target='_blank'>Lib14_GIT04_RevisionControl_4aEtapa.ipynb</a><br>\n",
        "&nbsp;&nbsp;<a href='./Lib15_GIT05_RevisionControl_Aplicacion.ipynb' target='_blank'>Lib15_GIT05_RevisionControl_Aplicacion.ipynb</a><br>\n",
        ".\\.ipynb_checkpoints/<br>\n",
        "&nbsp;&nbsp;<a href='./.ipynb_checkpoints/Lib00_Esenciales_IPython_Notebook-checkpoint.ipynb' target='_blank'>Lib00_Esenciales_IPython_Notebook-checkpoint.ipynb</a><br>\n",
        "&nbsp;&nbsp;<a href='./.ipynb_checkpoints/Lib01_Esenciales_IPython_Notebook-checkpoint.ipynb' target='_blank'>Lib01_Esenciales_IPython_Notebook-checkpoint.ipynb</a><br>\n",
        "&nbsp;&nbsp;<a href='./.ipynb_checkpoints/Lib02_AlejandroCabreraLagunes-checkpoint.ipynb' target='_blank'>Lib02_AlejandroCabreraLagunes-checkpoint.ipynb</a><br>\n",
        "&nbsp;&nbsp;<a href='./.ipynb_checkpoints/Lib02_Esenciales_IPython_Notebook-checkpoint.ipynb' target='_blank'>Lib02_Esenciales_IPython_Notebook-checkpoint.ipynb</a><br>\n",
        "&nbsp;&nbsp;<a href='./.ipynb_checkpoints/Lib03_AlejandroCabreraLagunes-checkpoint.ipynb' target='_blank'>Lib03_AlejandroCabreraLagunes-checkpoint.ipynb</a><br>\n",
        "&nbsp;&nbsp;<a href='./.ipynb_checkpoints/Lib03_Esenciales_IPython_Notebook-checkpoint.ipynb' target='_blank'>Lib03_Esenciales_IPython_Notebook-checkpoint.ipynb</a><br>\n",
        "&nbsp;&nbsp;<a href='./.ipynb_checkpoints/Lib04_AlejandroCabreraLagunes-checkpoint.ipynb' target='_blank'>Lib04_AlejandroCabreraLagunes-checkpoint.ipynb</a><br>\n",
        "&nbsp;&nbsp;<a href='./.ipynb_checkpoints/Lib04_Esenciales_IPython_Notebook-checkpoint.ipynb' target='_blank'>Lib04_Esenciales_IPython_Notebook-checkpoint.ipynb</a><br>\n",
        "&nbsp;&nbsp;<a href='./.ipynb_checkpoints/Lib05_AlejandroCabreraLagunes-checkpoint.ipynb' target='_blank'>Lib05_AlejandroCabreraLagunes-checkpoint.ipynb</a><br>\n",
        "&nbsp;&nbsp;<a href='./.ipynb_checkpoints/Lib05_Esenciales_IPython_Notebook-checkpoint.ipynb' target='_blank'>Lib05_Esenciales_IPython_Notebook-checkpoint.ipynb</a><br>\n",
        "&nbsp;&nbsp;<a href='./.ipynb_checkpoints/Lib06_AlejandroCabreraLagunes-checkpoint.ipynb' target='_blank'>Lib06_AlejandroCabreraLagunes-checkpoint.ipynb</a><br>\n",
        "&nbsp;&nbsp;<a href='./.ipynb_checkpoints/Lib06_Esenciales_IPython_Notebook-checkpoint.ipynb' target='_blank'>Lib06_Esenciales_IPython_Notebook-checkpoint.ipynb</a><br>"
       ],
       "metadata": {},
       "output_type": "pyout",
       "prompt_number": 21,
       "text": [
        "./\n",
        "  Archivo_Prueba\n",
        "  Lib00_Esenciales_IPython_Notebook.ipynb\n",
        "  Lib01_Esenciales_IPython_Notebook.ipynb\n",
        "  Lib02_AlejandroCabreraLagunes.ipynb\n",
        "  Lib02_Esenciales_IPython_Notebook.ipynb\n",
        "  Lib03_AlejandroCabreraLagunes.ipynb\n",
        "  Lib03_Esenciales_IPython_Notebook.ipynb\n",
        "  Lib04_AlejandroCabreraLagunes.ipynb\n",
        "  Lib04_Esenciales_IPython_Notebook.ipynb\n",
        "  Lib05_AlejandroCabreraLagunes.ipynb\n",
        "  Lib05_Esenciales_IPython_Notebook.ipynb\n",
        "  Lib06_AlejandroCabreraLagunes.ipynb\n",
        "  Lib06_Esenciales_IPython_Notebook.ipynb\n",
        "  Lib07_Esenciales_IPython_Notebook.ipynb\n",
        "  Lib08_Esenciales_IPython_Notebook.ipynb\n",
        "  Lib09_Esenciales_IPython_Notebook.ipynb\n",
        "  Lib10_Esenciales_IPython_Notebook.ipynb\n",
        "  Lib11_GIT01_RevisionControl_1aEtapa.ipynb\n",
        "  Lib12_GIT02_RevisionControl_2aEtapa.ipynb\n",
        "  Lib13_GIT03_RevisionControl_3aEtapa.ipynb\n",
        "  Lib14_GIT04_RevisionControl_4aEtapa.ipynb\n",
        "  Lib15_GIT05_RevisionControl_Aplicacion.ipynb\n",
        ".\\.ipynb_checkpoints/\n",
        "  Lib00_Esenciales_IPython_Notebook-checkpoint.ipynb\n",
        "  Lib01_Esenciales_IPython_Notebook-checkpoint.ipynb\n",
        "  Lib02_AlejandroCabreraLagunes-checkpoint.ipynb\n",
        "  Lib02_Esenciales_IPython_Notebook-checkpoint.ipynb\n",
        "  Lib03_AlejandroCabreraLagunes-checkpoint.ipynb\n",
        "  Lib03_Esenciales_IPython_Notebook-checkpoint.ipynb\n",
        "  Lib04_AlejandroCabreraLagunes-checkpoint.ipynb\n",
        "  Lib04_Esenciales_IPython_Notebook-checkpoint.ipynb\n",
        "  Lib05_AlejandroCabreraLagunes-checkpoint.ipynb\n",
        "  Lib05_Esenciales_IPython_Notebook-checkpoint.ipynb\n",
        "  Lib06_AlejandroCabreraLagunes-checkpoint.ipynb\n",
        "  Lib06_Esenciales_IPython_Notebook-checkpoint.ipynb"
       ]
      }
     ],
     "prompt_number": 21
    }
   ],
   "metadata": {}
  }
 ]
}