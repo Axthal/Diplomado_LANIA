{
 "metadata": {
  "name": "",
  "signature": "sha256:f53cfd4851ed65decc957c8731063b25ed23c0b58e9a83a3ef96140e225e8f7f"
 },
 "nbformat": 3,
 "nbformat_minor": 0,
 "worksheets": [
  {
   "cells": [
    {
     "cell_type": "code",
     "collapsed": true,
     "input": [
      "%run ../talktools.py"
     ],
     "language": "python",
     "metadata": {
      "slideshow": {
       "slide_type": "skip"
      }
     },
     "outputs": [
      {
       "html": [
        "<link href='http://fonts.googleapis.com/css?family=Alegreya+Sans:100,300,400,500,700,800,900,100italic,300italic,400italic,500italic,700italic,800italic,900italic' rel='stylesheet' type='text/css'>\n",
        "<link href='http://fonts.googleapis.com/css?family=Arvo:400,700,400italic' rel='stylesheet' type='text/css'>\n",
        "<link href='http://fonts.googleapis.com/css?family=PT+Mono' rel='stylesheet' type='text/css'>\n",
        "<link href='http://fonts.googleapis.com/css?family=Shadows+Into+Light' rel='stylesheet' type='text/css'>\n",
        "<link href='http://fonts.googleapis.com/css?family=Nixie+One' rel='stylesheet' type='text/css'>\n",
        "<style>\n",
        "\n",
        "@font-face {\n",
        "    font-family: \"Computer Modern\";\n",
        "    src: url('http://mirrors.ctan.org/fonts/cm-unicode/fonts/otf/cmunss.otf');\n",
        "}\n",
        "\n",
        "#notebook_panel { /* main background */\n",
        "    background: rgb(245,245,245);\n",
        "}\n",
        "\n",
        "div.cell { /* set cell width */\n",
        "    width: 750px;\n",
        "}\n",
        "\n",
        "div #notebook { /* centre the content */\n",
        "    background: #fff; /* white background for content */\n",
        "    width: 1000px;\n",
        "    margin: auto;\n",
        "    padding-left: 0em;\n",
        "}\n",
        "\n",
        "#notebook li { /* More space between bullet points */\n",
        "margin-top:0.8em;\n",
        "}\n",
        "\n",
        "/* draw border around running cells */\n",
        "div.cell.border-box-sizing.code_cell.running { \n",
        "    border: 1px solid #111;\n",
        "}\n",
        "\n",
        "/* Put a solid color box around each cell and its output, visually linking them*/\n",
        "div.cell.code_cell {\n",
        "    background-color: rgb(256,256,256); \n",
        "    border-radius: 0px; \n",
        "    padding: 0.5em;\n",
        "    margin-left:1em;\n",
        "    margin-top: 1em;\n",
        "}\n",
        "\n",
        "div.text_cell_render{\n",
        "    font-family: 'Alegreya Sans' sans-serif;\n",
        "    line-height: 140%;\n",
        "    font-size: 125%;\n",
        "    font-weight: 400;\n",
        "    width:600px;\n",
        "    margin-left:auto;\n",
        "    margin-right:auto;\n",
        "}\n",
        "\n",
        "\n",
        "/* Formatting for header cells */\n",
        ".text_cell_render h1 {\n",
        "    font-family: 'Nixie One', serif;\n",
        "    font-style:regular;\n",
        "    font-weight: 400;    \n",
        "    font-size: 45pt;\n",
        "    line-height: 100%;\n",
        "    color: rgb(0,51,102);\n",
        "    margin-bottom: 0.5em;\n",
        "    margin-top: 0.5em;\n",
        "    display: block;\n",
        "}\t\n",
        ".text_cell_render h2 {\n",
        "    font-family: 'Nixie One', serif;\n",
        "    font-weight: 400;\n",
        "    font-size: 30pt;\n",
        "    line-height: 100%;\n",
        "    color: rgb(0,51,102);\n",
        "    margin-bottom: 0.1em;\n",
        "    margin-top: 0.3em;\n",
        "    display: block;\n",
        "}\t\n",
        "\n",
        ".text_cell_render h3 {\n",
        "    font-family: 'Nixie One', serif;\n",
        "    margin-top:16px;\n",
        "\tfont-size: 22pt;\n",
        "    font-weight: 600;\n",
        "    margin-bottom: 3px;\n",
        "    font-style: regular;\n",
        "    color: rgb(102,102,0);\n",
        "}\n",
        "\n",
        ".text_cell_render h4 {    /*Use this for captions*/\n",
        "    font-family: 'Nixie One', serif;\n",
        "    font-size: 14pt;\n",
        "    text-align: center;\n",
        "    margin-top: 0em;\n",
        "    margin-bottom: 2em;\n",
        "    font-style: regular;\n",
        "}\n",
        "\n",
        ".text_cell_render h5 {  /*Use this for small titles*/\n",
        "    font-family: 'Nixie One', sans-serif;\n",
        "    font-weight: 400;\n",
        "    font-size: 16pt;\n",
        "    color: rgb(163,0,0);\n",
        "    font-style: italic;\n",
        "    margin-bottom: .1em;\n",
        "    margin-top: 0.8em;\n",
        "    display: block;\n",
        "}\n",
        "\n",
        ".text_cell_render h6 { /*use this for copyright note*/\n",
        "    font-family: 'PT Mono', sans-serif;\n",
        "    font-weight: 300;\n",
        "    font-size: 9pt;\n",
        "    line-height: 100%;\n",
        "    color: grey;\n",
        "    margin-bottom: 1px;\n",
        "    margin-top: 1px;\n",
        "}\n",
        "\n",
        ".CodeMirror{\n",
        "        font-family: \"PT Mono\";\n",
        "        font-size: 90%;\n",
        "}\n",
        "\n",
        "</style>\n",
        "<script>\n",
        "    MathJax.Hub.Config({\n",
        "                        TeX: {\n",
        "                           extensions: [\"AMSmath.js\"],\n",
        "                           equationNumbers: { autoNumber: \"AMS\", useLabelIds: true}\n",
        "                           },\n",
        "                tex2jax: {\n",
        "                    inlineMath: [ ['$','$'], [\"\\\\(\",\"\\\\)\"] ],\n",
        "                    displayMath: [ ['$$','$$'], [\"\\\\[\",\"\\\\]\"] ]\n",
        "                },\n",
        "                displayAlign: 'center', // Change this to 'center' to center equations.\n",
        "                \"HTML-CSS\": {\n",
        "                    styles: {'.MathJax_Display': {\"margin\": 4}}\n",
        "                }\n",
        "        });\n",
        "</script>"
       ],
       "metadata": {},
       "output_type": "display_data",
       "text": [
        "<IPython.core.display.HTML at 0xc7eb668>"
       ]
      }
     ],
     "prompt_number": 1
    },
    {
     "cell_type": "markdown",
     "metadata": {
      "slideshow": {
       "slide_type": "slide"
      }
     },
     "source": [
      "# La libreta de IPython (IPython Notebook)\n",
      "\n",
      "La IPython notebook, parte del proyecto de IPython(ipython.org) es un ambiente computacional interactivo web (se ejecuta en un navegador por medio de un servidor web) en el cual se puede combinar la ejecucionde codigo, texto, matematicas, graficas y contenido, en un solo documento.\n",
      "\n",
      "![IPython Notebook](http://ipython.org/_static/ipy_0.13.png)"
     ]
    },
    {
     "cell_type": "code",
     "collapsed": false,
     "input": [
      "HTML('<iframe src=http://ipython.org/ipython-doc/stable/notebook/index.html width=750 height=350></iframe>')"
     ],
     "language": "python",
     "metadata": {},
     "outputs": [
      {
       "html": [
        "<iframe src=http://ipython.org/ipython-doc/stable/notebook/index.html width=750 height=350></iframe>"
       ],
       "metadata": {},
       "output_type": "pyout",
       "prompt_number": 3,
       "text": [
        "<IPython.core.display.HTML at 0x7ff90dee9450>"
       ]
      }
     ],
     "prompt_number": 3
    },
    {
     "cell_type": "markdown",
     "metadata": {
      "slideshow": {
       "slide_type": "slide"
      }
     },
     "source": [
      "## Introducci\u00f3n r\u00e1pida a IPython\n",
      "\n",
      "IPython ofrece una arquitectura para c\u00f3mputo interactivo con:\n",
      "\n",
      "* Terminales de `shells interactivos`.\n",
      "* Una `libreta web` con soporte para c\u00f3digo, texto, expresiones matem\u00e1ticas, gr\u00e1ficas  y contenido digital embebido.\n",
      "* Soporte para `visualizaci\u00f3n interactiva de datos` y el uso de herramientos para GUI.\n",
      "* Int\u00e9rpretes flexibles y embebibles que pueden integrarse en proyectos externos.\n",
      "* Simpleza de uso y herramientas para c\u00f3mputo de paralelo y de alto rendimiento.\n",
      "\n",
      "Algunas de las razones por las que yo uso IPython son:\n",
      "\n",
      "* Un shell `superior` y un reemplazo de la linea de comando del SO\n",
      "* Es posible graficar en una consola o en las Libretas\n",
      "* Funciones llamadas `magic` facilitan el uso del sistema\n",
      "* Eficiencia num\u00e9rica y excelente desempe\u00f1o\n",
      "* Software Libre"
     ]
    },
    {
     "cell_type": "markdown",
     "metadata": {
      "slideshow": {
       "slide_type": "slide"
      }
     },
     "source": [
      "## Configurando el formato visual de la libreta\n",
      "El entorno visual puede configurarse usando estilos en un archivo `css`. Este tambi\u00e9n puede definirlos por medio de perfiles de IPython, sin embargo esto es mas espec\u00edfico y es m\u00e1s f\u00e1cil distribuir los archivos usando este `hack`. La configuracin se encuentra en un archivo separado que se ejecuta al inicio del la libreta con la instruccion `%run talktools.py`."
     ]
    },
    {
     "cell_type": "markdown",
     "metadata": {},
     "source": [
      "##Ejercicio\n",
      "Ejecuten la siguiente libreta y revisen las lineas de codigo del archivo de configuracion `talktools.py`."
     ]
    },
    {
     "cell_type": "code",
     "collapsed": false,
     "input": [
      "%load ../talktools.py"
     ],
     "language": "python",
     "metadata": {},
     "outputs": [],
     "prompt_number": 3
    },
    {
     "cell_type": "code",
     "collapsed": false,
     "input": [
      "\"\"\"\n",
      "\tSimple tools to style an IPython Notebook.\n",
      "\tAuthor: htapia@lania.edu.mx (modified from Fernando Perez <fernando.perez@berkeley.edu>)\n",
      "\"\"\"\n",
      "\n",
      "#-----------------------------------------------------------------------------\n",
      "# Imports\n",
      "#-----------------------------------------------------------------------------\n",
      "\n",
      "# stdlib\n",
      "import os\n",
      "\n",
      "# Third party\n",
      "import numpy as np\n",
      "import pandas as pd\n",
      "import matplotlib.pyplot as plt\n",
      "# %matplotlib inline\n",
      "\n",
      "# From IPython\n",
      "from IPython.display import (HTML, Image, display, YouTubeVideo, Math,\n",
      "                             Audio, clear_output, FileLinks)\n",
      "\n",
      "from IPython.core.pylabtools import figsize\n",
      "\n",
      "#-----------------------------------------------------------------------------\n",
      "# Functions and classes\n",
      "#-----------------------------------------------------------------------------\n",
      "\n",
      "def prefix(url):\n",
      "    prefix = '' if url.startswith('http') else 'http://'\n",
      "    return prefix + url\n",
      "\n",
      "\n",
      "def simple_link(url, name=None):\n",
      "    name = url if name is None else name\n",
      "    url = prefix(url)\n",
      "    return '<a href=\"%s\">%s</a>' % (url, name)\n",
      "\n",
      "\n",
      "def html_link(url, name=None):\n",
      "    return HTML(simple_link(url, name))\n",
      "\n",
      "\n",
      "# Utility functions\n",
      "def website(url, name='auto', width=800, height=450):\n",
      "    html = []\n",
      "    name = url if name == 'auto' else name\n",
      "    if name:\n",
      "        html.extend(['<div sytle=\"margin-bottom:10px\">',\n",
      "                     simple_link(url, name),\n",
      "                     '</div>'] )\n",
      "\n",
      "    html.append('<iframe src=\"%s\"  width=\"%s\" height=\"%s\"></iframe>' % \n",
      "                (prefix(url), width, height))\n",
      "    return HTML('\\n'.join(html))\n",
      "\n",
      "\n",
      "def nbviewer(url, name=None, width=800, height=450):\n",
      "    return website('nbviewer.ipython.org/url/' + url, name, width, height)\n",
      "\n",
      "\n",
      "def Video(fname):\n",
      "    from IPython.display import HTML, display\n",
      "    video = open(fname, \"rb\").read()\n",
      "    video_encoded = video.encode(\"base64\")\n",
      "    video_tag = '''<video controls alt=\"test\" src=\"data:video/x-m4v;base64,{0}\">\n",
      "    </video>'''.format(video_encoded)\n",
      "    return HTML(data=video_tag)    \n",
      "\n",
      "    \n",
      "def plot_audio(fname):\n",
      "    from scipy.io import wavfile\n",
      "    rate, x = wavfile.read(fname)\n",
      "    fig, (ax1, ax2) = plt.subplots(1, 2, figsize=(12, 4))\n",
      "    ax1.plot(x); ax1.set_title('Raw audio signal')\n",
      "    ax2.specgram(x); ax2.set_title('Spectrogram');\n",
      "    plt.show()\n",
      "\n",
      "#loads a customer marplotlib configuration file\n",
      "def CustomPlot():\n",
      "    import json\n",
      "    import matplotlib\n",
      "    from IPython.core.pylabtools import figsize\n",
      "    s = json.load( open(\"../../styles/matplotlibrc.json\") )\n",
      "    matplotlib.rcParams.update(s)\n",
      "    figsize(18, 6) \n",
      "#-----------------------------------------------------------------------------\n",
      "# Load and publish CSS\n",
      "#-----------------------------------------------------------------------------\n",
      "if __name__ == '__main__':\n",
      "    display(HTML(open(\"../../styles/matstyle.css\", \"r\").read()))\n"
     ],
     "language": "python",
     "metadata": {},
     "outputs": []
    },
    {
     "cell_type": "markdown",
     "metadata": {},
     "source": [
      "Ahora veamos algunos [elementos b\u00e1sicos de IPython Notebook.](Lib02_Esenciales_IPython_Notebook.ipynb)"
     ]
    }
   ],
   "metadata": {}
  }
 ]
}