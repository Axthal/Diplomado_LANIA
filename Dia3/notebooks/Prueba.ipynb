{
 "metadata": {
  "name": "",
  "signature": "sha256:3d0c4523ecfa478392a7ae67211bdace03f41a217fca70f766d2a9f98d6e1a45"
 },
 "nbformat": 3,
 "nbformat_minor": 0,
 "worksheets": [
  {
   "cells": [
    {
     "cell_type": "code",
     "collapsed": false,
     "input": [
      "%%cmd\n",
      "adb devices"
     ],
     "language": "python",
     "metadata": {},
     "outputs": [
      {
       "output_type": "stream",
       "stream": "stdout",
       "text": [
        "Microsoft Windows [Versi\ufffdn 6.1.7601]\r\n",
        "Copyright (c) 2009 Microsoft Corporation. Reservados todos los derechos.\r\n",
        "\r\n",
        "C:\\Users\\Axthal\\Documents\\IPython Notebooks\\lania.ipython\\Dia3\\notebooks>adb devices\n",
        "List of devices attached \r\n",
        "0123456789ABCDEF\tdevice\r\n",
        "\r\n",
        "\r\n",
        "C:\\Users\\Axthal\\Documents\\IPython Notebooks\\lania.ipython\\Dia3\\notebooks>"
       ]
      }
     ],
     "prompt_number": 11
    },
    {
     "cell_type": "code",
     "collapsed": false,
     "input": [
      "%%cmd\n",
      "\n",
      "adb forward tcp:9999 tcp:38509"
     ],
     "language": "python",
     "metadata": {},
     "outputs": [
      {
       "output_type": "stream",
       "stream": "stdout",
       "text": [
        "Microsoft Windows [Versi\ufffdn 6.1.7601]\r\n",
        "Copyright (c) 2009 Microsoft Corporation. Reservados todos los derechos.\r\n",
        "\r\n",
        "C:\\Users\\Axthal\\Documents\\IPython Notebooks\\lania.ipython\\Dia3\\notebooks>\n",
        "C:\\Users\\Axthal\\Documents\\IPython Notebooks\\lania.ipython\\Dia3\\notebooks>adb forward tcp:9999 tcp:38509\n",
        "\r\n",
        "C:\\Users\\Axthal\\Documents\\IPython Notebooks\\lania.ipython\\Dia3\\notebooks>"
       ]
      }
     ],
     "prompt_number": 12
    },
    {
     "cell_type": "code",
     "collapsed": false,
     "input": [
      "import android\n",
      "import math\n",
      "import time\n",
      "droide = android.Android()\n",
      "droide.dialogCreateInput(\"1/5 - Tolerancia\", \"# de tolerancia, mientras m\u00e1s alta, mas precisa pero requiere un movimiento m\u00e1s r\u00e1pido\",\"\",\"number\")\n",
      "droide.dialogShow()\n",
      "tolerancia = droide.dialogGetResponse().result['value']\n",
      "droide.dialogCreateInput(\"2/5 - Numero de sacudidas\", \"# m\u00e1ximo de sacudidas para enviar el mensaje\",\"\",\"number\")\n",
      "droide.dialogShow()\n",
      "numeroSacudidas = droide.dialogGetResponse().result['value']\n",
      "droide.dialogCreateInput(\"3/5 - Numero de Celular\", \"# de celular al cual enviar el mensaje\",\"\",\"number\")\n",
      "droide.dialogShow()\n",
      "numeroCel = droide.dialogGetResponse().result['value']\n",
      "droide.dialogCreateInput(\"4/5 - Texto a mandar\", \"Texto que se enviar\u00e1 luego de \"+str(numeroSacudidas)+\" sacudidas\" ,\"\",\"text\")\n",
      "droide.dialogShow()\n",
      "texto = droide.dialogGetResponse().result['value']\n",
      "droide.dialogCreateInput(\"5/5 - Tiempo en espera\", \"Tiempo en que se ejecutar\u00e1 el programa en segundo plano (en segundos)\" ,\"\",\"number\")\n",
      "droide.dialogShow()\n",
      "segundosEnEspera = droide.dialogGetResponse().result['value']"
     ],
     "language": "python",
     "metadata": {},
     "outputs": [],
     "prompt_number": 17
    },
    {
     "cell_type": "code",
     "collapsed": false,
     "input": [
      "import android\n",
      "import math\n",
      "import time\n",
      "droide = android.Android()\n",
      "tiempoActualizaciones = 100  #0.1 segundos\n",
      "tiempoFinal = 20000          #20 segundos\n",
      "tiempoTranscurrido = 0\n",
      "ruido = 4.0\n",
      "droide.startSensingTimed(2,tiempoActualizaciones)\n",
      "datosDelSensor = []\n",
      "noHayDatos = 1\n",
      "cantidadHorizontal = 0\n",
      "cantidadVertical = 0\n",
      "huboMovimiento = 0\n",
      "x = 0.0\n",
      "ultimaX = 0.0\n",
      "deltaX = 0.0\n",
      "y = 0.0\n",
      "ultimaY = 0.0\n",
      "deltaY = 0.0\n",
      "z = 0.0\n",
      "ultimaZ = 0.0\n",
      "deltaZ = 0.0\n",
      "while tiempoTranscurrido <= tiempoFinal:\n",
      "    x = droide.sensorsReadAccelerometer().result[0]\n",
      "    y = droide.sensorsReadAccelerometer().result[1]\n",
      "    z = droide.sensorsReadAccelerometer().result[2]\n",
      "    if noHayDatos == 1:\n",
      "        ultimaX = x\n",
      "        ultimaY = y\n",
      "        ultimaZ = z\n",
      "        noHayDatos = 0\n",
      "        print (\"Entr\u00f3 a no hay datos\")\n",
      "    else:\n",
      "        deltaX = math.fabs( ultimaX - x )\n",
      "        deltaY = math.fabs( ultimaY - y )\n",
      "        deltaZ = math.fabs( ultimaZ - z )\n",
      "        if deltaX < ruido:\n",
      "            deltaX = 0.0\n",
      "        if deltaY < ruido:\n",
      "            deltaY = 0.0\n",
      "        if deltaZ < ruido:\n",
      "            deltaZ = 0.0\n",
      "        if deltaX > deltaY:\n",
      "            cantidadHorizontal += 1\n",
      "            huboMovimiento = 1\n",
      "        elif deltaX < deltaY:\n",
      "            cantidadVertical += 1\n",
      "            huboMovimiento = 1\n",
      "        if (deltaX == 0) and (deltaY == 0) and huboMovimiento == 1:\n",
      "            droide.ttsSpeak(\"Me habeis agitado \"+str(cantidadHorizontal) + \" Horizontalmente y \"+str(cantidadVertical) + \" verticalmente\")\n",
      "            huboMovimiento = 0\n",
      "        ultimaX = x\n",
      "        ultimaY = y\n",
      "        ultimaZ = z\n",
      "        print (\"DeltaX: \" + str(deltaX) + \" | DeltaY: \" + str(deltaY) + \" | DeltaZ: \"+ str(deltaZ))\n",
      "    time.sleep(tiempoActualizaciones/1000.0)\n",
      "    tiempoTranscurrido += tiempoActualizaciones\n",
      "droide.stopSensing()"
     ],
     "language": "python",
     "metadata": {},
     "outputs": [
      {
       "output_type": "stream",
       "stream": "stdout",
       "text": [
        "Entr\u00f3 a no hay datos\n",
        "DeltaX: 0.0 | DeltaY: 0.0 | DeltaZ: 0.0"
       ]
      },
      {
       "output_type": "stream",
       "stream": "stdout",
       "text": [
        "\n",
        "DeltaX: 0.0 | DeltaY: 0.0 | DeltaZ: 0.0"
       ]
      },
      {
       "output_type": "stream",
       "stream": "stdout",
       "text": [
        "\n",
        "DeltaX: 0.0 | DeltaY: 0.0 | DeltaZ: 0.0"
       ]
      },
      {
       "output_type": "stream",
       "stream": "stdout",
       "text": [
        "\n",
        "DeltaX: 0.0 | DeltaY: 0.0 | DeltaZ: 0.0"
       ]
      },
      {
       "output_type": "stream",
       "stream": "stdout",
       "text": [
        "\n",
        "DeltaX: 0.0 | DeltaY: 0.0 | DeltaZ: 0.0"
       ]
      },
      {
       "output_type": "stream",
       "stream": "stdout",
       "text": [
        "\n",
        "DeltaX: 0.0 | DeltaY: 0.0 | DeltaZ: 0.0"
       ]
      },
      {
       "output_type": "stream",
       "stream": "stdout",
       "text": [
        "\n",
        "DeltaX: 0.0 | DeltaY: 0.0 | DeltaZ: 0.0"
       ]
      },
      {
       "output_type": "stream",
       "stream": "stdout",
       "text": [
        "\n",
        "DeltaX: 0.0 | DeltaY: 0.0 | DeltaZ: 0.0"
       ]
      },
      {
       "output_type": "stream",
       "stream": "stdout",
       "text": [
        "\n",
        "DeltaX: 0.0 | DeltaY: 0.0 | DeltaZ: 0.0"
       ]
      },
      {
       "output_type": "stream",
       "stream": "stdout",
       "text": [
        "\n",
        "DeltaX: 0.0 | DeltaY: 0.0 | DeltaZ: 0.0"
       ]
      },
      {
       "output_type": "stream",
       "stream": "stdout",
       "text": [
        "\n",
        "DeltaX: 0.0 | DeltaY: 0.0 | DeltaZ: 0.0"
       ]
      },
      {
       "output_type": "stream",
       "stream": "stdout",
       "text": [
        "\n",
        "DeltaX: 0.0 | DeltaY: 0.0 | DeltaZ: 0.0"
       ]
      },
      {
       "output_type": "stream",
       "stream": "stdout",
       "text": [
        "\n",
        "DeltaX: 0.0 | DeltaY: 0.0 | DeltaZ: 0.0"
       ]
      },
      {
       "output_type": "stream",
       "stream": "stdout",
       "text": [
        "\n",
        "DeltaX: 0.0 | DeltaY: 0.0 | DeltaZ: 0.0"
       ]
      },
      {
       "output_type": "stream",
       "stream": "stdout",
       "text": [
        "\n",
        "DeltaX: 0.0 | DeltaY: 0.0 | DeltaZ: 0.0"
       ]
      },
      {
       "output_type": "stream",
       "stream": "stdout",
       "text": [
        "\n",
        "DeltaX: 0.0 | DeltaY: 0.0 | DeltaZ: 0.0"
       ]
      },
      {
       "output_type": "stream",
       "stream": "stdout",
       "text": [
        "\n",
        "DeltaX: 0.0 | DeltaY: 0.0 | DeltaZ: 0.0"
       ]
      },
      {
       "output_type": "stream",
       "stream": "stdout",
       "text": [
        "\n",
        "DeltaX: 0.0 | DeltaY: 0.0 | DeltaZ: 0.0"
       ]
      },
      {
       "output_type": "stream",
       "stream": "stdout",
       "text": [
        "\n",
        "DeltaX: 0.0 | DeltaY: 0.0 | DeltaZ: 0.0"
       ]
      },
      {
       "output_type": "stream",
       "stream": "stdout",
       "text": [
        "\n",
        "DeltaX: 4.903264 | DeltaY: 0.0 | DeltaZ: 0.0"
       ]
      },
      {
       "output_type": "stream",
       "stream": "stdout",
       "text": [
        "\n",
        "DeltaX: 0.0 | DeltaY: 0.0 | DeltaZ: 0.0"
       ]
      },
      {
       "output_type": "stream",
       "stream": "stdout",
       "text": [
        "\n",
        "DeltaX: 6.588761 | DeltaY: 0.0 | DeltaZ: 0.0"
       ]
      },
      {
       "output_type": "stream",
       "stream": "stdout",
       "text": [
        "\n",
        "DeltaX: 0.0 | DeltaY: 0.0 | DeltaZ: 0.0"
       ]
      },
      {
       "output_type": "stream",
       "stream": "stdout",
       "text": [
        "\n",
        "DeltaX: 9.500074 | DeltaY: 0.0 | DeltaZ: 0.0"
       ]
      },
      {
       "output_type": "stream",
       "stream": "stdout",
       "text": [
        "\n",
        "DeltaX: 0.0 | DeltaY: 0.0 | DeltaZ: 0.0"
       ]
      },
      {
       "output_type": "stream",
       "stream": "stdout",
       "text": [
        "\n",
        "DeltaX: 7.201669 | DeltaY: 0.0 | DeltaZ: 0.0"
       ]
      },
      {
       "output_type": "stream",
       "stream": "stdout",
       "text": [
        "\n",
        "DeltaX: 5.669399 | DeltaY: 0.0 | DeltaZ: 0.0"
       ]
      },
      {
       "output_type": "stream",
       "stream": "stdout",
       "text": [
        "\n",
        "DeltaX: 0.0 | DeltaY: 0.0 | DeltaZ: 0.0"
       ]
      },
      {
       "output_type": "stream",
       "stream": "stdout",
       "text": [
        "\n",
        "DeltaX: 0.0 | DeltaY: 0.0 | DeltaZ: 0.0"
       ]
      },
      {
       "output_type": "stream",
       "stream": "stdout",
       "text": [
        "\n",
        "DeltaX: 0.0 | DeltaY: 0.0 | DeltaZ: 0.0"
       ]
      },
      {
       "output_type": "stream",
       "stream": "stdout",
       "text": [
        "\n",
        "DeltaX: 0.0 | DeltaY: 0.0 | DeltaZ: 0.0"
       ]
      },
      {
       "output_type": "stream",
       "stream": "stdout",
       "text": [
        "\n",
        "DeltaX: 0.0 | DeltaY: 0.0 | DeltaZ: 0.0"
       ]
      },
      {
       "output_type": "stream",
       "stream": "stdout",
       "text": [
        "\n",
        "DeltaX: 0.0 | DeltaY: 0.0 | DeltaZ: 0.0"
       ]
      },
      {
       "output_type": "stream",
       "stream": "stdout",
       "text": [
        "\n",
        "DeltaX: 0.0 | DeltaY: 0.0 | DeltaZ: 0.0"
       ]
      },
      {
       "output_type": "stream",
       "stream": "stdout",
       "text": [
        "\n",
        "DeltaX: 0.0 | DeltaY: 0.0 | DeltaZ: 0.0"
       ]
      },
      {
       "output_type": "stream",
       "stream": "stdout",
       "text": [
        "\n",
        "DeltaX: 0.0 | DeltaY: 0.0 | DeltaZ: 0.0"
       ]
      },
      {
       "output_type": "stream",
       "stream": "stdout",
       "text": [
        "\n",
        "DeltaX: 0.0 | DeltaY: 0.0 | DeltaZ: 0.0"
       ]
      },
      {
       "output_type": "stream",
       "stream": "stdout",
       "text": [
        "\n",
        "DeltaX: 0.0 | DeltaY: 0.0 | DeltaZ: 0.0"
       ]
      },
      {
       "output_type": "stream",
       "stream": "stdout",
       "text": [
        "\n",
        "DeltaX: 0.0 | DeltaY: 0.0 | DeltaZ: 0.0"
       ]
      },
      {
       "output_type": "stream",
       "stream": "stdout",
       "text": [
        "\n",
        "DeltaX: 0.0 | DeltaY: 0.0 | DeltaZ: 0.0"
       ]
      },
      {
       "output_type": "stream",
       "stream": "stdout",
       "text": [
        "\n",
        "DeltaX: 0.0 | DeltaY: 0.0 | DeltaZ: 0.0"
       ]
      },
      {
       "output_type": "stream",
       "stream": "stdout",
       "text": [
        "\n",
        "DeltaX: 0.0 | DeltaY: 0.0 | DeltaZ: 0.0"
       ]
      },
      {
       "output_type": "stream",
       "stream": "stdout",
       "text": [
        "\n",
        "DeltaX: 0.0 | DeltaY: 0.0 | DeltaZ: 0.0"
       ]
      },
      {
       "output_type": "stream",
       "stream": "stdout",
       "text": [
        "\n",
        "DeltaX: 0.0 | DeltaY: 0.0 | DeltaZ: 0.0"
       ]
      },
      {
       "output_type": "stream",
       "stream": "stdout",
       "text": [
        "\n",
        "DeltaX: 0.0 | DeltaY: 0.0 | DeltaZ: 0.0"
       ]
      },
      {
       "output_type": "stream",
       "stream": "stdout",
       "text": [
        "\n",
        "DeltaX: 0.0 | DeltaY: 0.0 | DeltaZ: 0.0"
       ]
      },
      {
       "output_type": "stream",
       "stream": "stdout",
       "text": [
        "\n",
        "DeltaX: 0.0 | DeltaY: 0.0 | DeltaZ: 0.0"
       ]
      },
      {
       "output_type": "stream",
       "stream": "stdout",
       "text": [
        "\n",
        "DeltaX: 0.0 | DeltaY: 0.0 | DeltaZ: 0.0"
       ]
      },
      {
       "output_type": "stream",
       "stream": "stdout",
       "text": [
        "\n",
        "DeltaX: 0.0 | DeltaY: 0.0 | DeltaZ: 0.0"
       ]
      },
      {
       "output_type": "stream",
       "stream": "stdout",
       "text": [
        "\n",
        "DeltaX: 0.0 | DeltaY: 0.0 | DeltaZ: 0.0"
       ]
      },
      {
       "output_type": "stream",
       "stream": "stdout",
       "text": [
        "\n",
        "DeltaX: 0.0 | DeltaY: 0.0 | DeltaZ: 0.0"
       ]
      },
      {
       "output_type": "stream",
       "stream": "stdout",
       "text": [
        "\n",
        "DeltaX: 0.0 | DeltaY: 0.0 | DeltaZ: 0.0"
       ]
      },
      {
       "output_type": "stream",
       "stream": "stdout",
       "text": [
        "\n",
        "DeltaX: 0.0 | DeltaY: 0.0 | DeltaZ: 0.0"
       ]
      },
      {
       "output_type": "stream",
       "stream": "stdout",
       "text": [
        "\n",
        "DeltaX: 0.0 | DeltaY: 0.0 | DeltaZ: 0.0"
       ]
      },
      {
       "output_type": "stream",
       "stream": "stdout",
       "text": [
        "\n",
        "DeltaX: 0.0 | DeltaY: 0.0 | DeltaZ: 0.0"
       ]
      },
      {
       "output_type": "stream",
       "stream": "stdout",
       "text": [
        "\n",
        "DeltaX: 0.0 | DeltaY: 0.0 | DeltaZ: 0.0"
       ]
      },
      {
       "output_type": "stream",
       "stream": "stdout",
       "text": [
        "\n",
        "DeltaX: 0.0 | DeltaY: 0.0 | DeltaZ: 0.0"
       ]
      },
      {
       "output_type": "stream",
       "stream": "stdout",
       "text": [
        "\n",
        "DeltaX: 0.0 | DeltaY: 0.0 | DeltaZ: 0.0"
       ]
      },
      {
       "output_type": "stream",
       "stream": "stdout",
       "text": [
        "\n",
        "DeltaX: 0.0 | DeltaY: 0.0 | DeltaZ: 0.0"
       ]
      },
      {
       "output_type": "stream",
       "stream": "stdout",
       "text": [
        "\n",
        "DeltaX: 0.0 | DeltaY: 0.0 | DeltaZ: 0.0"
       ]
      },
      {
       "output_type": "stream",
       "stream": "stdout",
       "text": [
        "\n",
        "DeltaX: 0.0 | DeltaY: 0.0 | DeltaZ: 0.0"
       ]
      },
      {
       "output_type": "stream",
       "stream": "stdout",
       "text": [
        "\n",
        "DeltaX: 0.0 | DeltaY: 0.0 | DeltaZ: 0.0"
       ]
      },
      {
       "output_type": "stream",
       "stream": "stdout",
       "text": [
        "\n",
        "DeltaX: 0.0 | DeltaY: 0.0 | DeltaZ: 0.0"
       ]
      },
      {
       "output_type": "stream",
       "stream": "stdout",
       "text": [
        "\n",
        "DeltaX: 0.0 | DeltaY: 0.0 | DeltaZ: 0.0"
       ]
      },
      {
       "output_type": "stream",
       "stream": "stdout",
       "text": [
        "\n",
        "DeltaX: 0.0 | DeltaY: 0.0 | DeltaZ: 0.0"
       ]
      },
      {
       "output_type": "stream",
       "stream": "stdout",
       "text": [
        "\n",
        "DeltaX: 0.0 | DeltaY: 0.0 | DeltaZ: 0.0"
       ]
      },
      {
       "output_type": "stream",
       "stream": "stdout",
       "text": [
        "\n",
        "DeltaX: 0.0 | DeltaY: 0.0 | DeltaZ: 0.0"
       ]
      },
      {
       "output_type": "stream",
       "stream": "stdout",
       "text": [
        "\n",
        "DeltaX: 0.0 | DeltaY: 0.0 | DeltaZ: 0.0"
       ]
      },
      {
       "output_type": "stream",
       "stream": "stdout",
       "text": [
        "\n",
        "DeltaX: 0.0 | DeltaY: 0.0 | DeltaZ: 0.0"
       ]
      },
      {
       "output_type": "stream",
       "stream": "stdout",
       "text": [
        "\n",
        "DeltaX: 0.0 | DeltaY: 0.0 | DeltaZ: 0.0"
       ]
      },
      {
       "output_type": "stream",
       "stream": "stdout",
       "text": [
        "\n",
        "DeltaX: 0.0 | DeltaY: 0.0 | DeltaZ: 0.0"
       ]
      },
      {
       "output_type": "stream",
       "stream": "stdout",
       "text": [
        "\n",
        "DeltaX: 0.0 | DeltaY: 0.0 | DeltaZ: 0.0"
       ]
      },
      {
       "output_type": "stream",
       "stream": "stdout",
       "text": [
        "\n",
        "DeltaX: 0.0 | DeltaY: 0.0 | DeltaZ: 0.0"
       ]
      },
      {
       "output_type": "stream",
       "stream": "stdout",
       "text": [
        "\n",
        "DeltaX: 0.0 | DeltaY: 0.0 | DeltaZ: 0.0"
       ]
      },
      {
       "output_type": "stream",
       "stream": "stdout",
       "text": [
        "\n",
        "DeltaX: 0.0 | DeltaY: 0.0 | DeltaZ: 0.0"
       ]
      },
      {
       "output_type": "stream",
       "stream": "stdout",
       "text": [
        "\n",
        "DeltaX: 0.0 | DeltaY: 0.0 | DeltaZ: 0.0"
       ]
      },
      {
       "output_type": "stream",
       "stream": "stdout",
       "text": [
        "\n",
        "DeltaX: 0.0 | DeltaY: 0.0 | DeltaZ: 0.0"
       ]
      },
      {
       "output_type": "stream",
       "stream": "stdout",
       "text": [
        "\n",
        "DeltaX: 0.0 | DeltaY: 0.0 | DeltaZ: 0.0"
       ]
      },
      {
       "output_type": "stream",
       "stream": "stdout",
       "text": [
        "\n",
        "DeltaX: 0.0 | DeltaY: 0.0 | DeltaZ: 0.0"
       ]
      },
      {
       "output_type": "stream",
       "stream": "stdout",
       "text": [
        "\n",
        "DeltaX: 0.0 | DeltaY: 0.0 | DeltaZ: 0.0"
       ]
      },
      {
       "output_type": "stream",
       "stream": "stdout",
       "text": [
        "\n",
        "DeltaX: 0.0 | DeltaY: 0.0 | DeltaZ: 0.0"
       ]
      },
      {
       "output_type": "stream",
       "stream": "stdout",
       "text": [
        "\n",
        "DeltaX: 0.0 | DeltaY: 0.0 | DeltaZ: 0.0"
       ]
      },
      {
       "output_type": "stream",
       "stream": "stdout",
       "text": [
        "\n",
        "DeltaX: 0.0 | DeltaY: 0.0 | DeltaZ: 0.0"
       ]
      },
      {
       "output_type": "stream",
       "stream": "stdout",
       "text": [
        "\n",
        "DeltaX: 0.0 | DeltaY: 0.0 | DeltaZ: 0.0"
       ]
      },
      {
       "output_type": "stream",
       "stream": "stdout",
       "text": [
        "\n",
        "DeltaX: 0.0 | DeltaY: 0.0 | DeltaZ: 0.0"
       ]
      },
      {
       "output_type": "stream",
       "stream": "stdout",
       "text": [
        "\n",
        "DeltaX: 0.0 | DeltaY: 0.0 | DeltaZ: 0.0"
       ]
      },
      {
       "output_type": "stream",
       "stream": "stdout",
       "text": [
        "\n",
        "DeltaX: 0.0 | DeltaY: 0.0 | DeltaZ: 0.0"
       ]
      },
      {
       "output_type": "stream",
       "stream": "stdout",
       "text": [
        "\n",
        "DeltaX: 0.0 | DeltaY: 0.0 | DeltaZ: 0.0"
       ]
      },
      {
       "output_type": "stream",
       "stream": "stdout",
       "text": [
        "\n",
        "DeltaX: 0.0 | DeltaY: 0.0 | DeltaZ: 0.0"
       ]
      },
      {
       "output_type": "stream",
       "stream": "stdout",
       "text": [
        "\n",
        "DeltaX: 0.0 | DeltaY: 0.0 | DeltaZ: 0.0"
       ]
      },
      {
       "output_type": "stream",
       "stream": "stdout",
       "text": [
        "\n",
        "DeltaX: 0.0 | DeltaY: 0.0 | DeltaZ: 0.0"
       ]
      },
      {
       "output_type": "stream",
       "stream": "stdout",
       "text": [
        "\n",
        "DeltaX: 0.0 | DeltaY: 0.0 | DeltaZ: 0.0"
       ]
      },
      {
       "output_type": "stream",
       "stream": "stdout",
       "text": [
        "\n",
        "DeltaX: 0.0 | DeltaY: 0.0 | DeltaZ: 0.0"
       ]
      },
      {
       "output_type": "stream",
       "stream": "stdout",
       "text": [
        "\n",
        "DeltaX: 0.0 | DeltaY: 0.0 | DeltaZ: 0.0"
       ]
      },
      {
       "output_type": "stream",
       "stream": "stdout",
       "text": [
        "\n",
        "DeltaX: 0.0 | DeltaY: 0.0 | DeltaZ: 0.0"
       ]
      },
      {
       "output_type": "stream",
       "stream": "stdout",
       "text": [
        "\n",
        "DeltaX: 0.0 | DeltaY: 0.0 | DeltaZ: 0.0"
       ]
      },
      {
       "output_type": "stream",
       "stream": "stdout",
       "text": [
        "\n",
        "DeltaX: 0.0 | DeltaY: 0.0 | DeltaZ: 0.0"
       ]
      },
      {
       "output_type": "stream",
       "stream": "stdout",
       "text": [
        "\n",
        "DeltaX: 0.0 | DeltaY: 0.0 | DeltaZ: 0.0"
       ]
      },
      {
       "output_type": "stream",
       "stream": "stdout",
       "text": [
        "\n",
        "DeltaX: 0.0 | DeltaY: 0.0 | DeltaZ: 0.0"
       ]
      },
      {
       "output_type": "stream",
       "stream": "stdout",
       "text": [
        "\n",
        "DeltaX: 0.0 | DeltaY: 0.0 | DeltaZ: 0.0"
       ]
      },
      {
       "output_type": "stream",
       "stream": "stdout",
       "text": [
        "\n",
        "DeltaX: 0.0 | DeltaY: 0.0 | DeltaZ: 0.0"
       ]
      },
      {
       "output_type": "stream",
       "stream": "stdout",
       "text": [
        "\n",
        "DeltaX: 0.0 | DeltaY: 0.0 | DeltaZ: 0.0"
       ]
      },
      {
       "output_type": "stream",
       "stream": "stdout",
       "text": [
        "\n",
        "DeltaX: 0.0 | DeltaY: 0.0 | DeltaZ: 0.0"
       ]
      },
      {
       "output_type": "stream",
       "stream": "stdout",
       "text": [
        "\n",
        "DeltaX: 0.0 | DeltaY: 0.0 | DeltaZ: 0.0"
       ]
      },
      {
       "output_type": "stream",
       "stream": "stdout",
       "text": [
        "\n",
        "DeltaX: 0.0 | DeltaY: 0.0 | DeltaZ: 0.0"
       ]
      },
      {
       "output_type": "stream",
       "stream": "stdout",
       "text": [
        "\n",
        "DeltaX: 0.0 | DeltaY: 0.0 | DeltaZ: 0.0"
       ]
      },
      {
       "output_type": "stream",
       "stream": "stdout",
       "text": [
        "\n",
        "DeltaX: 0.0 | DeltaY: 0.0 | DeltaZ: 0.0"
       ]
      },
      {
       "output_type": "stream",
       "stream": "stdout",
       "text": [
        "\n",
        "DeltaX: 0.0 | DeltaY: 0.0 | DeltaZ: 0.0"
       ]
      },
      {
       "output_type": "stream",
       "stream": "stdout",
       "text": [
        "\n",
        "DeltaX: 0.0 | DeltaY: 0.0 | DeltaZ: 0.0"
       ]
      },
      {
       "output_type": "stream",
       "stream": "stdout",
       "text": [
        "\n",
        "DeltaX: 0.0 | DeltaY: 0.0 | DeltaZ: 0.0"
       ]
      },
      {
       "output_type": "stream",
       "stream": "stdout",
       "text": [
        "\n",
        "DeltaX: 0.0 | DeltaY: 0.0 | DeltaZ: 0.0"
       ]
      },
      {
       "output_type": "stream",
       "stream": "stdout",
       "text": [
        "\n",
        "DeltaX: 0.0 | DeltaY: 0.0 | DeltaZ: 0.0"
       ]
      },
      {
       "output_type": "stream",
       "stream": "stdout",
       "text": [
        "\n",
        "DeltaX: 0.0 | DeltaY: 0.0 | DeltaZ: 0.0"
       ]
      },
      {
       "output_type": "stream",
       "stream": "stdout",
       "text": [
        "\n",
        "DeltaX: 0.0 | DeltaY: 0.0 | DeltaZ: 0.0"
       ]
      },
      {
       "output_type": "stream",
       "stream": "stdout",
       "text": [
        "\n",
        "DeltaX: 0.0 | DeltaY: 0.0 | DeltaZ: 0.0"
       ]
      },
      {
       "output_type": "stream",
       "stream": "stdout",
       "text": [
        "\n",
        "DeltaX: 0.0 | DeltaY: 0.0 | DeltaZ: 0.0"
       ]
      },
      {
       "output_type": "stream",
       "stream": "stdout",
       "text": [
        "\n",
        "DeltaX: 0.0 | DeltaY: 0.0 | DeltaZ: 0.0"
       ]
      },
      {
       "output_type": "stream",
       "stream": "stdout",
       "text": [
        "\n",
        "DeltaX: 0.0 | DeltaY: 0.0 | DeltaZ: 0.0"
       ]
      },
      {
       "output_type": "stream",
       "stream": "stdout",
       "text": [
        "\n",
        "DeltaX: 0.0 | DeltaY: 0.0 | DeltaZ: 0.0"
       ]
      },
      {
       "output_type": "stream",
       "stream": "stdout",
       "text": [
        "\n",
        "DeltaX: 0.0 | DeltaY: 0.0 | DeltaZ: 0.0"
       ]
      },
      {
       "output_type": "stream",
       "stream": "stdout",
       "text": [
        "\n",
        "DeltaX: 0.0 | DeltaY: 0.0 | DeltaZ: 0.0"
       ]
      },
      {
       "output_type": "stream",
       "stream": "stdout",
       "text": [
        "\n",
        "DeltaX: 0.0 | DeltaY: 0.0 | DeltaZ: 0.0"
       ]
      },
      {
       "output_type": "stream",
       "stream": "stdout",
       "text": [
        "\n",
        "DeltaX: 0.0 | DeltaY: 0.0 | DeltaZ: 0.0"
       ]
      },
      {
       "output_type": "stream",
       "stream": "stdout",
       "text": [
        "\n",
        "DeltaX: 0.0 | DeltaY: 0.0 | DeltaZ: 0.0"
       ]
      },
      {
       "output_type": "stream",
       "stream": "stdout",
       "text": [
        "\n",
        "DeltaX: 0.0 | DeltaY: 0.0 | DeltaZ: 0.0"
       ]
      },
      {
       "output_type": "stream",
       "stream": "stdout",
       "text": [
        "\n",
        "DeltaX: 0.0 | DeltaY: 0.0 | DeltaZ: 0.0"
       ]
      },
      {
       "output_type": "stream",
       "stream": "stdout",
       "text": [
        "\n",
        "DeltaX: 0.0 | DeltaY: 0.0 | DeltaZ: 0.0"
       ]
      },
      {
       "output_type": "stream",
       "stream": "stdout",
       "text": [
        "\n",
        "DeltaX: 0.0 | DeltaY: 0.0 | DeltaZ: 0.0"
       ]
      },
      {
       "output_type": "stream",
       "stream": "stdout",
       "text": [
        "\n",
        "DeltaX: 0.0 | DeltaY: 0.0 | DeltaZ: 0.0"
       ]
      },
      {
       "output_type": "stream",
       "stream": "stdout",
       "text": [
        "\n",
        "DeltaX: 0.0 | DeltaY: 0.0 | DeltaZ: 0.0"
       ]
      },
      {
       "output_type": "stream",
       "stream": "stdout",
       "text": [
        "\n",
        "DeltaX: 0.0 | DeltaY: 0.0 | DeltaZ: 0.0"
       ]
      },
      {
       "output_type": "stream",
       "stream": "stdout",
       "text": [
        "\n",
        "DeltaX: 0.0 | DeltaY: 0.0 | DeltaZ: 0.0"
       ]
      },
      {
       "output_type": "stream",
       "stream": "stdout",
       "text": [
        "\n",
        "DeltaX: 0.0 | DeltaY: 0.0 | DeltaZ: 0.0"
       ]
      },
      {
       "output_type": "stream",
       "stream": "stdout",
       "text": [
        "\n",
        "DeltaX: 0.0 | DeltaY: 0.0 | DeltaZ: 0.0"
       ]
      },
      {
       "output_type": "stream",
       "stream": "stdout",
       "text": [
        "\n",
        "DeltaX: 0.0 | DeltaY: 0.0 | DeltaZ: 0.0"
       ]
      },
      {
       "output_type": "stream",
       "stream": "stdout",
       "text": [
        "\n",
        "DeltaX: 0.0 | DeltaY: 0.0 | DeltaZ: 0.0"
       ]
      },
      {
       "output_type": "stream",
       "stream": "stdout",
       "text": [
        "\n",
        "DeltaX: 0.0 | DeltaY: 0.0 | DeltaZ: 0.0"
       ]
      },
      {
       "output_type": "stream",
       "stream": "stdout",
       "text": [
        "\n",
        "DeltaX: 0.0 | DeltaY: 0.0 | DeltaZ: 0.0"
       ]
      },
      {
       "output_type": "stream",
       "stream": "stdout",
       "text": [
        "\n",
        "DeltaX: 0.0 | DeltaY: 0.0 | DeltaZ: 0.0"
       ]
      },
      {
       "output_type": "stream",
       "stream": "stdout",
       "text": [
        "\n",
        "DeltaX: 0.0 | DeltaY: 0.0 | DeltaZ: 0.0"
       ]
      },
      {
       "output_type": "stream",
       "stream": "stdout",
       "text": [
        "\n",
        "DeltaX: 0.0 | DeltaY: 0.0 | DeltaZ: 0.0"
       ]
      },
      {
       "output_type": "stream",
       "stream": "stdout",
       "text": [
        "\n",
        "DeltaX: 0.0 | DeltaY: 0.0 | DeltaZ: 0.0"
       ]
      },
      {
       "output_type": "stream",
       "stream": "stdout",
       "text": [
        "\n",
        "DeltaX: 0.0 | DeltaY: 0.0 | DeltaZ: 0.0"
       ]
      },
      {
       "output_type": "stream",
       "stream": "stdout",
       "text": [
        "\n",
        "DeltaX: 0.0 | DeltaY: 0.0 | DeltaZ: 0.0"
       ]
      },
      {
       "output_type": "stream",
       "stream": "stdout",
       "text": [
        "\n",
        "DeltaX: 0.0 | DeltaY: 0.0 | DeltaZ: 0.0"
       ]
      },
      {
       "output_type": "stream",
       "stream": "stdout",
       "text": [
        "\n",
        "DeltaX: 0.0 | DeltaY: 0.0 | DeltaZ: 0.0"
       ]
      },
      {
       "output_type": "stream",
       "stream": "stdout",
       "text": [
        "\n",
        "DeltaX: 0.0 | DeltaY: 0.0 | DeltaZ: 0.0"
       ]
      },
      {
       "output_type": "stream",
       "stream": "stdout",
       "text": [
        "\n",
        "DeltaX: 0.0 | DeltaY: 0.0 | DeltaZ: 0.0"
       ]
      },
      {
       "output_type": "stream",
       "stream": "stdout",
       "text": [
        "\n",
        "DeltaX: 0.0 | DeltaY: 0.0 | DeltaZ: 0.0"
       ]
      },
      {
       "output_type": "stream",
       "stream": "stdout",
       "text": [
        "\n",
        "DeltaX: 0.0 | DeltaY: 0.0 | DeltaZ: 0.0"
       ]
      },
      {
       "output_type": "stream",
       "stream": "stdout",
       "text": [
        "\n",
        "DeltaX: 0.0 | DeltaY: 0.0 | DeltaZ: 0.0"
       ]
      },
      {
       "output_type": "stream",
       "stream": "stdout",
       "text": [
        "\n",
        "DeltaX: 0.0 | DeltaY: 0.0 | DeltaZ: 0.0"
       ]
      },
      {
       "output_type": "stream",
       "stream": "stdout",
       "text": [
        "\n",
        "DeltaX: 0.0 | DeltaY: 0.0 | DeltaZ: 0.0"
       ]
      },
      {
       "output_type": "stream",
       "stream": "stdout",
       "text": [
        "\n",
        "DeltaX: 0.0 | DeltaY: 0.0 | DeltaZ: 0.0"
       ]
      },
      {
       "output_type": "stream",
       "stream": "stdout",
       "text": [
        "\n",
        "DeltaX: 0.0 | DeltaY: 0.0 | DeltaZ: 0.0"
       ]
      },
      {
       "output_type": "stream",
       "stream": "stdout",
       "text": [
        "\n",
        "DeltaX: 0.0 | DeltaY: 0.0 | DeltaZ: 0.0"
       ]
      },
      {
       "output_type": "stream",
       "stream": "stdout",
       "text": [
        "\n",
        "DeltaX: 0.0 | DeltaY: 0.0 | DeltaZ: 0.0"
       ]
      },
      {
       "output_type": "stream",
       "stream": "stdout",
       "text": [
        "\n",
        "DeltaX: 0.0 | DeltaY: 0.0 | DeltaZ: 0.0"
       ]
      },
      {
       "output_type": "stream",
       "stream": "stdout",
       "text": [
        "\n",
        "DeltaX: 0.0 | DeltaY: 0.0 | DeltaZ: 0.0"
       ]
      },
      {
       "output_type": "stream",
       "stream": "stdout",
       "text": [
        "\n",
        "DeltaX: 0.0 | DeltaY: 0.0 | DeltaZ: 0.0"
       ]
      },
      {
       "output_type": "stream",
       "stream": "stdout",
       "text": [
        "\n",
        "DeltaX: 0.0 | DeltaY: 0.0 | DeltaZ: 0.0"
       ]
      },
      {
       "output_type": "stream",
       "stream": "stdout",
       "text": [
        "\n",
        "DeltaX: 0.0 | DeltaY: 0.0 | DeltaZ: 0.0"
       ]
      },
      {
       "output_type": "stream",
       "stream": "stdout",
       "text": [
        "\n",
        "DeltaX: 0.0 | DeltaY: 0.0 | DeltaZ: 0.0"
       ]
      },
      {
       "output_type": "stream",
       "stream": "stdout",
       "text": [
        "\n",
        "DeltaX: 0.0 | DeltaY: 0.0 | DeltaZ: 0.0"
       ]
      },
      {
       "output_type": "stream",
       "stream": "stdout",
       "text": [
        "\n",
        "DeltaX: 0.0 | DeltaY: 0.0 | DeltaZ: 0.0"
       ]
      },
      {
       "output_type": "stream",
       "stream": "stdout",
       "text": [
        "\n",
        "DeltaX: 0.0 | DeltaY: 0.0 | DeltaZ: 0.0"
       ]
      },
      {
       "output_type": "stream",
       "stream": "stdout",
       "text": [
        "\n",
        "DeltaX: 0.0 | DeltaY: 0.0 | DeltaZ: 0.0"
       ]
      },
      {
       "output_type": "stream",
       "stream": "stdout",
       "text": [
        "\n",
        "DeltaX: 0.0 | DeltaY: 0.0 | DeltaZ: 0.0"
       ]
      },
      {
       "output_type": "stream",
       "stream": "stdout",
       "text": [
        "\n",
        "DeltaX: 0.0 | DeltaY: 0.0 | DeltaZ: 0.0"
       ]
      },
      {
       "output_type": "stream",
       "stream": "stdout",
       "text": [
        "\n",
        "DeltaX: 0.0 | DeltaY: 0.0 | DeltaZ: 0.0"
       ]
      },
      {
       "output_type": "stream",
       "stream": "stdout",
       "text": [
        "\n",
        "DeltaX: 0.0 | DeltaY: 0.0 | DeltaZ: 0.0"
       ]
      },
      {
       "output_type": "stream",
       "stream": "stdout",
       "text": [
        "\n",
        "DeltaX: 0.0 | DeltaY: 0.0 | DeltaZ: 0.0"
       ]
      },
      {
       "output_type": "stream",
       "stream": "stdout",
       "text": [
        "\n",
        "DeltaX: 0.0 | DeltaY: 0.0 | DeltaZ: 0.0"
       ]
      },
      {
       "output_type": "stream",
       "stream": "stdout",
       "text": [
        "\n",
        "DeltaX: 0.0 | DeltaY: 0.0 | DeltaZ: 0.0"
       ]
      },
      {
       "output_type": "stream",
       "stream": "stdout",
       "text": [
        "\n",
        "DeltaX: 0.0 | DeltaY: 0.0 | DeltaZ: 0.0"
       ]
      },
      {
       "output_type": "stream",
       "stream": "stdout",
       "text": [
        "\n",
        "DeltaX: 0.0 | DeltaY: 0.0 | DeltaZ: 0.0"
       ]
      },
      {
       "output_type": "stream",
       "stream": "stdout",
       "text": [
        "\n",
        "DeltaX: 0.0 | DeltaY: 0.0 | DeltaZ: 0.0"
       ]
      },
      {
       "output_type": "stream",
       "stream": "stdout",
       "text": [
        "\n",
        "DeltaX: 0.0 | DeltaY: 0.0 | DeltaZ: 0.0"
       ]
      },
      {
       "output_type": "stream",
       "stream": "stdout",
       "text": [
        "\n",
        "DeltaX: 0.0 | DeltaY: 0.0 | DeltaZ: 0.0"
       ]
      },
      {
       "output_type": "stream",
       "stream": "stdout",
       "text": [
        "\n",
        "DeltaX: 0.0 | DeltaY: 0.0 | DeltaZ: 0.0"
       ]
      },
      {
       "output_type": "stream",
       "stream": "stdout",
       "text": [
        "\n",
        "DeltaX: 0.0 | DeltaY: 0.0 | DeltaZ: 0.0"
       ]
      },
      {
       "output_type": "stream",
       "stream": "stdout",
       "text": [
        "\n",
        "DeltaX: 0.0 | DeltaY: 0.0 | DeltaZ: 0.0"
       ]
      },
      {
       "output_type": "stream",
       "stream": "stdout",
       "text": [
        "\n",
        "DeltaX: 0.0 | DeltaY: 0.0 | DeltaZ: 0.0"
       ]
      },
      {
       "output_type": "stream",
       "stream": "stdout",
       "text": [
        "\n",
        "DeltaX: 0.0 | DeltaY: 0.0 | DeltaZ: 0.0"
       ]
      },
      {
       "output_type": "stream",
       "stream": "stdout",
       "text": [
        "\n",
        "DeltaX: 0.0 | DeltaY: 0.0 | DeltaZ: 0.0"
       ]
      },
      {
       "output_type": "stream",
       "stream": "stdout",
       "text": [
        "\n",
        "DeltaX: 0.0 | DeltaY: 0.0 | DeltaZ: 0.0"
       ]
      },
      {
       "output_type": "stream",
       "stream": "stdout",
       "text": [
        "\n",
        "DeltaX: 0.0 | DeltaY: 0.0 | DeltaZ: 0.0"
       ]
      },
      {
       "output_type": "stream",
       "stream": "stdout",
       "text": [
        "\n",
        "DeltaX: 0.0 | DeltaY: 0.0 | DeltaZ: 0.0"
       ]
      },
      {
       "output_type": "stream",
       "stream": "stdout",
       "text": [
        "\n",
        "DeltaX: 0.0 | DeltaY: 0.0 | DeltaZ: 0.0"
       ]
      },
      {
       "output_type": "stream",
       "stream": "stdout",
       "text": [
        "\n",
        "DeltaX: 0.0 | DeltaY: 0.0 | DeltaZ: 0.0"
       ]
      },
      {
       "output_type": "stream",
       "stream": "stdout",
       "text": [
        "\n",
        "DeltaX: 0.0 | DeltaY: 0.0 | DeltaZ: 0.0"
       ]
      },
      {
       "output_type": "stream",
       "stream": "stdout",
       "text": [
        "\n",
        "DeltaX: 0.0 | DeltaY: 0.0 | DeltaZ: 0.0"
       ]
      },
      {
       "output_type": "stream",
       "stream": "stdout",
       "text": [
        "\n",
        "DeltaX: 0.0 | DeltaY: 0.0 | DeltaZ: 0.0"
       ]
      },
      {
       "output_type": "stream",
       "stream": "stdout",
       "text": [
        "\n",
        "DeltaX: 0.0 | DeltaY: 0.0 | DeltaZ: 0.0"
       ]
      },
      {
       "output_type": "stream",
       "stream": "stdout",
       "text": [
        "\n",
        "DeltaX: 0.0 | DeltaY: 0.0 | DeltaZ: 0.0"
       ]
      },
      {
       "output_type": "stream",
       "stream": "stdout",
       "text": [
        "\n",
        "DeltaX: 0.0 | DeltaY: 0.0 | DeltaZ: 0.0"
       ]
      },
      {
       "output_type": "stream",
       "stream": "stdout",
       "text": [
        "\n",
        "DeltaX: 0.0 | DeltaY: 0.0 | DeltaZ: 0.0"
       ]
      },
      {
       "output_type": "stream",
       "stream": "stdout",
       "text": [
        "\n",
        "DeltaX: 0.0 | DeltaY: 0.0 | DeltaZ: 0.0"
       ]
      },
      {
       "output_type": "stream",
       "stream": "stdout",
       "text": [
        "\n",
        "DeltaX: 0.0 | DeltaY: 0.0 | DeltaZ: 0.0"
       ]
      },
      {
       "output_type": "stream",
       "stream": "stdout",
       "text": [
        "\n",
        "DeltaX: 0.0 | DeltaY: 0.0 | DeltaZ: 0.0"
       ]
      },
      {
       "output_type": "stream",
       "stream": "stdout",
       "text": [
        "\n"
       ]
      },
      {
       "metadata": {},
       "output_type": "pyout",
       "prompt_number": 59,
       "text": [
        "Result(id=608, result=None, error=None)"
       ]
      }
     ],
     "prompt_number": 59
    },
    {
     "cell_type": "code",
     "collapsed": false,
     "input": [
      "import android\n",
      "import math\n",
      "import time\n",
      "droide = android.Android()\n",
      "def configuracion():\n",
      "    droide.dialogCreateInput(\"1/5 - Tolerancia\", \"# de tolerancia, mientras m\u00e1s alta, mas precisa pero requiere un movimiento m\u00e1s r\u00e1pido\",\"\",\"number\")\n",
      "    droide.dialogShow()\n",
      "    tolerancia = droide.dialogGetResponse().result['value']\n",
      "    droide.dialogCreateInput(\"2/5 - Numero de sacudidas\", \"# m\u00e1ximo de sacudidas para enviar el mensaje\",\"\",\"number\")\n",
      "    droide.dialogShow()\n",
      "    numeroSacudidas = droide.dialogGetResponse().result['value']\n",
      "    droide.dialogCreateInput(\"3/5 - Numero de Celular\", \"# de celular al cual enviar el mensaje\",\"\",\"number\")\n",
      "    droide.dialogShow()\n",
      "    numeroCel = droide.dialogGetResponse().result['value']\n",
      "    droide.dialogCreateInput(\"4/5 - Texto a mandar\", \"Texto que se enviar\u00e1 luego de \"+str(numeroSacudidas)+\" sacudidas\" ,\"\",\"text\")\n",
      "    droide.dialogShow()\n",
      "    texto = droide.dialogGetResponse().result['value']\n",
      "    droide.dialogCreateInput(\"5/5 - Tiempo en espera\", \"Tiempo en que se ejecutar\u00e1 el programa en segundo plano (en segundos)\" ,\"\",\"number\")\n",
      "    droide.dialogShow()\n",
      "    segundosEnEspera = droide.dialogGetResponse().result['value']\n",
      "\n",
      "def comienzaEscucha():\n",
      "    tiempoActualizaciones = 50  #0.05 segundos\n",
      "    tiempoFinal = 20000          #20 segundos\n",
      "    tiempoTranscurrido = 0\n",
      "    ruido = 3.5\n",
      "    droide.startSensingTimed(2,tiempoActualizaciones)\n",
      "    datosDelSensor = []\n",
      "    noHayDatos = True\n",
      "    cantidadHorizontal = 0\n",
      "    cantidadVertical = 0\n",
      "    x = 0.0\n",
      "    ultimaX = 0.0\n",
      "    deltaX = 0.0\n",
      "    y = 0.0\n",
      "    ultimaY = 0.0\n",
      "    deltaY = 0.0\n",
      "    z = 0.0\n",
      "    ultimaZ = 0.0\n",
      "    deltaZ = 0.0\n",
      "    while tiempoTranscurrido <= tiempoFinal:\n",
      "        x = droide.sensorsReadAccelerometer().result[0]\n",
      "        y = droide.sensorsReadAccelerometer().result[1]\n",
      "        z = droide.sensorsReadAccelerometer().result[2]\n",
      "        if noHayDatos or ultimaX == None:\n",
      "            ultimaX = x\n",
      "            ultimaY = y\n",
      "            ultimaZ = z\n",
      "            noHayDatos = False\n",
      "            print (\"Entr\u00f3 a no hay datos\")\n",
      "            print (ultimaX)\n",
      "            print (ultimaY)\n",
      "            print (ultimaZ)\n",
      "            print (noHayDatos)\n",
      "        else:\n",
      "            deltaX = math.fabs( x - ultimaX )\n",
      "            deltaY = math.fabs( y - ultimaY )\n",
      "            deltaZ = math.fabs( z - ultimaZ )\n",
      "            if deltaX < ruido:\n",
      "                deltaX = 0.0\n",
      "            if deltaY < ruido:\n",
      "                deltaY = 0.0\n",
      "            if deltaZ < ruido:\n",
      "                deltaZ = 0.0\n",
      "            if deltaX > deltaY:\n",
      "                cantidadHorizontal += 1\n",
      "                cantidadVertical = 0\n",
      "            elif deltaX < deltaY:\n",
      "                cantidadVertical += 1\n",
      "                cantidadHorizontal = 0\n",
      "            if (cantidadHorizontal == 6):\n",
      "                    cantidadVertical = 0\n",
      "                    cantidadHorizontal = 0\n",
      "                    droide.ttsSpeak(\"6 veces horizontalmente\")\n",
      "            elif (cantidadVertical == 6):\n",
      "                    cantidadHorizontal = 0\n",
      "                    cantidadVertical = 0\n",
      "                    droide.ttsSpeak(\"6 veces verticalmente\")\n",
      "            ultimaX = x\n",
      "            ultimaY = y\n",
      "            ultimaZ = z\n",
      "            print (\"DeltaX: \" + str(deltaX) + \" | DeltaY: \" + str(deltaY) + \" | DeltaZ: \"+ str(deltaZ))\n",
      "        time.sleep(tiempoActualizaciones/1000.0)\n",
      "        tiempoTranscurrido += tiempoActualizaciones\n",
      "\n",
      "\n",
      "comienzaEscucha()\n",
      "droide.stopSensing()\n",
      "\n",
      "\n"
     ],
     "language": "python",
     "metadata": {},
     "outputs": [
      {
       "output_type": "stream",
       "stream": "stdout",
       "text": [
        "Entr\u00f3 a no hay datos\n",
        "None\n",
        "1.53227\n",
        "9.040393\n",
        "False\n",
        "Entr\u00f3 a no hay datos"
       ]
      },
      {
       "output_type": "stream",
       "stream": "stdout",
       "text": [
        "\n",
        "-1.991951\n",
        "1.53227\n",
        "8.887166\n",
        "False\n",
        "DeltaX: 0.0 | DeltaY: 0.0 | DeltaZ: 0.0"
       ]
      },
      {
       "output_type": "stream",
       "stream": "stdout",
       "text": [
        "\n",
        "DeltaX: 0.0 | DeltaY: 0.0 | DeltaZ: 0.0"
       ]
      },
      {
       "output_type": "stream",
       "stream": "stdout",
       "text": [
        "\n",
        "DeltaX: 0.0 | DeltaY: 0.0 | DeltaZ: 0.0"
       ]
      },
      {
       "output_type": "stream",
       "stream": "stdout",
       "text": [
        "\n",
        "DeltaX: 0.0 | DeltaY: 0.0 | DeltaZ: 0.0"
       ]
      },
      {
       "output_type": "stream",
       "stream": "stdout",
       "text": [
        "\n",
        "DeltaX: 0.0 | DeltaY: 0.0 | DeltaZ: 0.0"
       ]
      },
      {
       "output_type": "stream",
       "stream": "stdout",
       "text": [
        "\n",
        "DeltaX: 0.0 | DeltaY: 0.0 | DeltaZ: 0.0"
       ]
      },
      {
       "output_type": "stream",
       "stream": "stdout",
       "text": [
        "\n",
        "DeltaX: 0.0 | DeltaY: 0.0 | DeltaZ: 0.0"
       ]
      },
      {
       "output_type": "stream",
       "stream": "stdout",
       "text": [
        "\n",
        "DeltaX: 0.0 | DeltaY: 0.0 | DeltaZ: 0.0"
       ]
      },
      {
       "output_type": "stream",
       "stream": "stdout",
       "text": [
        "\n",
        "DeltaX: 0.0 | DeltaY: 0.0 | DeltaZ: 0.0"
       ]
      },
      {
       "output_type": "stream",
       "stream": "stdout",
       "text": [
        "\n",
        "DeltaX: 0.0 | DeltaY: 0.0 | DeltaZ: 0.0"
       ]
      },
      {
       "output_type": "stream",
       "stream": "stdout",
       "text": [
        "\n",
        "DeltaX: 0.0 | DeltaY: 0.0 | DeltaZ: 0.0"
       ]
      },
      {
       "output_type": "stream",
       "stream": "stdout",
       "text": [
        "\n",
        "DeltaX: 0.0 | DeltaY: 0.0 | DeltaZ: 0.0"
       ]
      },
      {
       "output_type": "stream",
       "stream": "stdout",
       "text": [
        "\n",
        "DeltaX: 0.0 | DeltaY: 0.0 | DeltaZ: 0.0"
       ]
      },
      {
       "output_type": "stream",
       "stream": "stdout",
       "text": [
        "\n",
        "DeltaX: 0.0 | DeltaY: 0.0 | DeltaZ: 0.0"
       ]
      },
      {
       "output_type": "stream",
       "stream": "stdout",
       "text": [
        "\n",
        "DeltaX: 0.0 | DeltaY: 0.0 | DeltaZ: 0.0"
       ]
      },
      {
       "output_type": "stream",
       "stream": "stdout",
       "text": [
        "\n",
        "DeltaX: 0.0 | DeltaY: 0.0 | DeltaZ: 0.0"
       ]
      },
      {
       "output_type": "stream",
       "stream": "stdout",
       "text": [
        "\n",
        "DeltaX: 0.0 | DeltaY: 0.0 | DeltaZ: 0.0"
       ]
      },
      {
       "output_type": "stream",
       "stream": "stdout",
       "text": [
        "\n",
        "DeltaX: 0.0 | DeltaY: 0.0 | DeltaZ: 0.0"
       ]
      },
      {
       "output_type": "stream",
       "stream": "stdout",
       "text": [
        "\n",
        "DeltaX: 0.0 | DeltaY: 0.0 | DeltaZ: 0.0"
       ]
      },
      {
       "output_type": "stream",
       "stream": "stdout",
       "text": [
        "\n",
        "DeltaX: 3.983902 | DeltaY: 0.0 | DeltaZ: 0.0"
       ]
      },
      {
       "output_type": "stream",
       "stream": "stdout",
       "text": [
        "\n",
        "DeltaX: 0.0 | DeltaY: 5.975853 | DeltaZ: 0.0"
       ]
      },
      {
       "output_type": "stream",
       "stream": "stdout",
       "text": [
        "\n",
        "DeltaX: 0.0 | DeltaY: 0.0 | DeltaZ: 0.0"
       ]
      },
      {
       "output_type": "stream",
       "stream": "stdout",
       "text": [
        "\n",
        "DeltaX: 4.903264 | DeltaY: 0.0 | DeltaZ: 0.0"
       ]
      },
      {
       "output_type": "stream",
       "stream": "stdout",
       "text": [
        "\n",
        "DeltaX: 0.0 | DeltaY: 0.0 | DeltaZ: 0.0"
       ]
      },
      {
       "output_type": "stream",
       "stream": "stdout",
       "text": [
        "\n",
        "DeltaX: 0.0 | DeltaY: 0.0 | DeltaZ: 0.0"
       ]
      },
      {
       "output_type": "stream",
       "stream": "stdout",
       "text": [
        "\n",
        "DeltaX: 0.0 | DeltaY: 0.0 | DeltaZ: 0.0"
       ]
      },
      {
       "output_type": "stream",
       "stream": "stdout",
       "text": [
        "\n",
        "DeltaX: 7.201669 | DeltaY: 0.0 | DeltaZ: 3.983902"
       ]
      },
      {
       "output_type": "stream",
       "stream": "stdout",
       "text": [
        "\n",
        "DeltaX: 4.443583 | DeltaY: 0.0 | DeltaZ: 0.0"
       ]
      },
      {
       "output_type": "stream",
       "stream": "stdout",
       "text": [
        "\n",
        "DeltaX: 0.0 | DeltaY: 0.0 | DeltaZ: 0.0"
       ]
      },
      {
       "output_type": "stream",
       "stream": "stdout",
       "text": [
        "\n",
        "DeltaX: 4.59681 | DeltaY: 0.0 | DeltaZ: 0.0"
       ]
      },
      {
       "output_type": "stream",
       "stream": "stdout",
       "text": [
        "\n",
        "DeltaX: 6.12908 | DeltaY: 0.0 | DeltaZ: 0.0"
       ]
      },
      {
       "output_type": "stream",
       "stream": "stdout",
       "text": [
        "\n",
        "DeltaX: 0.0 | DeltaY: 0.0 | DeltaZ: 0.0"
       ]
      },
      {
       "output_type": "stream",
       "stream": "stdout",
       "text": [
        "\n",
        "DeltaX: 0.0 | DeltaY: 0.0 | DeltaZ: 0.0"
       ]
      },
      {
       "output_type": "stream",
       "stream": "stdout",
       "text": [
        "\n",
        "DeltaX: 4.903264 | DeltaY: 0.0 | DeltaZ: 0.0"
       ]
      },
      {
       "output_type": "stream",
       "stream": "stdout",
       "text": [
        "\n",
        "DeltaX: 3.830675 | DeltaY: 0.0 | DeltaZ: 0.0"
       ]
      },
      {
       "output_type": "stream",
       "stream": "stdout",
       "text": [
        "\n",
        "DeltaX: 4.137129 | DeltaY: 0.0 | DeltaZ: 0.0"
       ]
      },
      {
       "output_type": "stream",
       "stream": "stdout",
       "text": [
        "\n",
        "DeltaX: 8.274258 | DeltaY: 0.0 | DeltaZ: 0.0"
       ]
      },
      {
       "output_type": "stream",
       "stream": "stdout",
       "text": [
        "\n",
        "DeltaX: 0.0 | DeltaY: 0.0 | DeltaZ: 0.0"
       ]
      },
      {
       "output_type": "stream",
       "stream": "stdout",
       "text": [
        "\n",
        "DeltaX: 8.733939 | DeltaY: 0.0 | DeltaZ: 0.0"
       ]
      },
      {
       "output_type": "stream",
       "stream": "stdout",
       "text": [
        "\n",
        "DeltaX: 3.677448 | DeltaY: 0.0 | DeltaZ: 0.0"
       ]
      },
      {
       "output_type": "stream",
       "stream": "stdout",
       "text": [
        "\n",
        "DeltaX: 0.0 | DeltaY: 0.0 | DeltaZ: 0.0"
       ]
      },
      {
       "output_type": "stream",
       "stream": "stdout",
       "text": [
        "\n",
        "DeltaX: 3.983902 | DeltaY: 0.0 | DeltaZ: 0.0"
       ]
      },
      {
       "output_type": "stream",
       "stream": "stdout",
       "text": [
        "\n",
        "DeltaX: 0.0 | DeltaY: 0.0 | DeltaZ: 0.0"
       ]
      },
      {
       "output_type": "stream",
       "stream": "stdout",
       "text": [
        "\n",
        "DeltaX: 0.0 | DeltaY: 0.0 | DeltaZ: 0.0"
       ]
      },
      {
       "output_type": "stream",
       "stream": "stdout",
       "text": [
        "\n",
        "DeltaX: 0.0 | DeltaY: 0.0 | DeltaZ: 0.0"
       ]
      },
      {
       "output_type": "stream",
       "stream": "stdout",
       "text": [
        "\n",
        "DeltaX: 0.0 | DeltaY: 0.0 | DeltaZ: 0.0"
       ]
      },
      {
       "output_type": "stream",
       "stream": "stdout",
       "text": [
        "\n",
        "DeltaX: 0.0 | DeltaY: 0.0 | DeltaZ: 0.0"
       ]
      },
      {
       "output_type": "stream",
       "stream": "stdout",
       "text": [
        "\n",
        "DeltaX: 0.0 | DeltaY: 0.0 | DeltaZ: 0.0"
       ]
      },
      {
       "output_type": "stream",
       "stream": "stdout",
       "text": [
        "\n",
        "DeltaX: 0.0 | DeltaY: 0.0 | DeltaZ: 0.0"
       ]
      },
      {
       "output_type": "stream",
       "stream": "stdout",
       "text": [
        "\n",
        "DeltaX: 0.0 | DeltaY: 0.0 | DeltaZ: 0.0"
       ]
      },
      {
       "output_type": "stream",
       "stream": "stdout",
       "text": [
        "\n",
        "DeltaX: 0.0 | DeltaY: 0.0 | DeltaZ: 0.0"
       ]
      },
      {
       "output_type": "stream",
       "stream": "stdout",
       "text": [
        "\n",
        "DeltaX: 0.0 | DeltaY: 0.0 | DeltaZ: 0.0"
       ]
      },
      {
       "output_type": "stream",
       "stream": "stdout",
       "text": [
        "\n",
        "DeltaX: 0.0 | DeltaY: 0.0 | DeltaZ: 0.0"
       ]
      },
      {
       "output_type": "stream",
       "stream": "stdout",
       "text": [
        "\n",
        "DeltaX: 0.0 | DeltaY: 0.0 | DeltaZ: 0.0"
       ]
      },
      {
       "output_type": "stream",
       "stream": "stdout",
       "text": [
        "\n",
        "DeltaX: 0.0 | DeltaY: 0.0 | DeltaZ: 0.0"
       ]
      },
      {
       "output_type": "stream",
       "stream": "stdout",
       "text": [
        "\n",
        "DeltaX: 0.0 | DeltaY: 0.0 | DeltaZ: 0.0"
       ]
      },
      {
       "output_type": "stream",
       "stream": "stdout",
       "text": [
        "\n",
        "DeltaX: 0.0 | DeltaY: 0.0 | DeltaZ: 0.0"
       ]
      },
      {
       "output_type": "stream",
       "stream": "stdout",
       "text": [
        "\n",
        "DeltaX: 0.0 | DeltaY: 0.0 | DeltaZ: 0.0"
       ]
      },
      {
       "output_type": "stream",
       "stream": "stdout",
       "text": [
        "\n",
        "DeltaX: 0.0 | DeltaY: 0.0 | DeltaZ: 0.0"
       ]
      },
      {
       "output_type": "stream",
       "stream": "stdout",
       "text": [
        "\n",
        "DeltaX: 0.0 | DeltaY: 0.0 | DeltaZ: 0.0"
       ]
      },
      {
       "output_type": "stream",
       "stream": "stdout",
       "text": [
        "\n",
        "DeltaX: 0.0 | DeltaY: 0.0 | DeltaZ: 0.0"
       ]
      },
      {
       "output_type": "stream",
       "stream": "stdout",
       "text": [
        "\n",
        "DeltaX: 0.0 | DeltaY: 0.0 | DeltaZ: 0.0"
       ]
      },
      {
       "output_type": "stream",
       "stream": "stdout",
       "text": [
        "\n",
        "DeltaX: 0.0 | DeltaY: 0.0 | DeltaZ: 0.0"
       ]
      },
      {
       "output_type": "stream",
       "stream": "stdout",
       "text": [
        "\n",
        "DeltaX: 0.0 | DeltaY: 0.0 | DeltaZ: 0.0"
       ]
      },
      {
       "output_type": "stream",
       "stream": "stdout",
       "text": [
        "\n",
        "DeltaX: 0.0 | DeltaY: 0.0 | DeltaZ: 0.0"
       ]
      },
      {
       "output_type": "stream",
       "stream": "stdout",
       "text": [
        "\n",
        "DeltaX: 0.0 | DeltaY: 0.0 | DeltaZ: 0.0"
       ]
      },
      {
       "output_type": "stream",
       "stream": "stdout",
       "text": [
        "\n",
        "DeltaX: 0.0 | DeltaY: 0.0 | DeltaZ: 0.0"
       ]
      },
      {
       "output_type": "stream",
       "stream": "stdout",
       "text": [
        "\n",
        "DeltaX: 0.0 | DeltaY: 0.0 | DeltaZ: 0.0"
       ]
      },
      {
       "output_type": "stream",
       "stream": "stdout",
       "text": [
        "\n",
        "DeltaX: 0.0 | DeltaY: 0.0 | DeltaZ: 0.0"
       ]
      },
      {
       "output_type": "stream",
       "stream": "stdout",
       "text": [
        "\n",
        "DeltaX: 0.0 | DeltaY: 0.0 | DeltaZ: 0.0"
       ]
      },
      {
       "output_type": "stream",
       "stream": "stdout",
       "text": [
        "\n",
        "DeltaX: 0.0 | DeltaY: 0.0 | DeltaZ: 0.0"
       ]
      },
      {
       "output_type": "stream",
       "stream": "stdout",
       "text": [
        "\n",
        "DeltaX: 0.0 | DeltaY: 0.0 | DeltaZ: 0.0"
       ]
      },
      {
       "output_type": "stream",
       "stream": "stdout",
       "text": [
        "\n",
        "DeltaX: 0.0 | DeltaY: 0.0 | DeltaZ: 0.0"
       ]
      },
      {
       "output_type": "stream",
       "stream": "stdout",
       "text": [
        "\n",
        "DeltaX: 0.0 | DeltaY: 0.0 | DeltaZ: 0.0"
       ]
      },
      {
       "output_type": "stream",
       "stream": "stdout",
       "text": [
        "\n",
        "DeltaX: 0.0 | DeltaY: 0.0 | DeltaZ: 0.0"
       ]
      },
      {
       "output_type": "stream",
       "stream": "stdout",
       "text": [
        "\n",
        "DeltaX: 0.0 | DeltaY: 0.0 | DeltaZ: 0.0"
       ]
      },
      {
       "output_type": "stream",
       "stream": "stdout",
       "text": [
        "\n",
        "DeltaX: 0.0 | DeltaY: 0.0 | DeltaZ: 0.0"
       ]
      },
      {
       "output_type": "stream",
       "stream": "stdout",
       "text": [
        "\n",
        "DeltaX: 0.0 | DeltaY: 0.0 | DeltaZ: 0.0"
       ]
      },
      {
       "output_type": "stream",
       "stream": "stdout",
       "text": [
        "\n",
        "DeltaX: 0.0 | DeltaY: 0.0 | DeltaZ: 0.0"
       ]
      },
      {
       "output_type": "stream",
       "stream": "stdout",
       "text": [
        "\n",
        "DeltaX: 0.0 | DeltaY: 0.0 | DeltaZ: 0.0"
       ]
      },
      {
       "output_type": "stream",
       "stream": "stdout",
       "text": [
        "\n",
        "DeltaX: 0.0 | DeltaY: 0.0 | DeltaZ: 0.0"
       ]
      },
      {
       "output_type": "stream",
       "stream": "stdout",
       "text": [
        "\n",
        "DeltaX: 0.0 | DeltaY: 0.0 | DeltaZ: 0.0"
       ]
      },
      {
       "output_type": "stream",
       "stream": "stdout",
       "text": [
        "\n",
        "DeltaX: 0.0 | DeltaY: 0.0 | DeltaZ: 0.0"
       ]
      },
      {
       "output_type": "stream",
       "stream": "stdout",
       "text": [
        "\n",
        "DeltaX: 0.0 | DeltaY: 0.0 | DeltaZ: 0.0"
       ]
      },
      {
       "output_type": "stream",
       "stream": "stdout",
       "text": [
        "\n",
        "DeltaX: 0.0 | DeltaY: 0.0 | DeltaZ: 0.0"
       ]
      },
      {
       "output_type": "stream",
       "stream": "stdout",
       "text": [
        "\n",
        "DeltaX: 0.0 | DeltaY: 0.0 | DeltaZ: 0.0"
       ]
      },
      {
       "output_type": "stream",
       "stream": "stdout",
       "text": [
        "\n",
        "DeltaX: 0.0 | DeltaY: 0.0 | DeltaZ: 0.0"
       ]
      },
      {
       "output_type": "stream",
       "stream": "stdout",
       "text": [
        "\n",
        "DeltaX: 0.0 | DeltaY: 0.0 | DeltaZ: 0.0"
       ]
      },
      {
       "output_type": "stream",
       "stream": "stdout",
       "text": [
        "\n",
        "DeltaX: 0.0 | DeltaY: 0.0 | DeltaZ: 0.0"
       ]
      },
      {
       "output_type": "stream",
       "stream": "stdout",
       "text": [
        "\n",
        "DeltaX: 0.0 | DeltaY: 0.0 | DeltaZ: 0.0"
       ]
      },
      {
       "output_type": "stream",
       "stream": "stdout",
       "text": [
        "\n",
        "DeltaX: 0.0 | DeltaY: 0.0 | DeltaZ: 0.0"
       ]
      },
      {
       "output_type": "stream",
       "stream": "stdout",
       "text": [
        "\n",
        "DeltaX: 0.0 | DeltaY: 0.0 | DeltaZ: 0.0"
       ]
      },
      {
       "output_type": "stream",
       "stream": "stdout",
       "text": [
        "\n",
        "DeltaX: 0.0 | DeltaY: 0.0 | DeltaZ: 0.0"
       ]
      },
      {
       "output_type": "stream",
       "stream": "stdout",
       "text": [
        "\n",
        "DeltaX: 0.0 | DeltaY: 0.0 | DeltaZ: 0.0"
       ]
      },
      {
       "output_type": "stream",
       "stream": "stdout",
       "text": [
        "\n",
        "DeltaX: 0.0 | DeltaY: 0.0 | DeltaZ: 0.0"
       ]
      },
      {
       "output_type": "stream",
       "stream": "stdout",
       "text": [
        "\n",
        "DeltaX: 0.0 | DeltaY: 0.0 | DeltaZ: 0.0"
       ]
      },
      {
       "output_type": "stream",
       "stream": "stdout",
       "text": [
        "\n",
        "DeltaX: 0.0 | DeltaY: 0.0 | DeltaZ: 0.0"
       ]
      },
      {
       "output_type": "stream",
       "stream": "stdout",
       "text": [
        "\n",
        "DeltaX: 0.0 | DeltaY: 0.0 | DeltaZ: 0.0"
       ]
      },
      {
       "output_type": "stream",
       "stream": "stdout",
       "text": [
        "\n",
        "DeltaX: 0.0 | DeltaY: 0.0 | DeltaZ: 0.0"
       ]
      },
      {
       "output_type": "stream",
       "stream": "stdout",
       "text": [
        "\n",
        "DeltaX: 0.0 | DeltaY: 0.0 | DeltaZ: 0.0"
       ]
      },
      {
       "output_type": "stream",
       "stream": "stdout",
       "text": [
        "\n",
        "DeltaX: 0.0 | DeltaY: 0.0 | DeltaZ: 0.0"
       ]
      },
      {
       "output_type": "stream",
       "stream": "stdout",
       "text": [
        "\n",
        "DeltaX: 0.0 | DeltaY: 3.983902 | DeltaZ: 0.0"
       ]
      },
      {
       "output_type": "stream",
       "stream": "stdout",
       "text": [
        "\n",
        "DeltaX: 0.0 | DeltaY: 0.0 | DeltaZ: 0.0"
       ]
      },
      {
       "output_type": "stream",
       "stream": "stdout",
       "text": [
        "\n",
        "DeltaX: 0.0 | DeltaY: 0.0 | DeltaZ: 0.0"
       ]
      },
      {
       "output_type": "stream",
       "stream": "stdout",
       "text": [
        "\n",
        "DeltaX: 0.0 | DeltaY: 0.0 | DeltaZ: 0.0"
       ]
      },
      {
       "output_type": "stream",
       "stream": "stdout",
       "text": [
        "\n",
        "DeltaX: 0.0 | DeltaY: 4.443583 | DeltaZ: 0.0"
       ]
      },
      {
       "output_type": "stream",
       "stream": "stdout",
       "text": [
        "\n",
        "DeltaX: 0.0 | DeltaY: 3.983902 | DeltaZ: 0.0"
       ]
      },
      {
       "output_type": "stream",
       "stream": "stdout",
       "text": [
        "\n",
        "DeltaX: 0.0 | DeltaY: 3.524221 | DeltaZ: 0.0"
       ]
      },
      {
       "output_type": "stream",
       "stream": "stdout",
       "text": [
        "\n",
        "DeltaX: 0.0 | DeltaY: 0.0 | DeltaZ: 0.0"
       ]
      },
      {
       "output_type": "stream",
       "stream": "stdout",
       "text": [
        "\n",
        "DeltaX: 0.0 | DeltaY: 3.677448 | DeltaZ: 0.0"
       ]
      },
      {
       "output_type": "stream",
       "stream": "stdout",
       "text": [
        "\n",
        "DeltaX: 0.0 | DeltaY: 0.0 | DeltaZ: 0.0"
       ]
      },
      {
       "output_type": "stream",
       "stream": "stdout",
       "text": [
        "\n",
        "DeltaX: 0.0 | DeltaY: 0.0 | DeltaZ: 0.0"
       ]
      },
      {
       "output_type": "stream",
       "stream": "stdout",
       "text": [
        "\n",
        "DeltaX: 0.0 | DeltaY: 0.0 | DeltaZ: 0.0"
       ]
      },
      {
       "output_type": "stream",
       "stream": "stdout",
       "text": [
        "\n",
        "DeltaX: 0.0 | DeltaY: 0.0 | DeltaZ: 0.0"
       ]
      },
      {
       "output_type": "stream",
       "stream": "stdout",
       "text": [
        "\n",
        "DeltaX: 0.0 | DeltaY: 0.0 | DeltaZ: 0.0"
       ]
      },
      {
       "output_type": "stream",
       "stream": "stdout",
       "text": [
        "\n",
        "DeltaX: 0.0 | DeltaY: 0.0 | DeltaZ: 0.0"
       ]
      },
      {
       "output_type": "stream",
       "stream": "stdout",
       "text": [
        "\n",
        "DeltaX: 0.0 | DeltaY: 5.056491 | DeltaZ: 0.0"
       ]
      },
      {
       "output_type": "stream",
       "stream": "stdout",
       "text": [
        "\n",
        "DeltaX: 0.0 | DeltaY: 0.0 | DeltaZ: 0.0"
       ]
      },
      {
       "output_type": "stream",
       "stream": "stdout",
       "text": [
        "\n",
        "DeltaX: 0.0 | DeltaY: 0.0 | DeltaZ: 0.0"
       ]
      },
      {
       "output_type": "stream",
       "stream": "stdout",
       "text": [
        "\n",
        "DeltaX: 0.0 | DeltaY: 0.0 | DeltaZ: 0.0"
       ]
      },
      {
       "output_type": "stream",
       "stream": "stdout",
       "text": [
        "\n",
        "DeltaX: 0.0 | DeltaY: 3.983902 | DeltaZ: 0.0"
       ]
      },
      {
       "output_type": "stream",
       "stream": "stdout",
       "text": [
        "\n",
        "DeltaX: 0.0 | DeltaY: 0.0 | DeltaZ: 0.0"
       ]
      },
      {
       "output_type": "stream",
       "stream": "stdout",
       "text": [
        "\n",
        "DeltaX: 0.0 | DeltaY: 0.0 | DeltaZ: 0.0"
       ]
      },
      {
       "output_type": "stream",
       "stream": "stdout",
       "text": [
        "\n",
        "DeltaX: 0.0 | DeltaY: 0.0 | DeltaZ: 0.0"
       ]
      },
      {
       "output_type": "stream",
       "stream": "stdout",
       "text": [
        "\n",
        "DeltaX: 0.0 | DeltaY: 0.0 | DeltaZ: 0.0"
       ]
      },
      {
       "output_type": "stream",
       "stream": "stdout",
       "text": [
        "\n",
        "DeltaX: 0.0 | DeltaY: 0.0 | DeltaZ: 0.0"
       ]
      },
      {
       "output_type": "stream",
       "stream": "stdout",
       "text": [
        "\n",
        "DeltaX: 0.0 | DeltaY: 0.0 | DeltaZ: 0.0"
       ]
      },
      {
       "output_type": "stream",
       "stream": "stdout",
       "text": [
        "\n",
        "DeltaX: 0.0 | DeltaY: 0.0 | DeltaZ: 0.0"
       ]
      },
      {
       "output_type": "stream",
       "stream": "stdout",
       "text": [
        "\n",
        "DeltaX: 0.0 | DeltaY: 0.0 | DeltaZ: 0.0"
       ]
      },
      {
       "output_type": "stream",
       "stream": "stdout",
       "text": [
        "\n",
        "DeltaX: 0.0 | DeltaY: 0.0 | DeltaZ: 0.0"
       ]
      },
      {
       "output_type": "stream",
       "stream": "stdout",
       "text": [
        "\n",
        "DeltaX: 0.0 | DeltaY: 0.0 | DeltaZ: 0.0"
       ]
      },
      {
       "output_type": "stream",
       "stream": "stdout",
       "text": [
        "\n",
        "DeltaX: 0.0 | DeltaY: 0.0 | DeltaZ: 0.0"
       ]
      },
      {
       "output_type": "stream",
       "stream": "stdout",
       "text": [
        "\n",
        "DeltaX: 0.0 | DeltaY: 0.0 | DeltaZ: 0.0"
       ]
      },
      {
       "output_type": "stream",
       "stream": "stdout",
       "text": [
        "\n",
        "DeltaX: 0.0 | DeltaY: 0.0 | DeltaZ: 0.0"
       ]
      },
      {
       "output_type": "stream",
       "stream": "stdout",
       "text": [
        "\n",
        "DeltaX: 0.0 | DeltaY: 0.0 | DeltaZ: 0.0"
       ]
      },
      {
       "output_type": "stream",
       "stream": "stdout",
       "text": [
        "\n",
        "DeltaX: 0.0 | DeltaY: 0.0 | DeltaZ: 0.0"
       ]
      },
      {
       "output_type": "stream",
       "stream": "stdout",
       "text": [
        "\n",
        "DeltaX: 0.0 | DeltaY: 0.0 | DeltaZ: 0.0"
       ]
      },
      {
       "output_type": "stream",
       "stream": "stdout",
       "text": [
        "\n",
        "DeltaX: 0.0 | DeltaY: 0.0 | DeltaZ: 0.0"
       ]
      },
      {
       "output_type": "stream",
       "stream": "stdout",
       "text": [
        "\n",
        "DeltaX: 0.0 | DeltaY: 0.0 | DeltaZ: 0.0"
       ]
      },
      {
       "output_type": "stream",
       "stream": "stdout",
       "text": [
        "\n",
        "DeltaX: 0.0 | DeltaY: 0.0 | DeltaZ: 0.0"
       ]
      },
      {
       "output_type": "stream",
       "stream": "stdout",
       "text": [
        "\n",
        "DeltaX: 0.0 | DeltaY: 0.0 | DeltaZ: 0.0"
       ]
      },
      {
       "output_type": "stream",
       "stream": "stdout",
       "text": [
        "\n",
        "DeltaX: 0.0 | DeltaY: 0.0 | DeltaZ: 0.0"
       ]
      },
      {
       "output_type": "stream",
       "stream": "stdout",
       "text": [
        "\n",
        "DeltaX: 0.0 | DeltaY: 0.0 | DeltaZ: 0.0"
       ]
      },
      {
       "output_type": "stream",
       "stream": "stdout",
       "text": [
        "\n",
        "DeltaX: 0.0 | DeltaY: 0.0 | DeltaZ: 0.0"
       ]
      },
      {
       "output_type": "stream",
       "stream": "stdout",
       "text": [
        "\n",
        "DeltaX: 0.0 | DeltaY: 0.0 | DeltaZ: 0.0"
       ]
      },
      {
       "output_type": "stream",
       "stream": "stdout",
       "text": [
        "\n",
        "DeltaX: 0.0 | DeltaY: 0.0 | DeltaZ: 0.0"
       ]
      },
      {
       "output_type": "stream",
       "stream": "stdout",
       "text": [
        "\n",
        "DeltaX: 0.0 | DeltaY: 0.0 | DeltaZ: 0.0"
       ]
      },
      {
       "output_type": "stream",
       "stream": "stdout",
       "text": [
        "\n",
        "DeltaX: 0.0 | DeltaY: 0.0 | DeltaZ: 0.0"
       ]
      },
      {
       "output_type": "stream",
       "stream": "stdout",
       "text": [
        "\n",
        "DeltaX: 0.0 | DeltaY: 0.0 | DeltaZ: 0.0"
       ]
      },
      {
       "output_type": "stream",
       "stream": "stdout",
       "text": [
        "\n",
        "DeltaX: 0.0 | DeltaY: 0.0 | DeltaZ: 0.0"
       ]
      },
      {
       "output_type": "stream",
       "stream": "stdout",
       "text": [
        "\n",
        "DeltaX: 0.0 | DeltaY: 0.0 | DeltaZ: 0.0"
       ]
      },
      {
       "output_type": "stream",
       "stream": "stdout",
       "text": [
        "\n",
        "DeltaX: 0.0 | DeltaY: 0.0 | DeltaZ: 0.0"
       ]
      },
      {
       "output_type": "stream",
       "stream": "stdout",
       "text": [
        "\n",
        "DeltaX: 0.0 | DeltaY: 0.0 | DeltaZ: 0.0"
       ]
      },
      {
       "output_type": "stream",
       "stream": "stdout",
       "text": [
        "\n",
        "DeltaX: 0.0 | DeltaY: 0.0 | DeltaZ: 0.0"
       ]
      },
      {
       "output_type": "stream",
       "stream": "stdout",
       "text": [
        "\n",
        "DeltaX: 0.0 | DeltaY: 0.0 | DeltaZ: 0.0"
       ]
      },
      {
       "output_type": "stream",
       "stream": "stdout",
       "text": [
        "\n",
        "DeltaX: 0.0 | DeltaY: 0.0 | DeltaZ: 0.0"
       ]
      },
      {
       "output_type": "stream",
       "stream": "stdout",
       "text": [
        "\n",
        "DeltaX: 0.0 | DeltaY: 0.0 | DeltaZ: 0.0"
       ]
      },
      {
       "output_type": "stream",
       "stream": "stdout",
       "text": [
        "\n",
        "DeltaX: 0.0 | DeltaY: 0.0 | DeltaZ: 0.0"
       ]
      },
      {
       "output_type": "stream",
       "stream": "stdout",
       "text": [
        "\n",
        "DeltaX: 0.0 | DeltaY: 0.0 | DeltaZ: 0.0"
       ]
      },
      {
       "output_type": "stream",
       "stream": "stdout",
       "text": [
        "\n",
        "DeltaX: 0.0 | DeltaY: 0.0 | DeltaZ: 0.0"
       ]
      },
      {
       "output_type": "stream",
       "stream": "stdout",
       "text": [
        "\n",
        "DeltaX: 0.0 | DeltaY: 0.0 | DeltaZ: 0.0"
       ]
      },
      {
       "output_type": "stream",
       "stream": "stdout",
       "text": [
        "\n",
        "DeltaX: 4.750037 | DeltaY: 0.0 | DeltaZ: 0.0"
       ]
      },
      {
       "output_type": "stream",
       "stream": "stdout",
       "text": [
        "\n",
        "DeltaX: 3.524221 | DeltaY: 0.0 | DeltaZ: 0.0"
       ]
      },
      {
       "output_type": "stream",
       "stream": "stdout",
       "text": [
        "\n",
        "DeltaX: 0.0 | DeltaY: 0.0 | DeltaZ: 0.0"
       ]
      },
      {
       "output_type": "stream",
       "stream": "stdout",
       "text": [
        "\n",
        "DeltaX: 0.0 | DeltaY: 0.0 | DeltaZ: 0.0"
       ]
      },
      {
       "output_type": "stream",
       "stream": "stdout",
       "text": [
        "\n",
        "DeltaX: 0.0 | DeltaY: 0.0 | DeltaZ: 0.0"
       ]
      },
      {
       "output_type": "stream",
       "stream": "stdout",
       "text": [
        "\n",
        "DeltaX: 0.0 | DeltaY: 0.0 | DeltaZ: 0.0"
       ]
      },
      {
       "output_type": "stream",
       "stream": "stdout",
       "text": [
        "\n",
        "DeltaX: 0.0 | DeltaY: 0.0 | DeltaZ: 0.0"
       ]
      },
      {
       "output_type": "stream",
       "stream": "stdout",
       "text": [
        "\n",
        "DeltaX: 0.0 | DeltaY: 0.0 | DeltaZ: 0.0"
       ]
      },
      {
       "output_type": "stream",
       "stream": "stdout",
       "text": [
        "\n",
        "DeltaX: 0.0 | DeltaY: 0.0 | DeltaZ: 0.0"
       ]
      },
      {
       "output_type": "stream",
       "stream": "stdout",
       "text": [
        "\n",
        "DeltaX: 0.0 | DeltaY: 0.0 | DeltaZ: 0.0"
       ]
      },
      {
       "output_type": "stream",
       "stream": "stdout",
       "text": [
        "\n",
        "DeltaX: 0.0 | DeltaY: 0.0 | DeltaZ: 0.0"
       ]
      },
      {
       "output_type": "stream",
       "stream": "stdout",
       "text": [
        "\n",
        "DeltaX: 0.0 | DeltaY: 0.0 | DeltaZ: 0.0"
       ]
      },
      {
       "output_type": "stream",
       "stream": "stdout",
       "text": [
        "\n",
        "DeltaX: 0.0 | DeltaY: 0.0 | DeltaZ: 0.0"
       ]
      },
      {
       "output_type": "stream",
       "stream": "stdout",
       "text": [
        "\n",
        "DeltaX: 0.0 | DeltaY: 0.0 | DeltaZ: 0.0"
       ]
      },
      {
       "output_type": "stream",
       "stream": "stdout",
       "text": [
        "\n",
        "DeltaX: 0.0 | DeltaY: 0.0 | DeltaZ: 0.0"
       ]
      },
      {
       "output_type": "stream",
       "stream": "stdout",
       "text": [
        "\n",
        "DeltaX: 0.0 | DeltaY: 0.0 | DeltaZ: 0.0"
       ]
      },
      {
       "output_type": "stream",
       "stream": "stdout",
       "text": [
        "\n",
        "DeltaX: 0.0 | DeltaY: 0.0 | DeltaZ: 0.0"
       ]
      },
      {
       "output_type": "stream",
       "stream": "stdout",
       "text": [
        "\n",
        "DeltaX: 0.0 | DeltaY: 0.0 | DeltaZ: 0.0"
       ]
      },
      {
       "output_type": "stream",
       "stream": "stdout",
       "text": [
        "\n",
        "DeltaX: 0.0 | DeltaY: 0.0 | DeltaZ: 0.0"
       ]
      },
      {
       "output_type": "stream",
       "stream": "stdout",
       "text": [
        "\n",
        "DeltaX: 0.0 | DeltaY: 0.0 | DeltaZ: 0.0"
       ]
      },
      {
       "output_type": "stream",
       "stream": "stdout",
       "text": [
        "\n",
        "DeltaX: 0.0 | DeltaY: 0.0 | DeltaZ: 0.0"
       ]
      },
      {
       "output_type": "stream",
       "stream": "stdout",
       "text": [
        "\n",
        "DeltaX: 0.0 | DeltaY: 0.0 | DeltaZ: 0.0"
       ]
      },
      {
       "output_type": "stream",
       "stream": "stdout",
       "text": [
        "\n",
        "DeltaX: 0.0 | DeltaY: 0.0 | DeltaZ: 0.0"
       ]
      },
      {
       "output_type": "stream",
       "stream": "stdout",
       "text": [
        "\n",
        "DeltaX: 0.0 | DeltaY: 0.0 | DeltaZ: 0.0"
       ]
      },
      {
       "output_type": "stream",
       "stream": "stdout",
       "text": [
        "\n",
        "DeltaX: 0.0 | DeltaY: 0.0 | DeltaZ: 0.0"
       ]
      },
      {
       "output_type": "stream",
       "stream": "stdout",
       "text": [
        "\n",
        "DeltaX: 4.59681 | DeltaY: 0.0 | DeltaZ: 0.0"
       ]
      },
      {
       "output_type": "stream",
       "stream": "stdout",
       "text": [
        "\n",
        "DeltaX: 0.0 | DeltaY: 0.0 | DeltaZ: 0.0"
       ]
      },
      {
       "output_type": "stream",
       "stream": "stdout",
       "text": [
        "\n",
        "DeltaX: 0.0 | DeltaY: 0.0 | DeltaZ: 0.0"
       ]
      },
      {
       "output_type": "stream",
       "stream": "stdout",
       "text": [
        "\n",
        "DeltaX: 0.0 | DeltaY: 0.0 | DeltaZ: 0.0"
       ]
      },
      {
       "output_type": "stream",
       "stream": "stdout",
       "text": [
        "\n",
        "DeltaX: 0.0 | DeltaY: 0.0 | DeltaZ: 0.0"
       ]
      },
      {
       "output_type": "stream",
       "stream": "stdout",
       "text": [
        "\n",
        "DeltaX: 0.0 | DeltaY: 0.0 | DeltaZ: 0.0"
       ]
      },
      {
       "output_type": "stream",
       "stream": "stdout",
       "text": [
        "\n",
        "DeltaX: 3.677448 | DeltaY: 0.0 | DeltaZ: 0.0"
       ]
      },
      {
       "output_type": "stream",
       "stream": "stdout",
       "text": [
        "\n",
        "DeltaX: 0.0 | DeltaY: 0.0 | DeltaZ: 0.0"
       ]
      },
      {
       "output_type": "stream",
       "stream": "stdout",
       "text": [
        "\n",
        "DeltaX: 0.0 | DeltaY: 0.0 | DeltaZ: 0.0"
       ]
      },
      {
       "output_type": "stream",
       "stream": "stdout",
       "text": [
        "\n",
        "DeltaX: 0.0 | DeltaY: 0.0 | DeltaZ: 0.0"
       ]
      },
      {
       "output_type": "stream",
       "stream": "stdout",
       "text": [
        "\n",
        "DeltaX: 0.0 | DeltaY: 0.0 | DeltaZ: 0.0"
       ]
      },
      {
       "output_type": "stream",
       "stream": "stdout",
       "text": [
        "\n",
        "DeltaX: 0.0 | DeltaY: 0.0 | DeltaZ: 0.0"
       ]
      },
      {
       "output_type": "stream",
       "stream": "stdout",
       "text": [
        "\n",
        "DeltaX: 0.0 | DeltaY: 0.0 | DeltaZ: 0.0"
       ]
      },
      {
       "output_type": "stream",
       "stream": "stdout",
       "text": [
        "\n",
        "DeltaX: 0.0 | DeltaY: 0.0 | DeltaZ: 0.0"
       ]
      },
      {
       "output_type": "stream",
       "stream": "stdout",
       "text": [
        "\n",
        "DeltaX: 0.0 | DeltaY: 0.0 | DeltaZ: 0.0"
       ]
      },
      {
       "output_type": "stream",
       "stream": "stdout",
       "text": [
        "\n",
        "DeltaX: 0.0 | DeltaY: 0.0 | DeltaZ: 0.0"
       ]
      },
      {
       "output_type": "stream",
       "stream": "stdout",
       "text": [
        "\n",
        "DeltaX: 0.0 | DeltaY: 0.0 | DeltaZ: 0.0"
       ]
      },
      {
       "output_type": "stream",
       "stream": "stdout",
       "text": [
        "\n",
        "DeltaX: 3.677448 | DeltaY: 0.0 | DeltaZ: 0.0"
       ]
      },
      {
       "output_type": "stream",
       "stream": "stdout",
       "text": [
        "\n",
        "DeltaX: 5.822626 | DeltaY: 0.0 | DeltaZ: 0.0"
       ]
      },
      {
       "output_type": "stream",
       "stream": "stdout",
       "text": [
        "\n",
        "DeltaX: 0.0 | DeltaY: 0.0 | DeltaZ: 3.983902"
       ]
      },
      {
       "output_type": "stream",
       "stream": "stdout",
       "text": [
        "\n",
        "DeltaX: 0.0 | DeltaY: 0.0 | DeltaZ: 0.0"
       ]
      },
      {
       "output_type": "stream",
       "stream": "stdout",
       "text": [
        "\n",
        "DeltaX: 6.435534 | DeltaY: 0.0 | DeltaZ: 0.0"
       ]
      },
      {
       "output_type": "stream",
       "stream": "stdout",
       "text": [
        "\n",
        "DeltaX: 0.0 | DeltaY: 0.0 | DeltaZ: 0.0"
       ]
      },
      {
       "output_type": "stream",
       "stream": "stdout",
       "text": [
        "\n",
        "DeltaX: 0.0 | DeltaY: 0.0 | DeltaZ: 0.0"
       ]
      },
      {
       "output_type": "stream",
       "stream": "stdout",
       "text": [
        "\n",
        "DeltaX: 0.0 | DeltaY: 0.0 | DeltaZ: 0.0"
       ]
      },
      {
       "output_type": "stream",
       "stream": "stdout",
       "text": [
        "\n",
        "DeltaX: 0.0 | DeltaY: 0.0 | DeltaZ: 0.0"
       ]
      },
      {
       "output_type": "stream",
       "stream": "stdout",
       "text": [
        "\n",
        "DeltaX: 0.0 | DeltaY: 0.0 | DeltaZ: 0.0"
       ]
      },
      {
       "output_type": "stream",
       "stream": "stdout",
       "text": [
        "\n",
        "DeltaX: 0.0 | DeltaY: 0.0 | DeltaZ: 0.0"
       ]
      },
      {
       "output_type": "stream",
       "stream": "stdout",
       "text": [
        "\n",
        "DeltaX: 0.0 | DeltaY: 0.0 | DeltaZ: 0.0"
       ]
      },
      {
       "output_type": "stream",
       "stream": "stdout",
       "text": [
        "\n",
        "DeltaX: 0.0 | DeltaY: 0.0 | DeltaZ: 0.0"
       ]
      },
      {
       "output_type": "stream",
       "stream": "stdout",
       "text": [
        "\n",
        "DeltaX: 0.0 | DeltaY: 0.0 | DeltaZ: 0.0"
       ]
      },
      {
       "output_type": "stream",
       "stream": "stdout",
       "text": [
        "\n",
        "DeltaX: 0.0 | DeltaY: 0.0 | DeltaZ: 0.0"
       ]
      },
      {
       "output_type": "stream",
       "stream": "stdout",
       "text": [
        "\n",
        "DeltaX: 0.0 | DeltaY: 0.0 | DeltaZ: 0.0"
       ]
      },
      {
       "output_type": "stream",
       "stream": "stdout",
       "text": [
        "\n",
        "DeltaX: 0.0 | DeltaY: 0.0 | DeltaZ: 0.0"
       ]
      },
      {
       "output_type": "stream",
       "stream": "stdout",
       "text": [
        "\n",
        "DeltaX: 0.0 | DeltaY: 0.0 | DeltaZ: 0.0"
       ]
      },
      {
       "output_type": "stream",
       "stream": "stdout",
       "text": [
        "\n",
        "DeltaX: 0.0 | DeltaY: 0.0 | DeltaZ: 0.0"
       ]
      },
      {
       "output_type": "stream",
       "stream": "stdout",
       "text": [
        "\n",
        "DeltaX: 0.0 | DeltaY: 0.0 | DeltaZ: 0.0"
       ]
      },
      {
       "output_type": "stream",
       "stream": "stdout",
       "text": [
        "\n",
        "DeltaX: 0.0 | DeltaY: 0.0 | DeltaZ: 0.0"
       ]
      },
      {
       "output_type": "stream",
       "stream": "stdout",
       "text": [
        "\n",
        "DeltaX: 0.0 | DeltaY: 0.0 | DeltaZ: 0.0"
       ]
      },
      {
       "output_type": "stream",
       "stream": "stdout",
       "text": [
        "\n",
        "DeltaX: 0.0 | DeltaY: 0.0 | DeltaZ: 0.0"
       ]
      },
      {
       "output_type": "stream",
       "stream": "stdout",
       "text": [
        "\n",
        "DeltaX: 0.0 | DeltaY: 0.0 | DeltaZ: 0.0"
       ]
      },
      {
       "output_type": "stream",
       "stream": "stdout",
       "text": [
        "\n",
        "DeltaX: 0.0 | DeltaY: 0.0 | DeltaZ: 0.0"
       ]
      },
      {
       "output_type": "stream",
       "stream": "stdout",
       "text": [
        "\n",
        "DeltaX: 0.0 | DeltaY: 0.0 | DeltaZ: 0.0"
       ]
      },
      {
       "output_type": "stream",
       "stream": "stdout",
       "text": [
        "\n",
        "DeltaX: 0.0 | DeltaY: 0.0 | DeltaZ: 0.0"
       ]
      },
      {
       "output_type": "stream",
       "stream": "stdout",
       "text": [
        "\n",
        "DeltaX: 0.0 | DeltaY: 0.0 | DeltaZ: 0.0"
       ]
      },
      {
       "output_type": "stream",
       "stream": "stdout",
       "text": [
        "\n",
        "DeltaX: 0.0 | DeltaY: 0.0 | DeltaZ: 0.0"
       ]
      },
      {
       "output_type": "stream",
       "stream": "stdout",
       "text": [
        "\n",
        "DeltaX: 0.0 | DeltaY: 0.0 | DeltaZ: 0.0"
       ]
      },
      {
       "output_type": "stream",
       "stream": "stdout",
       "text": [
        "\n",
        "DeltaX: 0.0 | DeltaY: 0.0 | DeltaZ: 0.0"
       ]
      },
      {
       "output_type": "stream",
       "stream": "stdout",
       "text": [
        "\n",
        "DeltaX: 0.0 | DeltaY: 0.0 | DeltaZ: 0.0"
       ]
      },
      {
       "output_type": "stream",
       "stream": "stdout",
       "text": [
        "\n",
        "DeltaX: 0.0 | DeltaY: 0.0 | DeltaZ: 0.0"
       ]
      },
      {
       "output_type": "stream",
       "stream": "stdout",
       "text": [
        "\n",
        "DeltaX: 0.0 | DeltaY: 0.0 | DeltaZ: 0.0"
       ]
      },
      {
       "output_type": "stream",
       "stream": "stdout",
       "text": [
        "\n",
        "DeltaX: 0.0 | DeltaY: 0.0 | DeltaZ: 0.0"
       ]
      },
      {
       "output_type": "stream",
       "stream": "stdout",
       "text": [
        "\n",
        "DeltaX: 0.0 | DeltaY: 0.0 | DeltaZ: 0.0"
       ]
      },
      {
       "output_type": "stream",
       "stream": "stdout",
       "text": [
        "\n",
        "DeltaX: 0.0 | DeltaY: 0.0 | DeltaZ: 0.0"
       ]
      },
      {
       "output_type": "stream",
       "stream": "stdout",
       "text": [
        "\n",
        "DeltaX: 0.0 | DeltaY: 0.0 | DeltaZ: 0.0"
       ]
      },
      {
       "output_type": "stream",
       "stream": "stdout",
       "text": [
        "\n",
        "DeltaX: 0.0 | DeltaY: 0.0 | DeltaZ: 0.0"
       ]
      },
      {
       "output_type": "stream",
       "stream": "stdout",
       "text": [
        "\n",
        "DeltaX: 0.0 | DeltaY: 0.0 | DeltaZ: 0.0"
       ]
      },
      {
       "output_type": "stream",
       "stream": "stdout",
       "text": [
        "\n",
        "DeltaX: 0.0 | DeltaY: 0.0 | DeltaZ: 0.0"
       ]
      },
      {
       "output_type": "stream",
       "stream": "stdout",
       "text": [
        "\n",
        "DeltaX: 0.0 | DeltaY: 3.677448 | DeltaZ: 0.0"
       ]
      },
      {
       "output_type": "stream",
       "stream": "stdout",
       "text": [
        "\n",
        "DeltaX: 0.0 | DeltaY: 0.0 | DeltaZ: 0.0"
       ]
      },
      {
       "output_type": "stream",
       "stream": "stdout",
       "text": [
        "\n",
        "DeltaX: 0.0 | DeltaY: 3.677448 | DeltaZ: 0.0"
       ]
      },
      {
       "output_type": "stream",
       "stream": "stdout",
       "text": [
        "\n",
        "DeltaX: 0.0 | DeltaY: 0.0 | DeltaZ: 0.0"
       ]
      },
      {
       "output_type": "stream",
       "stream": "stdout",
       "text": [
        "\n",
        "DeltaX: 0.0 | DeltaY: 0.0 | DeltaZ: 0.0"
       ]
      },
      {
       "output_type": "stream",
       "stream": "stdout",
       "text": [
        "\n",
        "DeltaX: 0.0 | DeltaY: 0.0 | DeltaZ: 0.0"
       ]
      },
      {
       "output_type": "stream",
       "stream": "stdout",
       "text": [
        "\n",
        "DeltaX: 0.0 | DeltaY: 0.0 | DeltaZ: 0.0"
       ]
      },
      {
       "output_type": "stream",
       "stream": "stdout",
       "text": [
        "\n",
        "DeltaX: 0.0 | DeltaY: 0.0 | DeltaZ: 0.0"
       ]
      },
      {
       "output_type": "stream",
       "stream": "stdout",
       "text": [
        "\n",
        "DeltaX: 0.0 | DeltaY: 4.137129 | DeltaZ: 0.0"
       ]
      },
      {
       "output_type": "stream",
       "stream": "stdout",
       "text": [
        "\n",
        "DeltaX: 0.0 | DeltaY: 4.59681 | DeltaZ: 0.0"
       ]
      },
      {
       "output_type": "stream",
       "stream": "stdout",
       "text": [
        "\n",
        "DeltaX: 0.0 | DeltaY: 0.0 | DeltaZ: 0.0"
       ]
      },
      {
       "output_type": "stream",
       "stream": "stdout",
       "text": [
        "\n",
        "DeltaX: 0.0 | DeltaY: 4.750038 | DeltaZ: 0.0"
       ]
      },
      {
       "output_type": "stream",
       "stream": "stdout",
       "text": [
        "\n",
        "DeltaX: 0.0 | DeltaY: 0.0 | DeltaZ: 0.0"
       ]
      },
      {
       "output_type": "stream",
       "stream": "stdout",
       "text": [
        "\n",
        "DeltaX: 0.0 | DeltaY: 0.0 | DeltaZ: 0.0"
       ]
      },
      {
       "output_type": "stream",
       "stream": "stdout",
       "text": [
        "\n",
        "DeltaX: 0.0 | DeltaY: 0.0 | DeltaZ: 0.0"
       ]
      },
      {
       "output_type": "stream",
       "stream": "stdout",
       "text": [
        "\n",
        "DeltaX: 0.0 | DeltaY: 0.0 | DeltaZ: 0.0"
       ]
      },
      {
       "output_type": "stream",
       "stream": "stdout",
       "text": [
        "\n",
        "DeltaX: 0.0 | DeltaY: 0.0 | DeltaZ: 0.0"
       ]
      },
      {
       "output_type": "stream",
       "stream": "stdout",
       "text": [
        "\n",
        "DeltaX: 0.0 | DeltaY: 0.0 | DeltaZ: 0.0"
       ]
      },
      {
       "output_type": "stream",
       "stream": "stdout",
       "text": [
        "\n",
        "DeltaX: 0.0 | DeltaY: 0.0 | DeltaZ: 0.0"
       ]
      },
      {
       "output_type": "stream",
       "stream": "stdout",
       "text": [
        "\n",
        "DeltaX: 0.0 | DeltaY: 0.0 | DeltaZ: 0.0"
       ]
      },
      {
       "output_type": "stream",
       "stream": "stdout",
       "text": [
        "\n",
        "DeltaX: 0.0 | DeltaY: 3.524221 | DeltaZ: 0.0"
       ]
      },
      {
       "output_type": "stream",
       "stream": "stdout",
       "text": [
        "\n",
        "DeltaX: 0.0 | DeltaY: 4.13713 | DeltaZ: 0.0"
       ]
      },
      {
       "output_type": "stream",
       "stream": "stdout",
       "text": [
        "\n",
        "DeltaX: 0.0 | DeltaY: 0.0 | DeltaZ: 0.0"
       ]
      },
      {
       "output_type": "stream",
       "stream": "stdout",
       "text": [
        "\n",
        "DeltaX: 0.0 | DeltaY: 5.056491 | DeltaZ: 0.0"
       ]
      },
      {
       "output_type": "stream",
       "stream": "stdout",
       "text": [
        "\n",
        "DeltaX: 4.290356 | DeltaY: 0.0 | DeltaZ: 0.0"
       ]
      },
      {
       "output_type": "stream",
       "stream": "stdout",
       "text": [
        "\n",
        "DeltaX: 0.0 | DeltaY: 0.0 | DeltaZ: 0.0"
       ]
      },
      {
       "output_type": "stream",
       "stream": "stdout",
       "text": [
        "\n",
        "DeltaX: 0.0 | DeltaY: 0.0 | DeltaZ: 0.0"
       ]
      },
      {
       "output_type": "stream",
       "stream": "stdout",
       "text": [
        "\n",
        "DeltaX: 0.0 | DeltaY: 0.0 | DeltaZ: 0.0"
       ]
      },
      {
       "output_type": "stream",
       "stream": "stdout",
       "text": [
        "\n",
        "DeltaX: 0.0 | DeltaY: 0.0 | DeltaZ: 0.0"
       ]
      },
      {
       "output_type": "stream",
       "stream": "stdout",
       "text": [
        "\n",
        "DeltaX: 0.0 | DeltaY: 4.290356 | DeltaZ: 0.0"
       ]
      },
      {
       "output_type": "stream",
       "stream": "stdout",
       "text": [
        "\n",
        "DeltaX: 0.0 | DeltaY: 0.0 | DeltaZ: 0.0"
       ]
      },
      {
       "output_type": "stream",
       "stream": "stdout",
       "text": [
        "\n",
        "DeltaX: 0.0 | DeltaY: 0.0 | DeltaZ: 0.0"
       ]
      },
      {
       "output_type": "stream",
       "stream": "stdout",
       "text": [
        "\n",
        "DeltaX: 0.0 | DeltaY: 0.0 | DeltaZ: 0.0"
       ]
      },
      {
       "output_type": "stream",
       "stream": "stdout",
       "text": [
        "\n",
        "DeltaX: 0.0 | DeltaY: 0.0 | DeltaZ: 0.0"
       ]
      },
      {
       "output_type": "stream",
       "stream": "stdout",
       "text": [
        "\n",
        "DeltaX: 0.0 | DeltaY: 0.0 | DeltaZ: 0.0"
       ]
      },
      {
       "output_type": "stream",
       "stream": "stdout",
       "text": [
        "\n",
        "DeltaX: 0.0 | DeltaY: 0.0 | DeltaZ: 0.0"
       ]
      },
      {
       "output_type": "stream",
       "stream": "stdout",
       "text": [
        "\n",
        "DeltaX: 0.0 | DeltaY: 0.0 | DeltaZ: 0.0"
       ]
      },
      {
       "output_type": "stream",
       "stream": "stdout",
       "text": [
        "\n",
        "DeltaX: 0.0 | DeltaY: 0.0 | DeltaZ: 0.0"
       ]
      },
      {
       "output_type": "stream",
       "stream": "stdout",
       "text": [
        "\n",
        "DeltaX: 0.0 | DeltaY: 0.0 | DeltaZ: 0.0"
       ]
      },
      {
       "output_type": "stream",
       "stream": "stdout",
       "text": [
        "\n",
        "DeltaX: 0.0 | DeltaY: 0.0 | DeltaZ: 0.0"
       ]
      },
      {
       "output_type": "stream",
       "stream": "stdout",
       "text": [
        "\n",
        "DeltaX: 0.0 | DeltaY: 0.0 | DeltaZ: 0.0"
       ]
      },
      {
       "output_type": "stream",
       "stream": "stdout",
       "text": [
        "\n",
        "DeltaX: 0.0 | DeltaY: 0.0 | DeltaZ: 0.0"
       ]
      },
      {
       "output_type": "stream",
       "stream": "stdout",
       "text": [
        "\n",
        "DeltaX: 0.0 | DeltaY: 0.0 | DeltaZ: 0.0"
       ]
      },
      {
       "output_type": "stream",
       "stream": "stdout",
       "text": [
        "\n",
        "DeltaX: 0.0 | DeltaY: 0.0 | DeltaZ: 0.0"
       ]
      },
      {
       "output_type": "stream",
       "stream": "stdout",
       "text": [
        "\n",
        "DeltaX: 0.0 | DeltaY: 0.0 | DeltaZ: 0.0"
       ]
      },
      {
       "output_type": "stream",
       "stream": "stdout",
       "text": [
        "\n",
        "DeltaX: 0.0 | DeltaY: 0.0 | DeltaZ: 0.0"
       ]
      },
      {
       "output_type": "stream",
       "stream": "stdout",
       "text": [
        "\n",
        "DeltaX: 0.0 | DeltaY: 0.0 | DeltaZ: 0.0"
       ]
      },
      {
       "output_type": "stream",
       "stream": "stdout",
       "text": [
        "\n",
        "DeltaX: 0.0 | DeltaY: 0.0 | DeltaZ: 0.0"
       ]
      },
      {
       "output_type": "stream",
       "stream": "stdout",
       "text": [
        "\n",
        "DeltaX: 0.0 | DeltaY: 0.0 | DeltaZ: 0.0"
       ]
      },
      {
       "output_type": "stream",
       "stream": "stdout",
       "text": [
        "\n",
        "DeltaX: 0.0 | DeltaY: 0.0 | DeltaZ: 0.0"
       ]
      },
      {
       "output_type": "stream",
       "stream": "stdout",
       "text": [
        "\n",
        "DeltaX: 0.0 | DeltaY: 0.0 | DeltaZ: 0.0"
       ]
      },
      {
       "output_type": "stream",
       "stream": "stdout",
       "text": [
        "\n",
        "DeltaX: 0.0 | DeltaY: 0.0 | DeltaZ: 0.0"
       ]
      },
      {
       "output_type": "stream",
       "stream": "stdout",
       "text": [
        "\n",
        "DeltaX: 0.0 | DeltaY: 0.0 | DeltaZ: 0.0"
       ]
      },
      {
       "output_type": "stream",
       "stream": "stdout",
       "text": [
        "\n",
        "DeltaX: 0.0 | DeltaY: 0.0 | DeltaZ: 0.0"
       ]
      },
      {
       "output_type": "stream",
       "stream": "stdout",
       "text": [
        "\n",
        "DeltaX: 0.0 | DeltaY: 0.0 | DeltaZ: 0.0"
       ]
      },
      {
       "output_type": "stream",
       "stream": "stdout",
       "text": [
        "\n",
        "DeltaX: 0.0 | DeltaY: 0.0 | DeltaZ: 0.0"
       ]
      },
      {
       "output_type": "stream",
       "stream": "stdout",
       "text": [
        "\n",
        "DeltaX: 0.0 | DeltaY: 0.0 | DeltaZ: 0.0"
       ]
      },
      {
       "output_type": "stream",
       "stream": "stdout",
       "text": [
        "\n",
        "DeltaX: 0.0 | DeltaY: 0.0 | DeltaZ: 0.0"
       ]
      },
      {
       "output_type": "stream",
       "stream": "stdout",
       "text": [
        "\n",
        "DeltaX: 0.0 | DeltaY: 0.0 | DeltaZ: 0.0"
       ]
      },
      {
       "output_type": "stream",
       "stream": "stdout",
       "text": [
        "\n",
        "DeltaX: 0.0 | DeltaY: 0.0 | DeltaZ: 0.0"
       ]
      },
      {
       "output_type": "stream",
       "stream": "stdout",
       "text": [
        "\n",
        "DeltaX: 0.0 | DeltaY: 0.0 | DeltaZ: 0.0"
       ]
      },
      {
       "output_type": "stream",
       "stream": "stdout",
       "text": [
        "\n",
        "DeltaX: 0.0 | DeltaY: 0.0 | DeltaZ: 0.0"
       ]
      },
      {
       "output_type": "stream",
       "stream": "stdout",
       "text": [
        "\n",
        "DeltaX: 0.0 | DeltaY: 0.0 | DeltaZ: 0.0"
       ]
      },
      {
       "output_type": "stream",
       "stream": "stdout",
       "text": [
        "\n",
        "DeltaX: 0.0 | DeltaY: 0.0 | DeltaZ: 0.0"
       ]
      },
      {
       "output_type": "stream",
       "stream": "stdout",
       "text": [
        "\n",
        "DeltaX: 0.0 | DeltaY: 0.0 | DeltaZ: 0.0"
       ]
      },
      {
       "output_type": "stream",
       "stream": "stdout",
       "text": [
        "\n",
        "DeltaX: 0.0 | DeltaY: 0.0 | DeltaZ: 0.0"
       ]
      },
      {
       "output_type": "stream",
       "stream": "stdout",
       "text": [
        "\n",
        "DeltaX: 0.0 | DeltaY: 0.0 | DeltaZ: 0.0"
       ]
      },
      {
       "output_type": "stream",
       "stream": "stdout",
       "text": [
        "\n",
        "DeltaX: 0.0 | DeltaY: 0.0 | DeltaZ: 0.0"
       ]
      },
      {
       "output_type": "stream",
       "stream": "stdout",
       "text": [
        "\n",
        "DeltaX: 0.0 | DeltaY: 0.0 | DeltaZ: 0.0"
       ]
      },
      {
       "output_type": "stream",
       "stream": "stdout",
       "text": [
        "\n",
        "DeltaX: 0.0 | DeltaY: 0.0 | DeltaZ: 0.0"
       ]
      },
      {
       "output_type": "stream",
       "stream": "stdout",
       "text": [
        "\n",
        "DeltaX: 0.0 | DeltaY: 0.0 | DeltaZ: 0.0"
       ]
      },
      {
       "output_type": "stream",
       "stream": "stdout",
       "text": [
        "\n",
        "DeltaX: 0.0 | DeltaY: 0.0 | DeltaZ: 0.0"
       ]
      },
      {
       "output_type": "stream",
       "stream": "stdout",
       "text": [
        "\n",
        "DeltaX: 0.0 | DeltaY: 0.0 | DeltaZ: 0.0"
       ]
      },
      {
       "output_type": "stream",
       "stream": "stdout",
       "text": [
        "\n",
        "DeltaX: 0.0 | DeltaY: 0.0 | DeltaZ: 0.0"
       ]
      },
      {
       "output_type": "stream",
       "stream": "stdout",
       "text": [
        "\n",
        "DeltaX: 0.0 | DeltaY: 0.0 | DeltaZ: 0.0"
       ]
      },
      {
       "output_type": "stream",
       "stream": "stdout",
       "text": [
        "\n",
        "DeltaX: 0.0 | DeltaY: 0.0 | DeltaZ: 0.0"
       ]
      },
      {
       "output_type": "stream",
       "stream": "stdout",
       "text": [
        "\n",
        "DeltaX: 0.0 | DeltaY: 0.0 | DeltaZ: 0.0"
       ]
      },
      {
       "output_type": "stream",
       "stream": "stdout",
       "text": [
        "\n",
        "DeltaX: 0.0 | DeltaY: 0.0 | DeltaZ: 0.0"
       ]
      },
      {
       "output_type": "stream",
       "stream": "stdout",
       "text": [
        "\n",
        "DeltaX: 0.0 | DeltaY: 0.0 | DeltaZ: 0.0"
       ]
      },
      {
       "output_type": "stream",
       "stream": "stdout",
       "text": [
        "\n",
        "DeltaX: 0.0 | DeltaY: 0.0 | DeltaZ: 0.0"
       ]
      },
      {
       "output_type": "stream",
       "stream": "stdout",
       "text": [
        "\n",
        "DeltaX: 0.0 | DeltaY: 0.0 | DeltaZ: 0.0"
       ]
      },
      {
       "output_type": "stream",
       "stream": "stdout",
       "text": [
        "\n",
        "DeltaX: 0.0 | DeltaY: 0.0 | DeltaZ: 0.0"
       ]
      },
      {
       "output_type": "stream",
       "stream": "stdout",
       "text": [
        "\n",
        "DeltaX: 0.0 | DeltaY: 0.0 | DeltaZ: 0.0"
       ]
      },
      {
       "output_type": "stream",
       "stream": "stdout",
       "text": [
        "\n",
        "DeltaX: 0.0 | DeltaY: 0.0 | DeltaZ: 0.0"
       ]
      },
      {
       "output_type": "stream",
       "stream": "stdout",
       "text": [
        "\n",
        "DeltaX: 0.0 | DeltaY: 0.0 | DeltaZ: 0.0"
       ]
      },
      {
       "output_type": "stream",
       "stream": "stdout",
       "text": [
        "\n",
        "DeltaX: 0.0 | DeltaY: 0.0 | DeltaZ: 0.0"
       ]
      },
      {
       "output_type": "stream",
       "stream": "stdout",
       "text": [
        "\n",
        "DeltaX: 0.0 | DeltaY: 0.0 | DeltaZ: 0.0"
       ]
      },
      {
       "output_type": "stream",
       "stream": "stdout",
       "text": [
        "\n",
        "DeltaX: 0.0 | DeltaY: 0.0 | DeltaZ: 0.0"
       ]
      },
      {
       "output_type": "stream",
       "stream": "stdout",
       "text": [
        "\n",
        "DeltaX: 0.0 | DeltaY: 0.0 | DeltaZ: 0.0"
       ]
      },
      {
       "output_type": "stream",
       "stream": "stdout",
       "text": [
        "\n",
        "DeltaX: 0.0 | DeltaY: 0.0 | DeltaZ: 0.0"
       ]
      },
      {
       "output_type": "stream",
       "stream": "stdout",
       "text": [
        "\n",
        "DeltaX: 0.0 | DeltaY: 0.0 | DeltaZ: 0.0"
       ]
      },
      {
       "output_type": "stream",
       "stream": "stdout",
       "text": [
        "\n",
        "DeltaX: 0.0 | DeltaY: 0.0 | DeltaZ: 0.0"
       ]
      },
      {
       "output_type": "stream",
       "stream": "stdout",
       "text": [
        "\n",
        "DeltaX: 0.0 | DeltaY: 0.0 | DeltaZ: 0.0"
       ]
      },
      {
       "output_type": "stream",
       "stream": "stdout",
       "text": [
        "\n",
        "DeltaX: 0.0 | DeltaY: 0.0 | DeltaZ: 0.0"
       ]
      },
      {
       "output_type": "stream",
       "stream": "stdout",
       "text": [
        "\n",
        "DeltaX: 0.0 | DeltaY: 0.0 | DeltaZ: 0.0"
       ]
      },
      {
       "output_type": "stream",
       "stream": "stdout",
       "text": [
        "\n",
        "DeltaX: 0.0 | DeltaY: 0.0 | DeltaZ: 0.0"
       ]
      },
      {
       "output_type": "stream",
       "stream": "stdout",
       "text": [
        "\n",
        "DeltaX: 0.0 | DeltaY: 0.0 | DeltaZ: 0.0"
       ]
      },
      {
       "output_type": "stream",
       "stream": "stdout",
       "text": [
        "\n",
        "DeltaX: 0.0 | DeltaY: 0.0 | DeltaZ: 0.0"
       ]
      },
      {
       "output_type": "stream",
       "stream": "stdout",
       "text": [
        "\n",
        "DeltaX: 0.0 | DeltaY: 0.0 | DeltaZ: 0.0"
       ]
      },
      {
       "output_type": "stream",
       "stream": "stdout",
       "text": [
        "\n",
        "DeltaX: 0.0 | DeltaY: 0.0 | DeltaZ: 0.0"
       ]
      },
      {
       "output_type": "stream",
       "stream": "stdout",
       "text": [
        "\n",
        "DeltaX: 0.0 | DeltaY: 0.0 | DeltaZ: 0.0"
       ]
      },
      {
       "output_type": "stream",
       "stream": "stdout",
       "text": [
        "\n",
        "DeltaX: 0.0 | DeltaY: 0.0 | DeltaZ: 0.0"
       ]
      },
      {
       "output_type": "stream",
       "stream": "stdout",
       "text": [
        "\n",
        "DeltaX: 0.0 | DeltaY: 0.0 | DeltaZ: 0.0"
       ]
      },
      {
       "output_type": "stream",
       "stream": "stdout",
       "text": [
        "\n",
        "DeltaX: 0.0 | DeltaY: 0.0 | DeltaZ: 0.0"
       ]
      },
      {
       "output_type": "stream",
       "stream": "stdout",
       "text": [
        "\n",
        "DeltaX: 0.0 | DeltaY: 0.0 | DeltaZ: 0.0"
       ]
      },
      {
       "output_type": "stream",
       "stream": "stdout",
       "text": [
        "\n",
        "DeltaX: 0.0 | DeltaY: 0.0 | DeltaZ: 0.0"
       ]
      },
      {
       "output_type": "stream",
       "stream": "stdout",
       "text": [
        "\n",
        "DeltaX: 0.0 | DeltaY: 0.0 | DeltaZ: 0.0"
       ]
      },
      {
       "output_type": "stream",
       "stream": "stdout",
       "text": [
        "\n",
        "DeltaX: 0.0 | DeltaY: 0.0 | DeltaZ: 0.0"
       ]
      },
      {
       "output_type": "stream",
       "stream": "stdout",
       "text": [
        "\n",
        "DeltaX: 0.0 | DeltaY: 0.0 | DeltaZ: 0.0"
       ]
      },
      {
       "output_type": "stream",
       "stream": "stdout",
       "text": [
        "\n",
        "DeltaX: 0.0 | DeltaY: 0.0 | DeltaZ: 0.0"
       ]
      },
      {
       "output_type": "stream",
       "stream": "stdout",
       "text": [
        "\n",
        "DeltaX: 0.0 | DeltaY: 0.0 | DeltaZ: 0.0"
       ]
      },
      {
       "output_type": "stream",
       "stream": "stdout",
       "text": [
        "\n",
        "DeltaX: 0.0 | DeltaY: 0.0 | DeltaZ: 0.0"
       ]
      },
      {
       "output_type": "stream",
       "stream": "stdout",
       "text": [
        "\n",
        "DeltaX: 0.0 | DeltaY: 0.0 | DeltaZ: 0.0"
       ]
      },
      {
       "output_type": "stream",
       "stream": "stdout",
       "text": [
        "\n",
        "DeltaX: 0.0 | DeltaY: 0.0 | DeltaZ: 0.0"
       ]
      },
      {
       "output_type": "stream",
       "stream": "stdout",
       "text": [
        "\n",
        "DeltaX: 0.0 | DeltaY: 0.0 | DeltaZ: 0.0"
       ]
      },
      {
       "output_type": "stream",
       "stream": "stdout",
       "text": [
        "\n",
        "DeltaX: 0.0 | DeltaY: 0.0 | DeltaZ: 0.0"
       ]
      },
      {
       "output_type": "stream",
       "stream": "stdout",
       "text": [
        "\n",
        "DeltaX: 0.0 | DeltaY: 0.0 | DeltaZ: 0.0"
       ]
      },
      {
       "output_type": "stream",
       "stream": "stdout",
       "text": [
        "\n",
        "DeltaX: 0.0 | DeltaY: 0.0 | DeltaZ: 0.0"
       ]
      },
      {
       "output_type": "stream",
       "stream": "stdout",
       "text": [
        "\n",
        "DeltaX: 0.0 | DeltaY: 0.0 | DeltaZ: 0.0"
       ]
      },
      {
       "output_type": "stream",
       "stream": "stdout",
       "text": [
        "\n",
        "DeltaX: 0.0 | DeltaY: 0.0 | DeltaZ: 0.0"
       ]
      },
      {
       "output_type": "stream",
       "stream": "stdout",
       "text": [
        "\n",
        "DeltaX: 0.0 | DeltaY: 0.0 | DeltaZ: 0.0"
       ]
      },
      {
       "output_type": "stream",
       "stream": "stdout",
       "text": [
        "\n",
        "DeltaX: 0.0 | DeltaY: 0.0 | DeltaZ: 0.0"
       ]
      },
      {
       "output_type": "stream",
       "stream": "stdout",
       "text": [
        "\n",
        "DeltaX: 0.0 | DeltaY: 0.0 | DeltaZ: 0.0"
       ]
      },
      {
       "output_type": "stream",
       "stream": "stdout",
       "text": [
        "\n",
        "DeltaX: 0.0 | DeltaY: 0.0 | DeltaZ: 0.0"
       ]
      },
      {
       "output_type": "stream",
       "stream": "stdout",
       "text": [
        "\n",
        "DeltaX: 0.0 | DeltaY: 0.0 | DeltaZ: 0.0"
       ]
      },
      {
       "output_type": "stream",
       "stream": "stdout",
       "text": [
        "\n",
        "DeltaX: 0.0 | DeltaY: 0.0 | DeltaZ: 0.0"
       ]
      },
      {
       "output_type": "stream",
       "stream": "stdout",
       "text": [
        "\n",
        "DeltaX: 0.0 | DeltaY: 0.0 | DeltaZ: 0.0"
       ]
      },
      {
       "output_type": "stream",
       "stream": "stdout",
       "text": [
        "\n",
        "DeltaX: 0.0 | DeltaY: 0.0 | DeltaZ: 0.0"
       ]
      },
      {
       "output_type": "stream",
       "stream": "stdout",
       "text": [
        "\n",
        "DeltaX: 0.0 | DeltaY: 0.0 | DeltaZ: 0.0"
       ]
      },
      {
       "output_type": "stream",
       "stream": "stdout",
       "text": [
        "\n",
        "DeltaX: 0.0 | DeltaY: 0.0 | DeltaZ: 0.0"
       ]
      },
      {
       "output_type": "stream",
       "stream": "stdout",
       "text": [
        "\n",
        "DeltaX: 0.0 | DeltaY: 0.0 | DeltaZ: 0.0"
       ]
      },
      {
       "output_type": "stream",
       "stream": "stdout",
       "text": [
        "\n",
        "DeltaX: 0.0 | DeltaY: 0.0 | DeltaZ: 0.0"
       ]
      },
      {
       "output_type": "stream",
       "stream": "stdout",
       "text": [
        "\n",
        "DeltaX: 0.0 | DeltaY: 0.0 | DeltaZ: 0.0"
       ]
      },
      {
       "output_type": "stream",
       "stream": "stdout",
       "text": [
        "\n",
        "DeltaX: 0.0 | DeltaY: 0.0 | DeltaZ: 0.0"
       ]
      },
      {
       "output_type": "stream",
       "stream": "stdout",
       "text": [
        "\n",
        "DeltaX: 0.0 | DeltaY: 0.0 | DeltaZ: 0.0"
       ]
      },
      {
       "output_type": "stream",
       "stream": "stdout",
       "text": [
        "\n",
        "DeltaX: 0.0 | DeltaY: 0.0 | DeltaZ: 0.0"
       ]
      },
      {
       "output_type": "stream",
       "stream": "stdout",
       "text": [
        "\n",
        "DeltaX: 0.0 | DeltaY: 0.0 | DeltaZ: 0.0"
       ]
      },
      {
       "output_type": "stream",
       "stream": "stdout",
       "text": [
        "\n",
        "DeltaX: 0.0 | DeltaY: 0.0 | DeltaZ: 0.0"
       ]
      },
      {
       "output_type": "stream",
       "stream": "stdout",
       "text": [
        "\n",
        "DeltaX: 0.0 | DeltaY: 0.0 | DeltaZ: 0.0"
       ]
      },
      {
       "output_type": "stream",
       "stream": "stdout",
       "text": [
        "\n",
        "DeltaX: 0.0 | DeltaY: 0.0 | DeltaZ: 0.0"
       ]
      },
      {
       "output_type": "stream",
       "stream": "stdout",
       "text": [
        "\n",
        "DeltaX: 0.0 | DeltaY: 0.0 | DeltaZ: 0.0"
       ]
      },
      {
       "output_type": "stream",
       "stream": "stdout",
       "text": [
        "\n",
        "DeltaX: 0.0 | DeltaY: 0.0 | DeltaZ: 0.0"
       ]
      },
      {
       "output_type": "stream",
       "stream": "stdout",
       "text": [
        "\n",
        "DeltaX: 0.0 | DeltaY: 0.0 | DeltaZ: 0.0"
       ]
      },
      {
       "output_type": "stream",
       "stream": "stdout",
       "text": [
        "\n",
        "DeltaX: 0.0 | DeltaY: 0.0 | DeltaZ: 0.0"
       ]
      },
      {
       "output_type": "stream",
       "stream": "stdout",
       "text": [
        "\n",
        "DeltaX: 0.0 | DeltaY: 0.0 | DeltaZ: 0.0"
       ]
      },
      {
       "output_type": "stream",
       "stream": "stdout",
       "text": [
        "\n",
        "DeltaX: 0.0 | DeltaY: 0.0 | DeltaZ: 0.0"
       ]
      },
      {
       "output_type": "stream",
       "stream": "stdout",
       "text": [
        "\n",
        "DeltaX: 0.0 | DeltaY: 0.0 | DeltaZ: 0.0"
       ]
      },
      {
       "output_type": "stream",
       "stream": "stdout",
       "text": [
        "\n",
        "DeltaX: 0.0 | DeltaY: 0.0 | DeltaZ: 0.0"
       ]
      },
      {
       "output_type": "stream",
       "stream": "stdout",
       "text": [
        "\n",
        "DeltaX: 0.0 | DeltaY: 0.0 | DeltaZ: 0.0"
       ]
      },
      {
       "output_type": "stream",
       "stream": "stdout",
       "text": [
        "\n",
        "DeltaX: 0.0 | DeltaY: 0.0 | DeltaZ: 0.0"
       ]
      },
      {
       "output_type": "stream",
       "stream": "stdout",
       "text": [
        "\n",
        "DeltaX: 0.0 | DeltaY: 0.0 | DeltaZ: 0.0"
       ]
      },
      {
       "output_type": "stream",
       "stream": "stdout",
       "text": [
        "\n",
        "DeltaX: 0.0 | DeltaY: 0.0 | DeltaZ: 0.0"
       ]
      },
      {
       "output_type": "stream",
       "stream": "stdout",
       "text": [
        "\n",
        "DeltaX: 0.0 | DeltaY: 0.0 | DeltaZ: 0.0"
       ]
      },
      {
       "output_type": "stream",
       "stream": "stdout",
       "text": [
        "\n",
        "DeltaX: 0.0 | DeltaY: 0.0 | DeltaZ: 0.0"
       ]
      },
      {
       "output_type": "stream",
       "stream": "stdout",
       "text": [
        "\n",
        "DeltaX: 0.0 | DeltaY: 0.0 | DeltaZ: 0.0"
       ]
      },
      {
       "output_type": "stream",
       "stream": "stdout",
       "text": [
        "\n"
       ]
      },
      {
       "metadata": {},
       "output_type": "pyout",
       "prompt_number": 34,
       "text": [
        "Result(id=1209, result=None, error=None)"
       ]
      }
     ],
     "prompt_number": 34
    },
    {
     "cell_type": "code",
     "collapsed": false,
     "input": [
      "import android\n",
      "import math\n",
      "import time\n",
      "droide = android.Android()\n",
      "tolerancia=0\n",
      "numeroSacudidas=0\n",
      "numeroCel=0\n",
      "texto=\"\"\n",
      "segundosEnEjecucion=0\n",
      "\n",
      "def configuracion():\n",
      "    droide.dialogCreateInput(\"1/5 - Tolerancia\", \"# de tolerancia, mientras m\u00e1s alta, mas precisa pero requiere un movimiento m\u00e1s r\u00e1pido\",\"\",\"number\")\n",
      "    droide.dialogShow()\n",
      "    global tolerancia\n",
      "    tolerancia = droide.dialogGetResponse().result['value']\n",
      "    droide.dialogCreateInput(\"2/5 - Numero de sacudidas\", \"# m\u00e1ximo de sacudidas para enviar el mensaje\",\"\",\"number\")\n",
      "    droide.dialogShow()\n",
      "    global numeroSacudidas\n",
      "    numeroSacudidas = droide.dialogGetResponse().result['value']\n",
      "    droide.dialogCreateInput(\"3/5 - Numero de Celular\", \"# de celular al cual enviar el mensaje\",\"\",\"number\")\n",
      "    droide.dialogShow()\n",
      "    global numeroCel\n",
      "    numeroCel = droide.dialogGetResponse().result['value']\n",
      "    droide.dialogCreateInput(\"4/5 - Texto a mandar\", \"Texto que se enviar\u00e1 luego de \"+str(numeroSacudidas)+\" sacudidas\" ,\"\",\"text\")\n",
      "    droide.dialogShow()\n",
      "    global texto\n",
      "    texto = droide.dialogGetResponse().result['value']\n",
      "    droide.dialogCreateInput(\"5/5 - Tiempo de Ejecuci\u00f3n\", \"Tiempo en que se ejecutar\u00e1 el programa en segundo plano (en segundos)\" ,\"\",\"number\")\n",
      "    droide.dialogShow()\n",
      "    global segundosEnEjecucion\n",
      "    segundosEnEjecucion = droide.dialogGetResponse().result['value']\n",
      "    return\n",
      "\n",
      "def comienzaEscucha():\n",
      "    tiempoActualizaciones = 50  #0.05 segundos\n",
      "    tiempoFinal = 20000          #20 segundos\n",
      "    tiempoTranscurrido = 0\n",
      "    ruido = 3.5\n",
      "    droide.startSensingTimed(2,tiempoActualizaciones)\n",
      "    datosDelSensor = []\n",
      "    noHayDatos = True\n",
      "    cantidadHorizontal = 0\n",
      "    cantidadVertical = 0\n",
      "    x = 0.0\n",
      "    ultimaX = 0.0\n",
      "    deltaX = 0.0\n",
      "    y = 0.0\n",
      "    ultimaY = 0.0\n",
      "    deltaY = 0.0\n",
      "    z = 0.0\n",
      "    ultimaZ = 0.0\n",
      "    deltaZ = 0.0\n",
      "    print(tolerancia)\n",
      "    print(numeroSacudidas)\n",
      "    print(numeroCel)\n",
      "    print(texto)\n",
      "    print(segundosEnEjecucion)\n",
      "    segundosParaEjecutarse = int(segundosEnEjecucion)*1000\n",
      "    print(segundosParaEjecutarse)\n",
      "    while tiempoTranscurrido <= segundosParaEjecutarse:\n",
      "        x = droide.sensorsReadAccelerometer().result[0]\n",
      "        y = droide.sensorsReadAccelerometer().result[1]\n",
      "        z = droide.sensorsReadAccelerometer().result[2]\n",
      "        if noHayDatos or ultimaX == None:\n",
      "            ultimaX = x\n",
      "            ultimaY = y\n",
      "            ultimaZ = z\n",
      "            noHayDatos = False\n",
      "            print (\"Entr\u00f3 a no hay datos\")\n",
      "            print (ultimaX)\n",
      "            print (ultimaY)\n",
      "            print (ultimaZ)\n",
      "            print (noHayDatos)\n",
      "        else:\n",
      "            deltaX = math.fabs( x - ultimaX )\n",
      "            deltaY = math.fabs( y - ultimaY )\n",
      "            deltaZ = math.fabs( z - ultimaZ )\n",
      "            if deltaX < int(tolerancia):\n",
      "                deltaX = 0.0\n",
      "            if deltaY < int(tolerancia):\n",
      "                deltaY = 0.0\n",
      "            if deltaZ < int(tolerancia):\n",
      "                deltaZ = 0.0\n",
      "            if deltaX > deltaY:\n",
      "                cantidadHorizontal += 1\n",
      "                cantidadVertical = 0\n",
      "            elif deltaX < deltaY:\n",
      "                cantidadVertical += 1\n",
      "                cantidadHorizontal = 0\n",
      "            if (cantidadHorizontal == int(numeroSacudidas)):\n",
      "                    cantidadVertical = 0\n",
      "                    cantidadHorizontal = 0\n",
      "                    droide.ttsSpeak(str(numeroSacudidas) +\" veces horizontalmente\")\n",
      "            elif (cantidadVertical == int(numeroSacudidas)):\n",
      "                    cantidadHorizontal = 0\n",
      "                    cantidadVertical = 0\n",
      "                    droide.ttsSpeak(str(numeroSacudidas) +\" veces verticalmente\")\n",
      "            ultimaX = x\n",
      "            ultimaY = y\n",
      "            ultimaZ = z\n",
      "            print (\"DeltaX: \" + str(deltaX) + \" | DeltaY: \" + str(deltaY) + \" | DeltaZ: \"+ str(deltaZ))\n",
      "        time.sleep(tiempoActualizaciones/1000.0)\n",
      "        tiempoTranscurrido += tiempoActualizaciones\n",
      "        print(tiempoTranscurrido)\n",
      "    return\n",
      "\n",
      "configuracion()\n",
      "comienzaEscucha()\n",
      "droide.stopSensing()\n"
     ],
     "language": "python",
     "metadata": {},
     "outputs": [
      {
       "output_type": "stream",
       "stream": "stdout",
       "text": [
        "3\n",
        "7\n",
        "225511\n",
        "flo\n",
        "10\n",
        "10000\n",
        "Entr\u00f3 a no hay datos"
       ]
      },
      {
       "output_type": "stream",
       "stream": "stdout",
       "text": [
        "\n",
        "None\n",
        "None\n",
        "None\n",
        "False\n",
        "50\n",
        "Entr\u00f3 a no hay datos"
       ]
      },
      {
       "output_type": "stream",
       "stream": "stdout",
       "text": [
        "\n",
        "0.459681\n",
        "6.435534\n",
        "7.048442\n",
        "False\n",
        "100\n",
        "DeltaX: 0.0 | DeltaY: 0.0 | DeltaZ: 0.0"
       ]
      },
      {
       "output_type": "stream",
       "stream": "stdout",
       "text": [
        "\n",
        "150"
       ]
      },
      {
       "output_type": "stream",
       "stream": "stdout",
       "text": [
        "\n",
        "DeltaX: 0.0 | DeltaY: 0.0 | DeltaZ: 0.0\n",
        "200"
       ]
      },
      {
       "output_type": "stream",
       "stream": "stdout",
       "text": [
        "\n",
        "DeltaX: 0.0 | DeltaY: 0.0 | DeltaZ: 0.0\n",
        "250"
       ]
      },
      {
       "output_type": "stream",
       "stream": "stdout",
       "text": [
        "\n",
        "DeltaX: 0.0 | DeltaY: 0.0 | DeltaZ: 0.0\n",
        "300"
       ]
      },
      {
       "output_type": "stream",
       "stream": "stdout",
       "text": [
        "\n",
        "DeltaX: 0.0 | DeltaY: 0.0 | DeltaZ: 0.0\n",
        "350"
       ]
      },
      {
       "output_type": "stream",
       "stream": "stdout",
       "text": [
        "\n",
        "DeltaX: 0.0 | DeltaY: 0.0 | DeltaZ: 0.0\n",
        "400"
       ]
      },
      {
       "output_type": "stream",
       "stream": "stdout",
       "text": [
        "\n",
        "DeltaX: 0.0 | DeltaY: 0.0 | DeltaZ: 0.0\n",
        "450"
       ]
      },
      {
       "output_type": "stream",
       "stream": "stdout",
       "text": [
        "\n",
        "DeltaX: 0.0 | DeltaY: 0.0 | DeltaZ: 0.0\n",
        "500"
       ]
      },
      {
       "output_type": "stream",
       "stream": "stdout",
       "text": [
        "\n",
        "DeltaX: 0.0 | DeltaY: 0.0 | DeltaZ: 0.0\n",
        "550"
       ]
      },
      {
       "output_type": "stream",
       "stream": "stdout",
       "text": [
        "\n",
        "DeltaX: 0.0 | DeltaY: 0.0 | DeltaZ: 0.0\n",
        "600"
       ]
      },
      {
       "output_type": "stream",
       "stream": "stdout",
       "text": [
        "\n",
        "DeltaX: 5.975853 | DeltaY: 0.0 | DeltaZ: 0.0"
       ]
      },
      {
       "output_type": "stream",
       "stream": "stdout",
       "text": [
        "\n",
        "650"
       ]
      },
      {
       "output_type": "stream",
       "stream": "stdout",
       "text": [
        "\n",
        "DeltaX: 4.903264 | DeltaY: 3.06454 | DeltaZ: 4.750037\n",
        "700"
       ]
      },
      {
       "output_type": "stream",
       "stream": "stdout",
       "text": [
        "\n",
        "DeltaX: 15.3227 | DeltaY: 0.0 | DeltaZ: 5.822626\n",
        "750"
       ]
      },
      {
       "output_type": "stream",
       "stream": "stdout",
       "text": [
        "\n",
        "DeltaX: 0.0 | DeltaY: 0.0 | DeltaZ: 0.0\n",
        "800"
       ]
      },
      {
       "output_type": "stream",
       "stream": "stdout",
       "text": [
        "\n",
        "DeltaX: 0.0 | DeltaY: 0.0 | DeltaZ: 0.0\n",
        "850"
       ]
      },
      {
       "output_type": "stream",
       "stream": "stdout",
       "text": [
        "\n",
        "DeltaX: 9.959755 | DeltaY: 0.0 | DeltaZ: 0.0\n",
        "900"
       ]
      },
      {
       "output_type": "stream",
       "stream": "stdout",
       "text": [
        "\n",
        "DeltaX: 14.250111 | DeltaY: 0.0 | DeltaZ: 3.06454\n",
        "950"
       ]
      },
      {
       "output_type": "stream",
       "stream": "stdout",
       "text": [
        "\n",
        "DeltaX: 0.0 | DeltaY: 0.0 | DeltaZ: 0.0\n",
        "1000"
       ]
      },
      {
       "output_type": "stream",
       "stream": "stdout",
       "text": [
        "\n",
        "DeltaX: 19.306602 | DeltaY: 4.750037 | DeltaZ: 0.0\n",
        "1050"
       ]
      },
      {
       "output_type": "stream",
       "stream": "stdout",
       "text": [
        "\n",
        "DeltaX: 6.12908 | DeltaY: 3.217767 | DeltaZ: 0.0\n",
        "1100"
       ]
      },
      {
       "output_type": "stream",
       "stream": "stdout",
       "text": [
        "\n",
        "DeltaX: 5.669399 | DeltaY: 3.677448 | DeltaZ: 0.0"
       ]
      },
      {
       "output_type": "stream",
       "stream": "stdout",
       "text": [
        "\n",
        "1150"
       ]
      },
      {
       "output_type": "stream",
       "stream": "stdout",
       "text": [
        "\n",
        "DeltaX: 23.903412 | DeltaY: 3.830675 | DeltaZ: 3.830675\n",
        "1200"
       ]
      },
      {
       "output_type": "stream",
       "stream": "stdout",
       "text": [
        "\n",
        "DeltaX: 11.185571 | DeltaY: 0.0 | DeltaZ: 0.0"
       ]
      },
      {
       "output_type": "stream",
       "stream": "stdout",
       "text": [
        "\n",
        "1250"
       ]
      },
      {
       "output_type": "stream",
       "stream": "stdout",
       "text": [
        "\n",
        "DeltaX: 17.467878 | DeltaY: 5.056491 | DeltaZ: 0.0\n",
        "1300"
       ]
      },
      {
       "output_type": "stream",
       "stream": "stdout",
       "text": [
        "\n",
        "DeltaX: 0.0 | DeltaY: 0.0 | DeltaZ: 0.0\n",
        "1350"
       ]
      },
      {
       "output_type": "stream",
       "stream": "stdout",
       "text": [
        "\n",
        "DeltaX: 13.79043 | DeltaY: 5.209718 | DeltaZ: 0.0\n",
        "1400"
       ]
      },
      {
       "output_type": "stream",
       "stream": "stdout",
       "text": [
        "\n",
        "DeltaX: 3.983902 | DeltaY: 0.0 | DeltaZ: 0.0\n",
        "1450"
       ]
      },
      {
       "output_type": "stream",
       "stream": "stdout",
       "text": [
        "\n",
        "DeltaX: 6.435534 | DeltaY: 3.677448 | DeltaZ: 3.06454\n",
        "1500"
       ]
      },
      {
       "output_type": "stream",
       "stream": "stdout",
       "text": [
        "\n",
        "DeltaX: 0.0 | DeltaY: 0.0 | DeltaZ: 0.0\n",
        "1550"
       ]
      },
      {
       "output_type": "stream",
       "stream": "stdout",
       "text": [
        "\n",
        "DeltaX: 0.0 | DeltaY: 0.0 | DeltaZ: 0.0\n",
        "1600"
       ]
      },
      {
       "output_type": "stream",
       "stream": "stdout",
       "text": [
        "\n",
        "DeltaX: 0.0 | DeltaY: 0.0 | DeltaZ: 0.0\n",
        "1650"
       ]
      },
      {
       "output_type": "stream",
       "stream": "stdout",
       "text": [
        "\n",
        "DeltaX: 0.0 | DeltaY: 0.0 | DeltaZ: 0.0\n",
        "1700"
       ]
      },
      {
       "output_type": "stream",
       "stream": "stdout",
       "text": [
        "\n",
        "DeltaX: 0.0 | DeltaY: 0.0 | DeltaZ: 0.0\n",
        "1750"
       ]
      },
      {
       "output_type": "stream",
       "stream": "stdout",
       "text": [
        "\n",
        "DeltaX: 0.0 | DeltaY: 0.0 | DeltaZ: 0.0\n",
        "1800"
       ]
      },
      {
       "output_type": "stream",
       "stream": "stdout",
       "text": [
        "\n",
        "DeltaX: 0.0 | DeltaY: 0.0 | DeltaZ: 0.0\n",
        "1850"
       ]
      },
      {
       "output_type": "stream",
       "stream": "stdout",
       "text": [
        "\n",
        "DeltaX: 0.0 | DeltaY: 0.0 | DeltaZ: 0.0\n",
        "1900"
       ]
      },
      {
       "output_type": "stream",
       "stream": "stdout",
       "text": [
        "\n",
        "DeltaX: 0.0 | DeltaY: 0.0 | DeltaZ: 0.0\n",
        "1950"
       ]
      },
      {
       "output_type": "stream",
       "stream": "stdout",
       "text": [
        "\n",
        "DeltaX: 0.0 | DeltaY: 0.0 | DeltaZ: 0.0\n",
        "2000"
       ]
      },
      {
       "output_type": "stream",
       "stream": "stdout",
       "text": [
        "\n",
        "DeltaX: 0.0 | DeltaY: 0.0 | DeltaZ: 0.0\n",
        "2050"
       ]
      },
      {
       "output_type": "stream",
       "stream": "stdout",
       "text": [
        "\n",
        "DeltaX: 0.0 | DeltaY: 0.0 | DeltaZ: 0.0\n",
        "2100"
       ]
      },
      {
       "output_type": "stream",
       "stream": "stdout",
       "text": [
        "\n",
        "DeltaX: 0.0 | DeltaY: 0.0 | DeltaZ: 0.0\n",
        "2150"
       ]
      },
      {
       "output_type": "stream",
       "stream": "stdout",
       "text": [
        "\n",
        "DeltaX: 0.0 | DeltaY: 0.0 | DeltaZ: 0.0\n",
        "2200"
       ]
      },
      {
       "output_type": "stream",
       "stream": "stdout",
       "text": [
        "\n",
        "DeltaX: 0.0 | DeltaY: 0.0 | DeltaZ: 0.0\n",
        "2250"
       ]
      },
      {
       "output_type": "stream",
       "stream": "stdout",
       "text": [
        "\n",
        "DeltaX: 0.0 | DeltaY: 0.0 | DeltaZ: 0.0\n",
        "2300"
       ]
      },
      {
       "output_type": "stream",
       "stream": "stdout",
       "text": [
        "\n",
        "DeltaX: 0.0 | DeltaY: 0.0 | DeltaZ: 0.0\n",
        "2350"
       ]
      },
      {
       "output_type": "stream",
       "stream": "stdout",
       "text": [
        "\n",
        "DeltaX: 0.0 | DeltaY: 0.0 | DeltaZ: 0.0\n",
        "2400"
       ]
      },
      {
       "output_type": "stream",
       "stream": "stdout",
       "text": [
        "\n",
        "DeltaX: 0.0 | DeltaY: 0.0 | DeltaZ: 0.0\n",
        "2450"
       ]
      },
      {
       "output_type": "stream",
       "stream": "stdout",
       "text": [
        "\n",
        "DeltaX: 0.0 | DeltaY: 0.0 | DeltaZ: 0.0\n",
        "2500"
       ]
      },
      {
       "output_type": "stream",
       "stream": "stdout",
       "text": [
        "\n",
        "DeltaX: 0.0 | DeltaY: 0.0 | DeltaZ: 0.0\n",
        "2550"
       ]
      },
      {
       "output_type": "stream",
       "stream": "stdout",
       "text": [
        "\n",
        "DeltaX: 0.0 | DeltaY: 0.0 | DeltaZ: 0.0\n",
        "2600"
       ]
      },
      {
       "output_type": "stream",
       "stream": "stdout",
       "text": [
        "\n",
        "DeltaX: 0.0 | DeltaY: 6.435534 | DeltaZ: 0.0"
       ]
      },
      {
       "output_type": "stream",
       "stream": "stdout",
       "text": [
        "\n",
        "2650"
       ]
      },
      {
       "output_type": "stream",
       "stream": "stdout",
       "text": [
        "\n",
        "DeltaX: 0.0 | DeltaY: 0.0 | DeltaZ: 0.0\n",
        "2700"
       ]
      },
      {
       "output_type": "stream",
       "stream": "stdout",
       "text": [
        "\n",
        "DeltaX: 5.362945 | DeltaY: 6.588761 | DeltaZ: 0.0\n",
        "2750"
       ]
      },
      {
       "output_type": "stream",
       "stream": "stdout",
       "text": [
        "\n",
        "DeltaX: 0.0 | DeltaY: 9.19362 | DeltaZ: 4.290356\n",
        "2800"
       ]
      },
      {
       "output_type": "stream",
       "stream": "stdout",
       "text": [
        "\n",
        "DeltaX: 0.0 | DeltaY: 4.290356 | DeltaZ: 6.435534\n",
        "2850"
       ]
      },
      {
       "output_type": "stream",
       "stream": "stdout",
       "text": [
        "\n",
        "DeltaX: 0.0 | DeltaY: 13.330749 | DeltaZ: 4.750037\n",
        "2900"
       ]
      },
      {
       "output_type": "stream",
       "stream": "stdout",
       "text": [
        "\n",
        "DeltaX: 3.370994 | DeltaY: 0.0 | DeltaZ: 0.0\n",
        "2950"
       ]
      },
      {
       "output_type": "stream",
       "stream": "stdout",
       "text": [
        "\n",
        "DeltaX: 0.0 | DeltaY: 3.370994 | DeltaZ: 0.0\n",
        "3000"
       ]
      },
      {
       "output_type": "stream",
       "stream": "stdout",
       "text": [
        "\n",
        "DeltaX: 0.0 | DeltaY: 7.201669 | DeltaZ: 4.903264\n",
        "3050"
       ]
      },
      {
       "output_type": "stream",
       "stream": "stdout",
       "text": [
        "\n",
        "DeltaX: 0.0 | DeltaY: 5.516172 | DeltaZ: 0.0\n",
        "3100"
       ]
      },
      {
       "output_type": "stream",
       "stream": "stdout",
       "text": [
        "\n",
        "DeltaX: 0.0 | DeltaY: 0.0 | DeltaZ: 0.0"
       ]
      },
      {
       "output_type": "stream",
       "stream": "stdout",
       "text": [
        "\n",
        "3150"
       ]
      },
      {
       "output_type": "stream",
       "stream": "stdout",
       "text": [
        "\n",
        "DeltaX: 0.0 | DeltaY: 0.0 | DeltaZ: 0.0\n",
        "3200"
       ]
      },
      {
       "output_type": "stream",
       "stream": "stdout",
       "text": [
        "\n",
        "DeltaX: 0.0 | DeltaY: 5.822626 | DeltaZ: 0.0\n",
        "3250"
       ]
      },
      {
       "output_type": "stream",
       "stream": "stdout",
       "text": [
        "\n",
        "DeltaX: 0.0 | DeltaY: 7.048442 | DeltaZ: 0.0\n",
        "3300"
       ]
      },
      {
       "output_type": "stream",
       "stream": "stdout",
       "text": [
        "\n",
        "DeltaX: 0.0 | DeltaY: 14.250111 | DeltaZ: 4.137129\n",
        "3350"
       ]
      },
      {
       "output_type": "stream",
       "stream": "stdout",
       "text": [
        "\n",
        "DeltaX: 0.0 | DeltaY: 0.0 | DeltaZ: 0.0\n",
        "3400"
       ]
      },
      {
       "output_type": "stream",
       "stream": "stdout",
       "text": [
        "\n",
        "DeltaX: 0.0 | DeltaY: 7.66135 | DeltaZ: 0.0\n",
        "3450"
       ]
      },
      {
       "output_type": "stream",
       "stream": "stdout",
       "text": [
        "\n",
        "DeltaX: 0.0 | DeltaY: 0.0 | DeltaZ: 0.0\n",
        "3500"
       ]
      },
      {
       "output_type": "stream",
       "stream": "stdout",
       "text": [
        "\n",
        "DeltaX: 0.0 | DeltaY: 3.06454 | DeltaZ: 0.0\n",
        "3550"
       ]
      },
      {
       "output_type": "stream",
       "stream": "stdout",
       "text": [
        "\n",
        "DeltaX: 0.0 | DeltaY: 0.0 | DeltaZ: 0.0\n",
        "3600"
       ]
      },
      {
       "output_type": "stream",
       "stream": "stdout",
       "text": [
        "\n",
        "DeltaX: 0.0 | DeltaY: 0.0 | DeltaZ: 0.0\n",
        "3650"
       ]
      },
      {
       "output_type": "stream",
       "stream": "stdout",
       "text": [
        "\n",
        "DeltaX: 0.0 | DeltaY: 0.0 | DeltaZ: 0.0"
       ]
      },
      {
       "output_type": "stream",
       "stream": "stdout",
       "text": [
        "\n",
        "3700\n",
        "DeltaX: 0.0 | DeltaY: 0.0 | DeltaZ: 0.0"
       ]
      },
      {
       "output_type": "stream",
       "stream": "stdout",
       "text": [
        "\n",
        "3750"
       ]
      },
      {
       "output_type": "stream",
       "stream": "stdout",
       "text": [
        "\n",
        "DeltaX: 0.0 | DeltaY: 0.0 | DeltaZ: 0.0\n",
        "3800"
       ]
      },
      {
       "output_type": "stream",
       "stream": "stdout",
       "text": [
        "\n",
        "DeltaX: 0.0 | DeltaY: 0.0 | DeltaZ: 0.0\n",
        "3850"
       ]
      },
      {
       "output_type": "stream",
       "stream": "stdout",
       "text": [
        "\n",
        "DeltaX: 0.0 | DeltaY: 0.0 | DeltaZ: 0.0\n",
        "3900"
       ]
      },
      {
       "output_type": "stream",
       "stream": "stdout",
       "text": [
        "\n",
        "DeltaX: 0.0 | DeltaY: 0.0 | DeltaZ: 0.0\n",
        "3950"
       ]
      },
      {
       "output_type": "stream",
       "stream": "stdout",
       "text": [
        "\n",
        "DeltaX: 0.0 | DeltaY: 0.0 | DeltaZ: 0.0"
       ]
      },
      {
       "output_type": "stream",
       "stream": "stdout",
       "text": [
        "\n",
        "4000"
       ]
      },
      {
       "output_type": "stream",
       "stream": "stdout",
       "text": [
        "\n",
        "DeltaX: 0.0 | DeltaY: 0.0 | DeltaZ: 0.0"
       ]
      },
      {
       "output_type": "stream",
       "stream": "stdout",
       "text": [
        "\n",
        "4050"
       ]
      },
      {
       "output_type": "stream",
       "stream": "stdout",
       "text": [
        "\n",
        "DeltaX: 0.0 | DeltaY: 0.0 | DeltaZ: 0.0\n",
        "4100"
       ]
      },
      {
       "output_type": "stream",
       "stream": "stdout",
       "text": [
        "\n",
        "DeltaX: 0.0 | DeltaY: 0.0 | DeltaZ: 0.0\n",
        "4150"
       ]
      },
      {
       "output_type": "stream",
       "stream": "stdout",
       "text": [
        "\n",
        "DeltaX: 0.0 | DeltaY: 0.0 | DeltaZ: 0.0\n",
        "4200"
       ]
      },
      {
       "output_type": "stream",
       "stream": "stdout",
       "text": [
        "\n",
        "DeltaX: 0.0 | DeltaY: 0.0 | DeltaZ: 0.0\n",
        "4250"
       ]
      },
      {
       "output_type": "stream",
       "stream": "stdout",
       "text": [
        "\n",
        "DeltaX: 0.0 | DeltaY: 0.0 | DeltaZ: 0.0\n",
        "4300"
       ]
      },
      {
       "output_type": "stream",
       "stream": "stdout",
       "text": [
        "\n",
        "DeltaX: 0.0 | DeltaY: 0.0 | DeltaZ: 0.0\n",
        "4350"
       ]
      },
      {
       "output_type": "stream",
       "stream": "stdout",
       "text": [
        "\n",
        "DeltaX: 0.0 | DeltaY: 0.0 | DeltaZ: 0.0\n",
        "4400"
       ]
      },
      {
       "output_type": "stream",
       "stream": "stdout",
       "text": [
        "\n",
        "DeltaX: 0.0 | DeltaY: 0.0 | DeltaZ: 0.0\n",
        "4450"
       ]
      },
      {
       "output_type": "stream",
       "stream": "stdout",
       "text": [
        "\n",
        "DeltaX: 0.0 | DeltaY: 0.0 | DeltaZ: 0.0\n",
        "4500"
       ]
      },
      {
       "output_type": "stream",
       "stream": "stdout",
       "text": [
        "\n",
        "DeltaX: 0.0 | DeltaY: 0.0 | DeltaZ: 0.0\n",
        "4550"
       ]
      },
      {
       "output_type": "stream",
       "stream": "stdout",
       "text": [
        "\n",
        "DeltaX: 0.0 | DeltaY: 0.0 | DeltaZ: 0.0\n",
        "4600"
       ]
      },
      {
       "output_type": "stream",
       "stream": "stdout",
       "text": [
        "\n",
        "DeltaX: 0.0 | DeltaY: 0.0 | DeltaZ: 0.0\n",
        "4650"
       ]
      },
      {
       "output_type": "stream",
       "stream": "stdout",
       "text": [
        "\n",
        "DeltaX: 0.0 | DeltaY: 0.0 | DeltaZ: 0.0\n",
        "4700"
       ]
      },
      {
       "output_type": "stream",
       "stream": "stdout",
       "text": [
        "\n",
        "DeltaX: 0.0 | DeltaY: 0.0 | DeltaZ: 0.0\n",
        "4750"
       ]
      },
      {
       "output_type": "stream",
       "stream": "stdout",
       "text": [
        "\n",
        "DeltaX: 0.0 | DeltaY: 0.0 | DeltaZ: 0.0\n",
        "4800"
       ]
      },
      {
       "output_type": "stream",
       "stream": "stdout",
       "text": [
        "\n",
        "DeltaX: 0.0 | DeltaY: 0.0 | DeltaZ: 0.0\n",
        "4850"
       ]
      },
      {
       "output_type": "stream",
       "stream": "stdout",
       "text": [
        "\n",
        "DeltaX: 0.0 | DeltaY: 0.0 | DeltaZ: 0.0\n",
        "4900"
       ]
      },
      {
       "output_type": "stream",
       "stream": "stdout",
       "text": [
        "\n",
        "DeltaX: 0.0 | DeltaY: 0.0 | DeltaZ: 0.0\n",
        "4950"
       ]
      },
      {
       "output_type": "stream",
       "stream": "stdout",
       "text": [
        "\n",
        "DeltaX: 0.0 | DeltaY: 0.0 | DeltaZ: 0.0\n",
        "5000"
       ]
      },
      {
       "output_type": "stream",
       "stream": "stdout",
       "text": [
        "\n",
        "DeltaX: 0.0 | DeltaY: 0.0 | DeltaZ: 0.0\n",
        "5050"
       ]
      },
      {
       "output_type": "stream",
       "stream": "stdout",
       "text": [
        "\n",
        "DeltaX: 0.0 | DeltaY: 0.0 | DeltaZ: 0.0\n",
        "5100"
       ]
      },
      {
       "output_type": "stream",
       "stream": "stdout",
       "text": [
        "\n",
        "DeltaX: 0.0 | DeltaY: 0.0 | DeltaZ: 0.0\n",
        "5150"
       ]
      },
      {
       "output_type": "stream",
       "stream": "stdout",
       "text": [
        "\n",
        "DeltaX: 0.0 | DeltaY: 0.0 | DeltaZ: 0.0\n",
        "5200"
       ]
      },
      {
       "output_type": "stream",
       "stream": "stdout",
       "text": [
        "\n",
        "DeltaX: 0.0 | DeltaY: 0.0 | DeltaZ: 0.0\n",
        "5250"
       ]
      },
      {
       "output_type": "stream",
       "stream": "stdout",
       "text": [
        "\n",
        "DeltaX: 0.0 | DeltaY: 0.0 | DeltaZ: 0.0\n",
        "5300"
       ]
      },
      {
       "output_type": "stream",
       "stream": "stdout",
       "text": [
        "\n",
        "DeltaX: 0.0 | DeltaY: 0.0 | DeltaZ: 0.0\n",
        "5350"
       ]
      },
      {
       "output_type": "stream",
       "stream": "stdout",
       "text": [
        "\n",
        "DeltaX: 0.0 | DeltaY: 0.0 | DeltaZ: 0.0\n",
        "5400"
       ]
      },
      {
       "output_type": "stream",
       "stream": "stdout",
       "text": [
        "\n",
        "DeltaX: 0.0 | DeltaY: 0.0 | DeltaZ: 0.0\n",
        "5450"
       ]
      },
      {
       "output_type": "stream",
       "stream": "stdout",
       "text": [
        "\n",
        "DeltaX: 0.0 | DeltaY: 0.0 | DeltaZ: 0.0\n",
        "5500"
       ]
      },
      {
       "output_type": "stream",
       "stream": "stdout",
       "text": [
        "\n",
        "DeltaX: 0.0 | DeltaY: 0.0 | DeltaZ: 0.0\n",
        "5550"
       ]
      },
      {
       "output_type": "stream",
       "stream": "stdout",
       "text": [
        "\n",
        "DeltaX: 0.0 | DeltaY: 0.0 | DeltaZ: 0.0\n",
        "5600"
       ]
      },
      {
       "output_type": "stream",
       "stream": "stdout",
       "text": [
        "\n",
        "DeltaX: 0.0 | DeltaY: 0.0 | DeltaZ: 0.0\n",
        "5650"
       ]
      },
      {
       "output_type": "stream",
       "stream": "stdout",
       "text": [
        "\n",
        "DeltaX: 0.0 | DeltaY: 0.0 | DeltaZ: 0.0\n",
        "5700"
       ]
      },
      {
       "output_type": "stream",
       "stream": "stdout",
       "text": [
        "\n",
        "DeltaX: 0.0 | DeltaY: 0.0 | DeltaZ: 0.0\n",
        "5750"
       ]
      },
      {
       "output_type": "stream",
       "stream": "stdout",
       "text": [
        "\n",
        "DeltaX: 0.0 | DeltaY: 0.0 | DeltaZ: 0.0\n",
        "5800"
       ]
      },
      {
       "output_type": "stream",
       "stream": "stdout",
       "text": [
        "\n",
        "DeltaX: 0.0 | DeltaY: 0.0 | DeltaZ: 0.0\n",
        "5850"
       ]
      },
      {
       "output_type": "stream",
       "stream": "stdout",
       "text": [
        "\n",
        "DeltaX: 0.0 | DeltaY: 0.0 | DeltaZ: 0.0\n",
        "5900"
       ]
      },
      {
       "output_type": "stream",
       "stream": "stdout",
       "text": [
        "\n",
        "DeltaX: 11.645252 | DeltaY: 5.056491 | DeltaZ: 5.209718"
       ]
      },
      {
       "output_type": "stream",
       "stream": "stdout",
       "text": [
        "\n",
        "5950\n",
        "DeltaX: 17.008197 | DeltaY: 4.750037 | DeltaZ: 3.983902"
       ]
      },
      {
       "output_type": "stream",
       "stream": "stdout",
       "text": [
        "\n",
        "6000"
       ]
      },
      {
       "output_type": "stream",
       "stream": "stdout",
       "text": [
        "\n",
        "DeltaX: 5.516172 | DeltaY: 0.0 | DeltaZ: 0.0\n",
        "6050"
       ]
      },
      {
       "output_type": "stream",
       "stream": "stdout",
       "text": [
        "\n",
        "DeltaX: 9.346847 | DeltaY: 0.0 | DeltaZ: 0.0\n",
        "6100"
       ]
      },
      {
       "output_type": "stream",
       "stream": "stdout",
       "text": [
        "\n",
        "DeltaX: 12.104933 | DeltaY: 3.370994 | DeltaZ: 4.443583\n",
        "6150"
       ]
      },
      {
       "output_type": "stream",
       "stream": "stdout",
       "text": [
        "\n",
        "DeltaX: 0.0 | DeltaY: 0.0 | DeltaZ: 0.0\n",
        "6200"
       ]
      },
      {
       "output_type": "stream",
       "stream": "stdout",
       "text": [
        "\n",
        "DeltaX: 21.298553 | DeltaY: 7.201669 | DeltaZ: 0.0\n",
        "6250"
       ]
      },
      {
       "output_type": "stream",
       "stream": "stdout",
       "text": [
        "\n",
        "DeltaX: 5.056491 | DeltaY: 0.0 | DeltaZ: 0.0\n",
        "6300"
       ]
      },
      {
       "output_type": "stream",
       "stream": "stdout",
       "text": [
        "\n",
        "DeltaX: 17.314651 | DeltaY: 7.814577 | DeltaZ: 4.59681\n",
        "6350"
       ]
      },
      {
       "output_type": "stream",
       "stream": "stdout",
       "text": [
        "\n",
        "DeltaX: 0.0 | DeltaY: 0.0 | DeltaZ: 0.0"
       ]
      },
      {
       "output_type": "stream",
       "stream": "stdout",
       "text": [
        "\n",
        "6400\n",
        "DeltaX: 16.395289 | DeltaY: 8.121031 | DeltaZ: 3.217767"
       ]
      },
      {
       "output_type": "stream",
       "stream": "stdout",
       "text": [
        "\n",
        "6450\n",
        "DeltaX: 0.0 | DeltaY: 0.0 | DeltaZ: 0.0"
       ]
      },
      {
       "output_type": "stream",
       "stream": "stdout",
       "text": [
        "\n",
        "6500"
       ]
      },
      {
       "output_type": "stream",
       "stream": "stdout",
       "text": [
        "\n",
        "DeltaX: 5.362945 | DeltaY: 0.0 | DeltaZ: 0.0\n",
        "6550"
       ]
      },
      {
       "output_type": "stream",
       "stream": "stdout",
       "text": [
        "\n",
        "DeltaX: 0.0 | DeltaY: 0.0 | DeltaZ: 0.0\n",
        "6600"
       ]
      },
      {
       "output_type": "stream",
       "stream": "stdout",
       "text": [
        "\n",
        "DeltaX: 0.0 | DeltaY: 0.0 | DeltaZ: 0.0\n",
        "6650"
       ]
      },
      {
       "output_type": "stream",
       "stream": "stdout",
       "text": [
        "\n",
        "DeltaX: 0.0 | DeltaY: 0.0 | DeltaZ: 0.0\n",
        "6700"
       ]
      },
      {
       "output_type": "stream",
       "stream": "stdout",
       "text": [
        "\n",
        "DeltaX: 0.0 | DeltaY: 0.0 | DeltaZ: 0.0\n",
        "6750"
       ]
      },
      {
       "output_type": "stream",
       "stream": "stdout",
       "text": [
        "\n",
        "DeltaX: 0.0 | DeltaY: 0.0 | DeltaZ: 0.0\n",
        "6800"
       ]
      },
      {
       "output_type": "stream",
       "stream": "stdout",
       "text": [
        "\n",
        "DeltaX: 0.0 | DeltaY: 0.0 | DeltaZ: 0.0\n",
        "6850"
       ]
      },
      {
       "output_type": "stream",
       "stream": "stdout",
       "text": [
        "\n",
        "DeltaX: 0.0 | DeltaY: 0.0 | DeltaZ: 0.0\n",
        "6900"
       ]
      },
      {
       "output_type": "stream",
       "stream": "stdout",
       "text": [
        "\n",
        "DeltaX: 0.0 | DeltaY: 0.0 | DeltaZ: 0.0\n",
        "6950"
       ]
      },
      {
       "output_type": "stream",
       "stream": "stdout",
       "text": [
        "\n",
        "DeltaX: 0.0 | DeltaY: 0.0 | DeltaZ: 0.0\n",
        "7000"
       ]
      },
      {
       "output_type": "stream",
       "stream": "stdout",
       "text": [
        "\n",
        "DeltaX: 0.0 | DeltaY: 0.0 | DeltaZ: 0.0\n",
        "7050"
       ]
      },
      {
       "output_type": "stream",
       "stream": "stdout",
       "text": [
        "\n",
        "DeltaX: 0.0 | DeltaY: 0.0 | DeltaZ: 0.0\n",
        "7100"
       ]
      },
      {
       "output_type": "stream",
       "stream": "stdout",
       "text": [
        "\n",
        "DeltaX: 0.0 | DeltaY: 0.0 | DeltaZ: 0.0\n",
        "7150"
       ]
      },
      {
       "output_type": "stream",
       "stream": "stdout",
       "text": [
        "\n",
        "DeltaX: 0.0 | DeltaY: 0.0 | DeltaZ: 0.0\n",
        "7200"
       ]
      },
      {
       "output_type": "stream",
       "stream": "stdout",
       "text": [
        "\n",
        "DeltaX: 0.0 | DeltaY: 0.0 | DeltaZ: 0.0\n",
        "7250"
       ]
      },
      {
       "output_type": "stream",
       "stream": "stdout",
       "text": [
        "\n",
        "DeltaX: 0.0 | DeltaY: 0.0 | DeltaZ: 0.0\n",
        "7300"
       ]
      },
      {
       "output_type": "stream",
       "stream": "stdout",
       "text": [
        "\n",
        "DeltaX: 0.0 | DeltaY: 0.0 | DeltaZ: 0.0\n",
        "7350"
       ]
      },
      {
       "output_type": "stream",
       "stream": "stdout",
       "text": [
        "\n",
        "DeltaX: 0.0 | DeltaY: 0.0 | DeltaZ: 0.0\n",
        "7400"
       ]
      },
      {
       "output_type": "stream",
       "stream": "stdout",
       "text": [
        "\n",
        "DeltaX: 0.0 | DeltaY: 0.0 | DeltaZ: 0.0\n",
        "7450"
       ]
      },
      {
       "output_type": "stream",
       "stream": "stdout",
       "text": [
        "\n",
        "DeltaX: 0.0 | DeltaY: 0.0 | DeltaZ: 0.0\n",
        "7500"
       ]
      },
      {
       "output_type": "stream",
       "stream": "stdout",
       "text": [
        "\n",
        "DeltaX: 0.0 | DeltaY: 0.0 | DeltaZ: 0.0\n",
        "7550"
       ]
      },
      {
       "output_type": "stream",
       "stream": "stdout",
       "text": [
        "\n",
        "DeltaX: 0.0 | DeltaY: 0.0 | DeltaZ: 0.0\n",
        "7600"
       ]
      },
      {
       "output_type": "stream",
       "stream": "stdout",
       "text": [
        "\n",
        "DeltaX: 0.0 | DeltaY: 0.0 | DeltaZ: 0.0\n",
        "7650"
       ]
      },
      {
       "output_type": "stream",
       "stream": "stdout",
       "text": [
        "\n",
        "DeltaX: 0.0 | DeltaY: 0.0 | DeltaZ: 0.0\n",
        "7700"
       ]
      },
      {
       "output_type": "stream",
       "stream": "stdout",
       "text": [
        "\n",
        "DeltaX: 0.0 | DeltaY: 0.0 | DeltaZ: 0.0\n",
        "7750"
       ]
      },
      {
       "output_type": "stream",
       "stream": "stdout",
       "text": [
        "\n",
        "DeltaX: 0.0 | DeltaY: 0.0 | DeltaZ: 0.0"
       ]
      },
      {
       "output_type": "stream",
       "stream": "stdout",
       "text": [
        "\n",
        "7800\n",
        "DeltaX: 0.0 | DeltaY: 8.274258 | DeltaZ: 3.06454"
       ]
      },
      {
       "output_type": "stream",
       "stream": "stdout",
       "text": [
        "\n",
        "7850"
       ]
      },
      {
       "output_type": "stream",
       "stream": "stdout",
       "text": [
        "\n",
        "DeltaX: 0.0 | DeltaY: 4.290356 | DeltaZ: 0.0\n",
        "7900"
       ]
      },
      {
       "output_type": "stream",
       "stream": "stdout",
       "text": [
        "\n",
        "DeltaX: 0.0 | DeltaY: 7.814577 | DeltaZ: 0.0\n",
        "7950"
       ]
      },
      {
       "output_type": "stream",
       "stream": "stdout",
       "text": [
        "\n",
        "DeltaX: 3.06454 | DeltaY: 0.0 | DeltaZ: 0.0\n",
        "8000"
       ]
      },
      {
       "output_type": "stream",
       "stream": "stdout",
       "text": [
        "\n",
        "DeltaX: 0.0 | DeltaY: 0.0 | DeltaZ: 0.0\n",
        "8050"
       ]
      },
      {
       "output_type": "stream",
       "stream": "stdout",
       "text": [
        "\n",
        "DeltaX: 3.677448 | DeltaY: 11.338798 | DeltaZ: 3.830675\n",
        "8100"
       ]
      },
      {
       "output_type": "stream",
       "stream": "stdout",
       "text": [
        "\n",
        "DeltaX: 0.0 | DeltaY: 3.217767 | DeltaZ: 4.59681\n",
        "8150"
       ]
      },
      {
       "output_type": "stream",
       "stream": "stdout",
       "text": [
        "\n",
        "DeltaX: 3.06454 | DeltaY: 6.895215 | DeltaZ: 0.0\n",
        "8200"
       ]
      },
      {
       "output_type": "stream",
       "stream": "stdout",
       "text": [
        "\n",
        "DeltaX: 3.370994 | DeltaY: 4.59681 | DeltaZ: 0.0\n",
        "8250"
       ]
      },
      {
       "output_type": "stream",
       "stream": "stdout",
       "text": [
        "\n",
        "DeltaX: 3.370994 | DeltaY: 3.677448 | DeltaZ: 0.0\n",
        "8300"
       ]
      },
      {
       "output_type": "stream",
       "stream": "stdout",
       "text": [
        "\n",
        "DeltaX: 0.0 | DeltaY: 9.19362 | DeltaZ: 6.588761\n",
        "8350"
       ]
      },
      {
       "output_type": "stream",
       "stream": "stdout",
       "text": [
        "\n",
        "DeltaX: 0.0 | DeltaY: 0.0 | DeltaZ: 0.0\n",
        "8400"
       ]
      },
      {
       "output_type": "stream",
       "stream": "stdout",
       "text": [
        "\n",
        "DeltaX: 0.0 | DeltaY: 4.290356 | DeltaZ: 3.06454"
       ]
      },
      {
       "output_type": "stream",
       "stream": "stdout",
       "text": [
        "\n",
        "8450"
       ]
      },
      {
       "output_type": "stream",
       "stream": "stdout",
       "text": [
        "\n",
        "DeltaX: 3.524221 | DeltaY: 6.282307 | DeltaZ: 0.0\n",
        "8500"
       ]
      },
      {
       "output_type": "stream",
       "stream": "stdout",
       "text": [
        "\n",
        "DeltaX: 3.217767 | DeltaY: 0.0 | DeltaZ: 0.0\n",
        "8550"
       ]
      },
      {
       "output_type": "stream",
       "stream": "stdout",
       "text": [
        "\n",
        "DeltaX: 6.435534 | DeltaY: 9.040393 | DeltaZ: 0.0"
       ]
      },
      {
       "output_type": "stream",
       "stream": "stdout",
       "text": [
        "\n",
        "8600\n",
        "DeltaX: 0.0 | DeltaY: 9.346847 | DeltaZ: 3.217767"
       ]
      },
      {
       "output_type": "stream",
       "stream": "stdout",
       "text": [
        "\n",
        "8650"
       ]
      },
      {
       "output_type": "stream",
       "stream": "stdout",
       "text": [
        "\n",
        "DeltaX: 0.0 | DeltaY: 0.0 | DeltaZ: 0.0\n",
        "8700"
       ]
      },
      {
       "output_type": "stream",
       "stream": "stdout",
       "text": [
        "\n",
        "DeltaX: 0.0 | DeltaY: 0.0 | DeltaZ: 0.0\n",
        "8750"
       ]
      },
      {
       "output_type": "stream",
       "stream": "stdout",
       "text": [
        "\n",
        "DeltaX: 0.0 | DeltaY: 0.0 | DeltaZ: 0.0\n",
        "8800"
       ]
      },
      {
       "output_type": "stream",
       "stream": "stdout",
       "text": [
        "\n",
        "DeltaX: 0.0 | DeltaY: 0.0 | DeltaZ: 0.0\n",
        "8850"
       ]
      },
      {
       "output_type": "stream",
       "stream": "stdout",
       "text": [
        "\n",
        "DeltaX: 0.0 | DeltaY: 0.0 | DeltaZ: 0.0\n",
        "8900"
       ]
      },
      {
       "output_type": "stream",
       "stream": "stdout",
       "text": [
        "\n",
        "DeltaX: 0.0 | DeltaY: 0.0 | DeltaZ: 0.0\n",
        "8950"
       ]
      },
      {
       "output_type": "stream",
       "stream": "stdout",
       "text": [
        "\n",
        "DeltaX: 0.0 | DeltaY: 0.0 | DeltaZ: 0.0\n",
        "9000"
       ]
      },
      {
       "output_type": "stream",
       "stream": "stdout",
       "text": [
        "\n",
        "DeltaX: 0.0 | DeltaY: 0.0 | DeltaZ: 0.0\n",
        "9050"
       ]
      },
      {
       "output_type": "stream",
       "stream": "stdout",
       "text": [
        "\n",
        "DeltaX: 0.0 | DeltaY: 0.0 | DeltaZ: 0.0\n",
        "9100"
       ]
      },
      {
       "output_type": "stream",
       "stream": "stdout",
       "text": [
        "\n",
        "DeltaX: 0.0 | DeltaY: 0.0 | DeltaZ: 0.0\n",
        "9150"
       ]
      },
      {
       "output_type": "stream",
       "stream": "stdout",
       "text": [
        "\n",
        "DeltaX: 0.0 | DeltaY: 0.0 | DeltaZ: 0.0\n",
        "9200"
       ]
      },
      {
       "output_type": "stream",
       "stream": "stdout",
       "text": [
        "\n",
        "DeltaX: 0.0 | DeltaY: 0.0 | DeltaZ: 0.0\n",
        "9250"
       ]
      },
      {
       "output_type": "stream",
       "stream": "stdout",
       "text": [
        "\n",
        "DeltaX: 0.0 | DeltaY: 0.0 | DeltaZ: 0.0\n",
        "9300"
       ]
      },
      {
       "output_type": "stream",
       "stream": "stdout",
       "text": [
        "\n",
        "DeltaX: 0.0 | DeltaY: 0.0 | DeltaZ: 0.0\n",
        "9350"
       ]
      },
      {
       "output_type": "stream",
       "stream": "stdout",
       "text": [
        "\n",
        "DeltaX: 0.0 | DeltaY: 0.0 | DeltaZ: 0.0"
       ]
      },
      {
       "output_type": "stream",
       "stream": "stdout",
       "text": [
        "\n",
        "9400\n",
        "DeltaX: 0.0 | DeltaY: 0.0 | DeltaZ: 0.0"
       ]
      },
      {
       "output_type": "stream",
       "stream": "stdout",
       "text": [
        "\n",
        "9450\n",
        "DeltaX: 0.0 | DeltaY: 0.0 | DeltaZ: 0.0"
       ]
      },
      {
       "output_type": "stream",
       "stream": "stdout",
       "text": [
        "\n",
        "9500"
       ]
      },
      {
       "output_type": "stream",
       "stream": "stdout",
       "text": [
        "\n",
        "DeltaX: 0.0 | DeltaY: 0.0 | DeltaZ: 0.0\n",
        "9550"
       ]
      },
      {
       "output_type": "stream",
       "stream": "stdout",
       "text": [
        "\n",
        "DeltaX: 0.0 | DeltaY: 0.0 | DeltaZ: 0.0"
       ]
      },
      {
       "output_type": "stream",
       "stream": "stdout",
       "text": [
        "\n",
        "9600"
       ]
      },
      {
       "output_type": "stream",
       "stream": "stdout",
       "text": [
        "\n",
        "DeltaX: 0.0 | DeltaY: 0.0 | DeltaZ: 0.0\n",
        "9650"
       ]
      },
      {
       "output_type": "stream",
       "stream": "stdout",
       "text": [
        "\n",
        "DeltaX: 0.0 | DeltaY: 0.0 | DeltaZ: 0.0\n",
        "9700"
       ]
      },
      {
       "output_type": "stream",
       "stream": "stdout",
       "text": [
        "\n",
        "DeltaX: 0.0 | DeltaY: 0.0 | DeltaZ: 0.0"
       ]
      },
      {
       "output_type": "stream",
       "stream": "stdout",
       "text": [
        "\n",
        "9750"
       ]
      },
      {
       "output_type": "stream",
       "stream": "stdout",
       "text": [
        "\n",
        "DeltaX: 0.0 | DeltaY: 0.0 | DeltaZ: 0.0\n",
        "9800"
       ]
      },
      {
       "output_type": "stream",
       "stream": "stdout",
       "text": [
        "\n",
        "DeltaX: 0.0 | DeltaY: 0.0 | DeltaZ: 0.0\n",
        "9850"
       ]
      },
      {
       "output_type": "stream",
       "stream": "stdout",
       "text": [
        "\n",
        "DeltaX: 0.0 | DeltaY: 0.0 | DeltaZ: 0.0\n",
        "9900"
       ]
      },
      {
       "output_type": "stream",
       "stream": "stdout",
       "text": [
        "\n",
        "DeltaX: 0.0 | DeltaY: 0.0 | DeltaZ: 0.0\n",
        "9950"
       ]
      },
      {
       "output_type": "stream",
       "stream": "stdout",
       "text": [
        "\n",
        "DeltaX: 0.0 | DeltaY: 0.0 | DeltaZ: 0.0\n",
        "10000"
       ]
      },
      {
       "output_type": "stream",
       "stream": "stdout",
       "text": [
        "\n",
        "DeltaX: 0.0 | DeltaY: 0.0 | DeltaZ: 0.0\n",
        "10050"
       ]
      },
      {
       "output_type": "stream",
       "stream": "stdout",
       "text": [
        "\n"
       ]
      },
      {
       "metadata": {},
       "output_type": "pyout",
       "prompt_number": 5,
       "text": [
        "Result(id=624, result=None, error=None)"
       ]
      }
     ],
     "prompt_number": 5
    },
    {
     "cell_type": "code",
     "collapsed": false,
     "input": [
      "import android\n",
      "import math\n",
      "import time\n",
      "droide = android.Android()\n",
      "tolerancia=0\n",
      "numeroSacudidas=0\n",
      "numeroCel=0\n",
      "texto=\"\"\n",
      "segundosEnEjecucion=0\n",
      "escucharNotificacion = False\n",
      "\n",
      "def configuracion():\n",
      "    droide.dialogCreateAlert(\"Sacude-SMS\",\"App. que permite detectar una cierta cantidad de sacudidas del celular horizontal o vertialmente durante x cantidad de tiempo y que reacciona enviando un mensaje de texto de forma autom\u00e1tica a un determinado celular. A continuaci\u00f3n se pedir\u00e1n 6 datos.\")\n",
      "    droide.dialogSetPositiveButtonText(\"Ok\")\n",
      "    droide.dialogShow()\n",
      "    respuesta = droide.dialogGetResponse().result\n",
      "    droide.dialogCreateInput(\"1/6 - Tolerancia\", \"No. de tolerancia, mientras m\u00e1s alta, mas precisa pero requiere un movimiento m\u00e1s r\u00e1pido (puede ser 2,4,5,etc)\",\"\",\"number\")\n",
      "    droide.dialogShow()\n",
      "    global tolerancia\n",
      "    tolerancia = droide.dialogGetResponse().result['value']\n",
      "    if tolerancia == \"\":\n",
      "        tolerancia = 30\n",
      "    droide.dialogCreateInput(\"2/6 - Numero de sacudidas\", \"No. m\u00e1ximo de sacudidas para enviar el mensaje (vertical u horizontalmente)\",\"\",\"number\")\n",
      "    droide.dialogShow()\n",
      "    global numeroSacudidas\n",
      "    numeroSacudidas = droide.dialogGetResponse().result['value']\n",
      "    if numeroSacudidas ==\"\":\n",
      "        numeroSacudidas = 30\n",
      "    droide.dialogCreateInput(\"3/6 - Numero de Celular\", \"No. de celular al cual enviar el mensaje\",\"\",\"number\")\n",
      "    droide.dialogShow()\n",
      "    global numeroCel\n",
      "    numeroCel = droide.dialogGetResponse().result['value']\n",
      "    if numeroCel == \"\":\n",
      "        numeroCel = 0\n",
      "    droide.dialogCreateInput(\"4/6 - Texto a mandar\", \"Texto que se enviar\u00e1 luego de \"+str(numeroSacudidas)+\" sacudidas\" ,\"\",\"text\")\n",
      "    droide.dialogShow()\n",
      "    global texto\n",
      "    texto = droide.dialogGetResponse().result['value']\n",
      "    print (texto)\n",
      "    droide.dialogCreateInput(\"5/6 - Tiempo de Ejecuci\u00f3n\", \"Tiempo en que se ejecutar\u00e1 el programa en segundo plano (en segundos)\" ,\"\",\"number\")\n",
      "    droide.dialogShow()\n",
      "    global segundosEnEjecucion\n",
      "    segundosEnEjecucion = droide.dialogGetResponse().result['value']\n",
      "    if segundosEnEjecucion == \"\":\n",
      "        segundosEnEjecucion = 0\n",
      "    droide.dialogCreateInput(\"6/6 - Escuchar Notificacion\", \"\u00bfDeseas escuchar una notificaci\u00f3n al mandar el mensaje? 1:Si, 0:No (Si no, se notifica con un mensaje breve en pantalla)\" ,\"\",\"number\")\n",
      "    droide.dialogShow()\n",
      "    global  escucharNotificacion\n",
      "    respuesta = droide.dialogGetResponse().result['value']\n",
      "    if respuesta == \"\":\n",
      "        respuesta = False\n",
      "    if int(respuesta) == 1:\n",
      "        escucharNotificacion = True\n",
      "    return\n",
      "\n",
      "def comienzaEscucha():\n",
      "    tiempoActualizaciones = 50  #0.05 segundos\n",
      "    tiempoTranscurrido = 0\n",
      "    droide.startSensingTimed(2,tiempoActualizaciones)\n",
      "    noHayDatos = True\n",
      "    cantidadHorizontal = 0\n",
      "    cantidadVertical = 0\n",
      "    x = 0.0\n",
      "    ultimaX = 0.0\n",
      "    deltaX = 0.0\n",
      "    y = 0.0\n",
      "    ultimaY = 0.0\n",
      "    deltaY = 0.0\n",
      "    z = 0.0\n",
      "    ultimaZ = 0.0\n",
      "    deltaZ = 0.0\n",
      "    segundosParaEjecutarse = int(segundosEnEjecucion)*1000\n",
      "    while tiempoTranscurrido <= segundosParaEjecutarse:\n",
      "        x = droide.sensorsReadAccelerometer().result[0]\n",
      "        y = droide.sensorsReadAccelerometer().result[1]\n",
      "        z = droide.sensorsReadAccelerometer().result[2]\n",
      "        if noHayDatos or ultimaX == None:\n",
      "            ultimaX = x\n",
      "            ultimaY = y\n",
      "            ultimaZ = z\n",
      "            noHayDatos = False\n",
      "        else:\n",
      "            deltaX = math.fabs( x - ultimaX )\n",
      "            deltaY = math.fabs( y - ultimaY )\n",
      "            deltaZ = math.fabs( z - ultimaZ )\n",
      "            if deltaX < int(tolerancia):\n",
      "                deltaX = 0.0\n",
      "            if deltaY < int(tolerancia):\n",
      "                deltaY = 0.0\n",
      "            if deltaZ < int(tolerancia):\n",
      "                deltaZ = 0.0\n",
      "            if deltaX > deltaY:\n",
      "                cantidadHorizontal += 1\n",
      "                cantidadVertical = 0\n",
      "            elif deltaX < deltaY:\n",
      "                cantidadVertical += 1\n",
      "                cantidadHorizontal = 0\n",
      "            if (cantidadHorizontal == int(numeroSacudidas)):\n",
      "                    cantidadVertical = 0\n",
      "                    cantidadHorizontal = 0\n",
      "                    droide.smsSend(str(numeroCel),texto)\n",
      "                    if escucharNotificacion:\n",
      "                        droide.ttsSpeak(\"Mensaje enviado al \"+str(numeroCel))\n",
      "                    else:\n",
      "                        droide.makeToast(\"Mensaje enviado al \"+str(numeroCel))\n",
      "            elif (cantidadVertical == int(numeroSacudidas)):\n",
      "                    cantidadHorizontal = 0\n",
      "                    cantidadVertical = 0\n",
      "                    droide.smsSend(str(numeroCel),texto)\n",
      "                    if escucharNotificacion:\n",
      "                        droide.ttsSpeak(\"Mensaje enviado al \"+str(numeroCel))\n",
      "                    else:\n",
      "                        droide.makeToast(\"Mensaje enviado al \"+str(numeroCel))\n",
      "            ultimaX = x\n",
      "            ultimaY = y\n",
      "            ultimaZ = z\n",
      "            print (\"DeltaX: \" + str(deltaX) + \" | DeltaY: \" + str(deltaY) + \" | DeltaZ: \"+ str(deltaZ))\n",
      "        time.sleep(tiempoActualizaciones/1000.0)\n",
      "        tiempoTranscurrido += tiempoActualizaciones\n",
      "    return\n",
      "\n",
      "configuracion()\n",
      "comienzaEscucha()\n",
      "droide.stopSensing()"
     ],
     "language": "python",
     "metadata": {},
     "outputs": [
      {
       "output_type": "stream",
       "stream": "stdout",
       "text": [
        "\n",
        "50"
       ]
      },
      {
       "output_type": "stream",
       "stream": "stdout",
       "text": [
        "\n"
       ]
      },
      {
       "metadata": {},
       "output_type": "pyout",
       "prompt_number": 20,
       "text": [
        "Result(id=26, result=None, error=None)"
       ]
      }
     ],
     "prompt_number": 20
    }
   ],
   "metadata": {}
  }
 ]
}