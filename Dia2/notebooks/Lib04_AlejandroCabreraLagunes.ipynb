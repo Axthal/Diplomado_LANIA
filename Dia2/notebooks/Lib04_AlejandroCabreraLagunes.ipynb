{
 "metadata": {
  "name": "",
  "signature": "sha256:d12fdd45cccf1251d408889f1ddd9617336c3e7fdf2fb9236ab2e0e7e07e9b19"
 },
 "nbformat": 3,
 "nbformat_minor": 0,
 "worksheets": [
  {
   "cells": [
    {
     "cell_type": "code",
     "collapsed": false,
     "input": [
      "%run ../talktools.py"
     ],
     "language": "python",
     "metadata": {},
     "outputs": [
      {
       "html": [
        "<link href='http://fonts.googleapis.com/css?family=Alegreya+Sans:100,300,400,500,700,800,900,100italic,300italic,400italic,500italic,700italic,800italic,900italic' rel='stylesheet' type='text/css'>\n",
        "<link href='http://fonts.googleapis.com/css?family=Arvo:400,700,400italic' rel='stylesheet' type='text/css'>\n",
        "<link href='http://fonts.googleapis.com/css?family=PT+Mono' rel='stylesheet' type='text/css'>\n",
        "<link href='http://fonts.googleapis.com/css?family=Shadows+Into+Light' rel='stylesheet' type='text/css'>\n",
        "<link href='http://fonts.googleapis.com/css?family=Nixie+One' rel='stylesheet' type='text/css'>\n",
        "<style>\n",
        "\n",
        "@font-face {\n",
        "    font-family: \"Computer Modern\";\n",
        "    src: url('http://mirrors.ctan.org/fonts/cm-unicode/fonts/otf/cmunss.otf');\n",
        "}\n",
        "\n",
        "#notebook_panel { /* main background */\n",
        "    background: rgb(245,245,245);\n",
        "}\n",
        "\n",
        "div.cell { /* set cell width */\n",
        "    width: 750px;\n",
        "}\n",
        "\n",
        "div #notebook { /* centre the content */\n",
        "    background: #fff; /* white background for content */\n",
        "    width: 1000px;\n",
        "    margin: auto;\n",
        "    padding-left: 0em;\n",
        "}\n",
        "\n",
        "#notebook li { /* More space between bullet points */\n",
        "margin-top:0.8em;\n",
        "}\n",
        "\n",
        "/* draw border around running cells */\n",
        "div.cell.border-box-sizing.code_cell.running { \n",
        "    border: 1px solid #111;\n",
        "}\n",
        "\n",
        "/* Put a solid color box around each cell and its output, visually linking them*/\n",
        "div.cell.code_cell {\n",
        "    background-color: rgb(256,256,256); \n",
        "    border-radius: 0px; \n",
        "    padding: 0.5em;\n",
        "    margin-left:1em;\n",
        "    margin-top: 1em;\n",
        "}\n",
        "\n",
        "div.text_cell_render{\n",
        "    font-family: 'Alegreya Sans' sans-serif;\n",
        "    line-height: 140%;\n",
        "    font-size: 125%;\n",
        "    font-weight: 400;\n",
        "    width:600px;\n",
        "    margin-left:auto;\n",
        "    margin-right:auto;\n",
        "}\n",
        "\n",
        "\n",
        "/* Formatting for header cells */\n",
        ".text_cell_render h1 {\n",
        "    font-family: 'Nixie One', serif;\n",
        "    font-style:regular;\n",
        "    font-weight: 400;    \n",
        "    font-size: 45pt;\n",
        "    line-height: 100%;\n",
        "    color: rgb(0,51,102);\n",
        "    margin-bottom: 0.5em;\n",
        "    margin-top: 0.5em;\n",
        "    display: block;\n",
        "}\t\n",
        ".text_cell_render h2 {\n",
        "    font-family: 'Nixie One', serif;\n",
        "    font-weight: 400;\n",
        "    font-size: 30pt;\n",
        "    line-height: 100%;\n",
        "    color: rgb(0,51,102);\n",
        "    margin-bottom: 0.1em;\n",
        "    margin-top: 0.3em;\n",
        "    display: block;\n",
        "}\t\n",
        "\n",
        ".text_cell_render h3 {\n",
        "    font-family: 'Nixie One', serif;\n",
        "    margin-top:16px;\n",
        "\tfont-size: 22pt;\n",
        "    font-weight: 600;\n",
        "    margin-bottom: 3px;\n",
        "    font-style: regular;\n",
        "    color: rgb(102,102,0);\n",
        "}\n",
        "\n",
        ".text_cell_render h4 {    /*Use this for captions*/\n",
        "    font-family: 'Nixie One', serif;\n",
        "    font-size: 14pt;\n",
        "    text-align: center;\n",
        "    margin-top: 0em;\n",
        "    margin-bottom: 2em;\n",
        "    font-style: regular;\n",
        "}\n",
        "\n",
        ".text_cell_render h5 {  /*Use this for small titles*/\n",
        "    font-family: 'Nixie One', sans-serif;\n",
        "    font-weight: 400;\n",
        "    font-size: 16pt;\n",
        "    color: rgb(163,0,0);\n",
        "    font-style: italic;\n",
        "    margin-bottom: .1em;\n",
        "    margin-top: 0.8em;\n",
        "    display: block;\n",
        "}\n",
        "\n",
        ".text_cell_render h6 { /*use this for copyright note*/\n",
        "    font-family: 'PT Mono', sans-serif;\n",
        "    font-weight: 300;\n",
        "    font-size: 9pt;\n",
        "    line-height: 100%;\n",
        "    color: grey;\n",
        "    margin-bottom: 1px;\n",
        "    margin-top: 1px;\n",
        "}\n",
        "\n",
        ".CodeMirror{\n",
        "        font-family: \"PT Mono\";\n",
        "        font-size: 90%;\n",
        "}\n",
        "\n",
        "</style>\n",
        "<script>\n",
        "    MathJax.Hub.Config({\n",
        "                        TeX: {\n",
        "                           extensions: [\"AMSmath.js\"],\n",
        "                           equationNumbers: { autoNumber: \"AMS\", useLabelIds: true}\n",
        "                           },\n",
        "                tex2jax: {\n",
        "                    inlineMath: [ ['$','$'], [\"\\\\(\",\"\\\\)\"] ],\n",
        "                    displayMath: [ ['$$','$$'], [\"\\\\[\",\"\\\\]\"] ]\n",
        "                },\n",
        "                displayAlign: 'center', // Change this to 'center' to center equations.\n",
        "                \"HTML-CSS\": {\n",
        "                    styles: {'.MathJax_Display': {\"margin\": 4}}\n",
        "                }\n",
        "        });\n",
        "</script>"
       ],
       "metadata": {},
       "output_type": "display_data",
       "text": [
        "<IPython.core.display.HTML at 0xc356e10>"
       ]
      }
     ],
     "prompt_number": 6
    },
    {
     "cell_type": "code",
     "collapsed": false,
     "input": [
      "Image(url=\"http://forgifs.com/gallery/d/161206-4/Firefighter-kitten-slides-down-banister.gif?\")"
     ],
     "language": "python",
     "metadata": {},
     "outputs": [
      {
       "html": [
        "<img src=\"http://forgifs.com/gallery/d/161206-4/Firefighter-kitten-slides-down-banister.gif?\"/>"
       ],
       "metadata": {},
       "output_type": "pyout",
       "prompt_number": 2,
       "text": [
        "<IPython.core.display.Image at 0xc217898>"
       ]
      }
     ],
     "prompt_number": 2
    },
    {
     "cell_type": "code",
     "collapsed": false,
     "input": [
      "f = open(\"../files/meses.txt\")\n",
      "print(f.read())"
     ],
     "language": "python",
     "metadata": {},
     "outputs": [
      {
       "output_type": "stream",
       "stream": "stdout",
       "text": [
        "Enero\n",
        "Febrero\n",
        "Marzo\n",
        "Abril\n",
        "Mayo\n",
        "Junio\n",
        "Julio\n",
        "Agosto\n",
        "Septiembre\n",
        "Octubre\n",
        "Noviembre\n",
        "Diciembre\n"
       ]
      }
     ],
     "prompt_number": 1
    },
    {
     "cell_type": "code",
     "collapsed": false,
     "input": [
      "f = open(\"../files/meses.txt\")\n",
      "next = f.read(1)\n",
      "while next != \"\":\n",
      "    print(next)\n",
      "    next = f.read(1)"
     ],
     "language": "python",
     "metadata": {},
     "outputs": [
      {
       "output_type": "stream",
       "stream": "stdout",
       "text": [
        "E\n",
        "n\n",
        "e\n",
        "r\n",
        "o\n",
        "\n",
        "\n",
        "F\n",
        "e\n",
        "b\n",
        "r\n",
        "e\n",
        "r\n",
        "o\n",
        "\n",
        "\n",
        "M\n",
        "a\n",
        "r\n",
        "z\n",
        "o\n",
        "\n",
        "\n",
        "A\n",
        "b\n",
        "r\n",
        "i\n",
        "l\n",
        "\n",
        "\n",
        "M\n",
        "a\n",
        "y\n",
        "o\n",
        "\n",
        "\n",
        "J\n",
        "u\n",
        "n\n",
        "i\n",
        "o\n",
        "\n",
        "\n",
        "J\n",
        "u\n",
        "l\n",
        "i\n",
        "o\n",
        "\n",
        "\n",
        "A\n",
        "g\n",
        "o\n",
        "s\n",
        "t\n",
        "o\n",
        "\n",
        "\n",
        "S\n",
        "e\n",
        "p\n",
        "t\n",
        "i\n",
        "e\n",
        "m\n",
        "b\n",
        "r\n",
        "e\n",
        "\n",
        "\n",
        "O\n",
        "c\n",
        "t\n",
        "u\n",
        "b\n",
        "r\n",
        "e\n",
        "\n",
        "\n",
        "N\n",
        "o\n",
        "v\n",
        "i\n",
        "e\n",
        "m\n",
        "b\n",
        "r\n",
        "e\n",
        "\n",
        "\n",
        "D\n",
        "i\n",
        "c\n",
        "i\n",
        "e\n",
        "m\n",
        "b\n",
        "r\n",
        "e\n"
       ]
      }
     ],
     "prompt_number": 2
    },
    {
     "cell_type": "heading",
     "level": 2,
     "metadata": {},
     "source": [
      "Pregunta"
     ]
    },
    {
     "cell_type": "markdown",
     "metadata": {},
     "source": [
      "Cuando llega al final del archivo, por defecto devuelve una cadena vac\u00eda el m\u00e9todo read, como una forma b\u00e1sica de control"
     ]
    },
    {
     "cell_type": "code",
     "collapsed": false,
     "input": [
      "# Escriban y ejecuten el codigo en esta celda\n",
      "f = open(\"../files/meses.txt\")\n",
      "next = f.read(1)\n",
      "while next != \"\":\n",
      "    print(next)\n",
      "    next = f.read(1)\n",
      "    if (next == \"\"):\n",
      "        print (\"Fin del archivo\")"
     ],
     "language": "python",
     "metadata": {},
     "outputs": [
      {
       "output_type": "stream",
       "stream": "stdout",
       "text": [
        "E\n",
        "n\n",
        "e\n",
        "r\n",
        "o\n",
        "\n",
        "\n",
        "F\n",
        "e\n",
        "b\n",
        "r\n",
        "e\n",
        "r\n",
        "o\n",
        "\n",
        "\n",
        "M\n",
        "a\n",
        "r\n",
        "z\n",
        "o\n",
        "\n",
        "\n",
        "A\n",
        "b\n",
        "r\n",
        "i\n",
        "l\n",
        "\n",
        "\n",
        "M\n",
        "a\n",
        "y\n",
        "o\n",
        "\n",
        "\n",
        "J\n",
        "u\n",
        "n\n",
        "i\n",
        "o\n",
        "\n",
        "\n",
        "J\n",
        "u\n",
        "l\n",
        "i\n",
        "o\n",
        "\n",
        "\n",
        "A\n",
        "g\n",
        "o\n",
        "s\n",
        "t\n",
        "o\n",
        "\n",
        "\n",
        "S\n",
        "e\n",
        "p\n",
        "t\n",
        "i\n",
        "e\n",
        "m\n",
        "b\n",
        "r\n",
        "e\n",
        "\n",
        "\n",
        "O\n",
        "c\n",
        "t\n",
        "u\n",
        "b\n",
        "r\n",
        "e\n",
        "\n",
        "\n",
        "N\n",
        "o\n",
        "v\n",
        "i\n",
        "e\n",
        "m\n",
        "b\n",
        "r\n",
        "e\n",
        "\n",
        "\n",
        "D\n",
        "i\n",
        "c\n",
        "i\n",
        "e\n",
        "m\n",
        "b\n",
        "r\n",
        "e\n",
        "Fin del archivo\n"
       ]
      }
     ],
     "prompt_number": 4
    },
    {
     "cell_type": "heading",
     "level": 2,
     "metadata": {},
     "source": [
      "Pregunta"
     ]
    },
    {
     "cell_type": "markdown",
     "metadata": {},
     "source": [
      "Al reemplazar los <b>read(1)</b> con <b>read(2)</b> se escribir\u00edan 2 caracteres consecutivos del archivo. Sin embargo creo que si el archivo contine una longitud de caracteres impar, podr\u00eda marcar error...pues tratar\u00eda de enlazar el -fin de archivo- con el \u00faltimo caracter legible....a menos que el propio m\u00e9todo read lo maneje"
     ]
    },
    {
     "cell_type": "code",
     "collapsed": false,
     "input": [
      "f = open(\"../files/meses.txt\")\n",
      "next = f.read(2)\n",
      "while next != \"\":\n",
      "    print(next)\n",
      "    next = f.read(2)"
     ],
     "language": "python",
     "metadata": {},
     "outputs": [
      {
       "output_type": "stream",
       "stream": "stdout",
       "text": [
        "En\n",
        "er\n",
        "o\n",
        "\n",
        "Fe\n",
        "br\n",
        "er\n",
        "o\n",
        "\n",
        "Ma\n",
        "rz\n",
        "o\n",
        "\n",
        "Ab\n",
        "ri\n",
        "l\n",
        "\n",
        "Ma\n",
        "yo\n",
        "\n",
        "J\n",
        "un\n",
        "io\n",
        "\n",
        "J\n",
        "ul\n",
        "io\n",
        "\n",
        "A\n",
        "go\n",
        "st\n",
        "o\n",
        "\n",
        "Se\n",
        "pt\n",
        "ie\n",
        "mb\n",
        "re\n",
        "\n",
        "O\n",
        "ct\n",
        "ub\n",
        "re\n",
        "\n",
        "N\n",
        "ov\n",
        "ie\n",
        "mb\n",
        "re\n",
        "\n",
        "D\n",
        "ic\n",
        "ie\n",
        "mb\n",
        "re\n"
       ]
      }
     ],
     "prompt_number": 6
    },
    {
     "cell_type": "heading",
     "level": 2,
     "metadata": {},
     "source": [
      "Leyendo el archivo l\u00ednea por l\u00ednea"
     ]
    },
    {
     "cell_type": "heading",
     "level": 3,
     "metadata": {},
     "source": [
      "Representando l\u00edneas"
     ]
    },
    {
     "cell_type": "code",
     "collapsed": false,
     "input": [
      "print(\"Quiero dos lineas!\\nEl caracter de linea nueva me permite hacerlo.\")"
     ],
     "language": "python",
     "metadata": {},
     "outputs": [
      {
       "output_type": "stream",
       "stream": "stdout",
       "text": [
        "Quiero dos lineas!\n",
        "El caracter de linea nueva me permite hacerlo.\n"
       ]
      }
     ],
     "prompt_number": 7
    },
    {
     "cell_type": "code",
     "collapsed": false,
     "input": [
      "f = open(\"../files/meses.txt\")\n",
      "next = f.read(1)\n",
      "while next != \"\":\n",
      "    print(next)\n",
      "    next = f.read(1)"
     ],
     "language": "python",
     "metadata": {},
     "outputs": [
      {
       "output_type": "stream",
       "stream": "stdout",
       "text": [
        "E\n",
        "n\n",
        "e\n",
        "r\n",
        "o\n",
        "\n",
        "\n",
        "F\n",
        "e\n",
        "b\n",
        "r\n",
        "e\n",
        "r\n",
        "o\n",
        "\n",
        "\n",
        "M\n",
        "a\n",
        "r\n",
        "z\n",
        "o\n",
        "\n",
        "\n",
        "A\n",
        "b\n",
        "r\n",
        "i\n",
        "l\n",
        "\n",
        "\n",
        "M\n",
        "a\n",
        "y\n",
        "o\n",
        "\n",
        "\n",
        "J\n",
        "u\n",
        "n\n",
        "i\n",
        "o\n",
        "\n",
        "\n",
        "J\n",
        "u\n",
        "l\n",
        "i\n",
        "o\n",
        "\n",
        "\n",
        "A\n",
        "g\n",
        "o\n",
        "s\n",
        "t\n",
        "o\n",
        "\n",
        "\n",
        "S\n",
        "e\n",
        "p\n",
        "t\n",
        "i\n",
        "e\n",
        "m\n",
        "b\n",
        "r\n",
        "e\n",
        "\n",
        "\n",
        "O\n",
        "c\n",
        "t\n",
        "u\n",
        "b\n",
        "r\n",
        "e\n",
        "\n",
        "\n",
        "N\n",
        "o\n",
        "v\n",
        "i\n",
        "e\n",
        "m\n",
        "b\n",
        "r\n",
        "e\n",
        "\n",
        "\n",
        "D\n",
        "i\n",
        "c\n",
        "i\n",
        "e\n",
        "m\n",
        "b\n",
        "r\n",
        "e\n"
       ]
      }
     ],
     "prompt_number": 11
    },
    {
     "cell_type": "code",
     "collapsed": false,
     "input": [
      "f = open(\"../files/meses.txt\")\n",
      "next = f.readline()\n",
      "while next != \"\":\n",
      "    print(next)\n",
      "    next = f.readline()"
     ],
     "language": "python",
     "metadata": {},
     "outputs": [
      {
       "output_type": "stream",
       "stream": "stdout",
       "text": [
        "Enero\n",
        "\n",
        "Febrero\n",
        "\n",
        "Marzo\n",
        "\n",
        "Abril\n",
        "\n",
        "Mayo\n",
        "\n",
        "Junio\n",
        "\n",
        "Julio\n",
        "\n",
        "Agosto\n",
        "\n",
        "Septiembre\n",
        "\n",
        "Octubre\n",
        "\n",
        "Noviembre\n",
        "\n",
        "Diciembre\n"
       ]
      }
     ],
     "prompt_number": 12
    },
    {
     "cell_type": "code",
     "collapsed": false,
     "input": [
      "f = open(\"../files/meses.txt\")\n",
      "next = f.readline()\n",
      "while next != \"\":\n",
      "    next = next.strip()\n",
      "    print(next)\n",
      "    next = f.readline()"
     ],
     "language": "python",
     "metadata": {},
     "outputs": [
      {
       "output_type": "stream",
       "stream": "stdout",
       "text": [
        "Enero\n",
        "Febrero\n",
        "Marzo\n",
        "Abril\n",
        "Mayo\n",
        "Junio\n",
        "Julio\n",
        "Agosto\n",
        "Septiembre\n",
        "Octubre\n",
        "Noviembre\n",
        "Diciembre\n"
       ]
      }
     ],
     "prompt_number": 15
    },
    {
     "cell_type": "code",
     "collapsed": false,
     "input": [
      "f = open(\"../files/meses.txt\")\n",
      "next = f.readline()\n",
      "while next != \"\":\n",
      "    next = next.strip(\"\\n\")\n",
      "    print(next)\n",
      "    next = f.readline()"
     ],
     "language": "python",
     "metadata": {},
     "outputs": [
      {
       "output_type": "stream",
       "stream": "stdout",
       "text": [
        "Enero\n",
        "Febrero\n",
        "Marzo\n",
        "Abril\n",
        "Mayo\n",
        "Junio\n",
        "Julio\n",
        "Agosto\n",
        "Septiembre\n",
        "Octubre\n",
        "Noviembre\n",
        "Diciembre\n"
       ]
      }
     ],
     "prompt_number": 16
    },
    {
     "cell_type": "heading",
     "level": 3,
     "metadata": {},
     "source": [
      "Leyendo una linea completa"
     ]
    },
    {
     "cell_type": "code",
     "collapsed": false,
     "input": [
      "f = open(\"../files/meses.txt\")\n",
      "print(f.readlines())"
     ],
     "language": "python",
     "metadata": {},
     "outputs": [
      {
       "output_type": "stream",
       "stream": "stdout",
       "text": [
        "['Enero\\n', 'Febrero\\n', 'Marzo\\n', 'Abril\\n', 'Mayo\\n', 'Junio\\n', 'Julio\\n', 'Agosto\\n', 'Septiembre\\n', 'Octubre\\n', 'Noviembre\\n', 'Diciembre']\n"
       ]
      }
     ],
     "prompt_number": 18
    },
    {
     "cell_type": "code",
     "collapsed": false,
     "input": [
      "f = open(\"../files/meses.txt\")\n",
      "for month in f.readlines():\n",
      "    print(\"Month \"+ month.strip())"
     ],
     "language": "python",
     "metadata": {},
     "outputs": [
      {
       "output_type": "stream",
       "stream": "stdout",
       "text": [
        "Month Enero\n",
        "Month Febrero\n",
        "Month Marzo\n",
        "Month Abril\n",
        "Month Mayo\n",
        "Month Junio\n",
        "Month Julio\n",
        "Month Agosto\n",
        "Month Septiembre\n",
        "Month Octubre\n",
        "Month Noviembre\n",
        "Month Diciembre\n"
       ]
      }
     ],
     "prompt_number": 20
    },
    {
     "cell_type": "code",
     "collapsed": false,
     "input": [
      "f = open(\"../files/meses.txt\")\n",
      "for month in f:\n",
      "    print(\"Month \" + month.strip())"
     ],
     "language": "python",
     "metadata": {},
     "outputs": [
      {
       "output_type": "stream",
       "stream": "stdout",
       "text": [
        "Month Enero\n",
        "Month Febrero\n",
        "Month Marzo\n",
        "Month Abril\n",
        "Month Mayo\n",
        "Month Junio\n",
        "Month Julio\n",
        "Month Agosto\n",
        "Month Septiembre\n",
        "Month Octubre\n",
        "Month Noviembre\n",
        "Month Diciembre\n"
       ]
      }
     ],
     "prompt_number": 23
    },
    {
     "cell_type": "heading",
     "level": 2,
     "metadata": {},
     "source": [
      "Escribiendo Archivos"
     ]
    },
    {
     "cell_type": "code",
     "collapsed": false,
     "input": [
      "f = open(\"archivonuevogenialchingon.txt\",\"w\")"
     ],
     "language": "python",
     "metadata": {},
     "outputs": [],
     "prompt_number": 25
    },
    {
     "cell_type": "code",
     "collapsed": false,
     "input": [
      "f = open(\"archivonuevogenialchingon.txt\",\"w\")\n",
      "f.write(\"Hola\")\n",
      "f = open(\"archivonuevogenialchingon.txt\")\n",
      "for linea in f:\n",
      "    print(\"Linea \"+linea)"
     ],
     "language": "python",
     "metadata": {},
     "outputs": [
      {
       "output_type": "stream",
       "stream": "stdout",
       "text": [
        "Linea Hola\n"
       ]
      }
     ],
     "prompt_number": 29
    },
    {
     "cell_type": "code",
     "collapsed": false,
     "input": [
      "f = open(\"archivonuevogenialchingon.txt\",\"w\")\n",
      "f.write(\"\u00bfQue metodo debemos usar para esto?\")\n",
      "f.close()"
     ],
     "language": "python",
     "metadata": {},
     "outputs": [],
     "prompt_number": 30
    },
    {
     "cell_type": "heading",
     "level": 2,
     "metadata": {},
     "source": [
      "Ejercicio"
     ]
    },
    {
     "cell_type": "heading",
     "level": 3,
     "metadata": {},
     "source": [
      "Ejercicio - Escribiendo archivos"
     ]
    },
    {
     "cell_type": "code",
     "collapsed": false,
     "input": [
      "f = open(\"archivonuevogenial2.txt\",\"w\")\n",
      "f.write(\"Primera l\u00ednea de texto\"+\"\\n\")\n",
      "f.write(\"Segunda l\u00ednea :o\"+\"\\n\")"
     ],
     "language": "python",
     "metadata": {},
     "outputs": [],
     "prompt_number": 31
    },
    {
     "cell_type": "code",
     "collapsed": false,
     "input": [
      "f=open(\"archivonuevogenial2.txt\")\n",
      "for linea in f:\n",
      "    print(\"Linea: \"+linea.strip())"
     ],
     "language": "python",
     "metadata": {},
     "outputs": [
      {
       "output_type": "stream",
       "stream": "stdout",
       "text": [
        "Linea: Primera l\u00ednea de texto\n",
        "Linea: Segunda l\u00ednea :o\n"
       ]
      }
     ],
     "prompt_number": 33
    },
    {
     "cell_type": "heading",
     "level": 3,
     "metadata": {},
     "source": [
      "Ejercicio - Trabajando con archivos"
     ]
    },
    {
     "cell_type": "code",
     "collapsed": false,
     "input": [
      "f=open(\"../files/archivoconmuchaslineas.txt\",\"w\")\n",
      "f.write(\"Primero escriban un archivo \"+\"\\n\")\n",
      "f.write(\"de puro texto \"+\"\\n\")\n",
      "f.write(\"que contenga \"+\"\\n\")\n",
      "f.write(\"al menos \"+\"\\n\")\n",
      "f.write(\"7 lineas \"+\"\\n\")\n",
      "f.write(\"con cadenas de texto aleatorias. \"+\"\\n\")\n",
      "f.write(\"Pueden usar \"+\"\\n\")\n",
      "f.write(\"su editor de textos favorito \"+\"\\n\")\n",
      "f.write(\"o cualquier otro comando que sepan.\"+\"\\n\")\n",
      "f.close()"
     ],
     "language": "python",
     "metadata": {},
     "outputs": [],
     "prompt_number": 39
    },
    {
     "cell_type": "code",
     "collapsed": false,
     "input": [
      "f = open(\"../files/archivoconmuchaslineas.txt\")\n",
      "lista_palabras = []\n",
      "for linea in f:\n",
      "    lista_palabras.append(linea.strip() + \" - Pa'su mecha tu, no manches\")\n",
      "f.close()\n",
      "f = open(\"../files/archivoconmuchaslineas_nuevo.txt\",\"w\")\n",
      "for lineaDePalabras in lista_palabras:\n",
      "    f.write(lineaDePalabras + \"\\n\")\n",
      "    print(lineaDePalabras.strip())\n",
      "f.close()"
     ],
     "language": "python",
     "metadata": {},
     "outputs": [
      {
       "output_type": "stream",
       "stream": "stdout",
       "text": [
        "Primero escriban un archivo - Pa'su mecha tu, no manches\n",
        "de puro texto - Pa'su mecha tu, no manches\n",
        "que contenga - Pa'su mecha tu, no manches\n",
        "al menos - Pa'su mecha tu, no manches\n",
        "7 lineas - Pa'su mecha tu, no manches\n",
        "con cadenas de texto aleatorias. - Pa'su mecha tu, no manches\n",
        "Pueden usar - Pa'su mecha tu, no manches\n",
        "su editor de textos favorito - Pa'su mecha tu, no manches\n",
        "o cualquier otro comando que sepan. - Pa'su mecha tu, no manches\n"
       ]
      }
     ],
     "prompt_number": 41
    }
   ],
   "metadata": {}
  }
 ]
}