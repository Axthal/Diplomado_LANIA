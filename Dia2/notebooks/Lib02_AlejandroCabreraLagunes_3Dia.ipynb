{
 "metadata": {
  "name": "",
  "signature": "sha256:b833dd60696054759733249463077897b0708a0450e7dae62a68370538766368"
 },
 "nbformat": 3,
 "nbformat_minor": 0,
 "worksheets": [
  {
   "cells": [
    {
     "cell_type": "code",
     "collapsed": false,
     "input": [
      "%run ../talktools.py"
     ],
     "language": "python",
     "metadata": {},
     "outputs": [
      {
       "html": [
        "<link href='http://fonts.googleapis.com/css?family=Alegreya+Sans:100,300,400,500,700,800,900,100italic,300italic,400italic,500italic,700italic,800italic,900italic' rel='stylesheet' type='text/css'>\n",
        "<link href='http://fonts.googleapis.com/css?family=Arvo:400,700,400italic' rel='stylesheet' type='text/css'>\n",
        "<link href='http://fonts.googleapis.com/css?family=PT+Mono' rel='stylesheet' type='text/css'>\n",
        "<link href='http://fonts.googleapis.com/css?family=Shadows+Into+Light' rel='stylesheet' type='text/css'>\n",
        "<link href='http://fonts.googleapis.com/css?family=Nixie+One' rel='stylesheet' type='text/css'>\n",
        "<style>\n",
        "\n",
        "@font-face {\n",
        "    font-family: \"Computer Modern\";\n",
        "    src: url('http://mirrors.ctan.org/fonts/cm-unicode/fonts/otf/cmunss.otf');\n",
        "}\n",
        "\n",
        "#notebook_panel { /* main background */\n",
        "    background: rgb(245,245,245);\n",
        "}\n",
        "\n",
        "div.cell { /* set cell width */\n",
        "    width: 750px;\n",
        "}\n",
        "\n",
        "div #notebook { /* centre the content */\n",
        "    background: #fff; /* white background for content */\n",
        "    width: 1000px;\n",
        "    margin: auto;\n",
        "    padding-left: 0em;\n",
        "}\n",
        "\n",
        "#notebook li { /* More space between bullet points */\n",
        "margin-top:0.8em;\n",
        "}\n",
        "\n",
        "/* draw border around running cells */\n",
        "div.cell.border-box-sizing.code_cell.running { \n",
        "    border: 1px solid #111;\n",
        "}\n",
        "\n",
        "/* Put a solid color box around each cell and its output, visually linking them*/\n",
        "div.cell.code_cell {\n",
        "    background-color: rgb(256,256,256); \n",
        "    border-radius: 0px; \n",
        "    padding: 0.5em;\n",
        "    margin-left:1em;\n",
        "    margin-top: 1em;\n",
        "}\n",
        "\n",
        "div.text_cell_render{\n",
        "    font-family: 'Alegreya Sans' sans-serif;\n",
        "    line-height: 140%;\n",
        "    font-size: 125%;\n",
        "    font-weight: 400;\n",
        "    width:600px;\n",
        "    margin-left:auto;\n",
        "    margin-right:auto;\n",
        "}\n",
        "\n",
        "\n",
        "/* Formatting for header cells */\n",
        ".text_cell_render h1 {\n",
        "    font-family: 'Nixie One', serif;\n",
        "    font-style:regular;\n",
        "    font-weight: 400;    \n",
        "    font-size: 45pt;\n",
        "    line-height: 100%;\n",
        "    color: rgb(0,51,102);\n",
        "    margin-bottom: 0.5em;\n",
        "    margin-top: 0.5em;\n",
        "    display: block;\n",
        "}\t\n",
        ".text_cell_render h2 {\n",
        "    font-family: 'Nixie One', serif;\n",
        "    font-weight: 400;\n",
        "    font-size: 30pt;\n",
        "    line-height: 100%;\n",
        "    color: rgb(0,51,102);\n",
        "    margin-bottom: 0.1em;\n",
        "    margin-top: 0.3em;\n",
        "    display: block;\n",
        "}\t\n",
        "\n",
        ".text_cell_render h3 {\n",
        "    font-family: 'Nixie One', serif;\n",
        "    margin-top:16px;\n",
        "\tfont-size: 22pt;\n",
        "    font-weight: 600;\n",
        "    margin-bottom: 3px;\n",
        "    font-style: regular;\n",
        "    color: rgb(102,102,0);\n",
        "}\n",
        "\n",
        ".text_cell_render h4 {    /*Use this for captions*/\n",
        "    font-family: 'Nixie One', serif;\n",
        "    font-size: 14pt;\n",
        "    text-align: center;\n",
        "    margin-top: 0em;\n",
        "    margin-bottom: 2em;\n",
        "    font-style: regular;\n",
        "}\n",
        "\n",
        ".text_cell_render h5 {  /*Use this for small titles*/\n",
        "    font-family: 'Nixie One', sans-serif;\n",
        "    font-weight: 400;\n",
        "    font-size: 16pt;\n",
        "    color: rgb(163,0,0);\n",
        "    font-style: italic;\n",
        "    margin-bottom: .1em;\n",
        "    margin-top: 0.8em;\n",
        "    display: block;\n",
        "}\n",
        "\n",
        ".text_cell_render h6 { /*use this for copyright note*/\n",
        "    font-family: 'PT Mono', sans-serif;\n",
        "    font-weight: 300;\n",
        "    font-size: 9pt;\n",
        "    line-height: 100%;\n",
        "    color: grey;\n",
        "    margin-bottom: 1px;\n",
        "    margin-top: 1px;\n",
        "}\n",
        "\n",
        ".CodeMirror{\n",
        "        font-family: \"PT Mono\";\n",
        "        font-size: 90%;\n",
        "}\n",
        "\n",
        "</style>\n",
        "<script>\n",
        "    MathJax.Hub.Config({\n",
        "                        TeX: {\n",
        "                           extensions: [\"AMSmath.js\"],\n",
        "                           equationNumbers: { autoNumber: \"AMS\", useLabelIds: true}\n",
        "                           },\n",
        "                tex2jax: {\n",
        "                    inlineMath: [ ['$','$'], [\"\\\\(\",\"\\\\)\"] ],\n",
        "                    displayMath: [ ['$$','$$'], [\"\\\\[\",\"\\\\]\"] ]\n",
        "                },\n",
        "                displayAlign: 'center', // Change this to 'center' to center equations.\n",
        "                \"HTML-CSS\": {\n",
        "                    styles: {'.MathJax_Display': {\"margin\": 4}}\n",
        "                }\n",
        "        });\n",
        "</script>"
       ],
       "metadata": {},
       "output_type": "display_data",
       "text": [
        "<IPython.core.display.HTML at 0xc3e0fd0>"
       ]
      }
     ],
     "prompt_number": 11
    },
    {
     "cell_type": "code",
     "collapsed": false,
     "input": [
      "import urllib\n",
      "import json\n",
      "destino = './helecho_Magnificado.jpg'\n",
      "figshare_id = '1233476'\n",
      "figshare_url = 'http://api.figshare.com/v1/articles/%s' % figshare_id"
     ],
     "language": "python",
     "metadata": {},
     "outputs": [],
     "prompt_number": 12
    },
    {
     "cell_type": "code",
     "collapsed": false,
     "input": [
      "respuesta_json = urllib.urlopen(figshare_url)"
     ],
     "language": "python",
     "metadata": {},
     "outputs": [],
     "prompt_number": 13
    },
    {
     "cell_type": "code",
     "collapsed": false,
     "input": [
      "informacion_articulo = json.load(respuesta_json)"
     ],
     "language": "python",
     "metadata": {},
     "outputs": [],
     "prompt_number": 14
    },
    {
     "cell_type": "code",
     "collapsed": false,
     "input": [
      "informacion_articulo"
     ],
     "language": "python",
     "metadata": {},
     "outputs": [
      {
       "metadata": {},
       "output_type": "pyout",
       "prompt_number": 15,
       "text": [
        "{u'count': 1,\n",
        " u'items': [{u'article_id': 1233476,\n",
        "   u'authors': [{u'first_name': u'Alejandro',\n",
        "     u'full_name': u'Alejandro Cabrera',\n",
        "     u'id': 656751,\n",
        "     u'last_name': u'Cabrera'}],\n",
        "   u'categories': [{u'id': 133, u'name': u'Plant Biology'}],\n",
        "   u'defined_type': u'figure',\n",
        "   u'description': u'<p>Fotograf\\xeda de una hoja de helecho magnificada, tomada desde un Samsung Galaxy Ace con c\\xe1mara de 5 Mpx. cuya capacidad de resoluci\\xf3n fue aumentada colocando cuidadosamente una gota de agua en el lente. 08/11/2014 - Diplomado en Desarrollo M\\xf3vil y Procesamiento de Datos - LANIA</p>',\n",
        "   u'description_nohtml': u'Fotograf\\xeda de una hoja de helecho magnificada, tomada desde un Samsung Galaxy Ace con c\\xe1mara de 5 Mpx. cuya capacidad de resoluci\\xf3n fue aumentada colocando cuidadosamente una gota de agua en el lente. 08/11/2014 - Diplomado en Desarrollo M\\xf3vil y Procesamiento de Datos - LANIA',\n",
        "   u'doi': u'http://dx.doi.org/10.6084/m9.figshare.1233476',\n",
        "   u'downloads': 0,\n",
        "   u'figshare_url': u'http://figshare.com/articles/Hola_de_Helecho_con_esporas_Magnificada/1233476',\n",
        "   u'files': [{u'download_url': u'http://files.figshare.com/1784899/2014_11_08_14.40.50.jpg',\n",
        "     u'id': 1784899,\n",
        "     u'mime_type': u'image/jpeg',\n",
        "     u'name': u'2014-11-08 14.40.50.jpg',\n",
        "     u'size': u'1.00 MB',\n",
        "     u'thumb': u'http://previews.figshare.com/1784899/250_1784899.jpg'}],\n",
        "   u'links': [],\n",
        "   u'master_publisher_id': 0,\n",
        "   u'owner': {u'full_name': u'Alejandro Cabrera', u'id': 656751},\n",
        "   u'published_date': u'21:19, Nov 08, 2014',\n",
        "   u'publisher_citation': u'',\n",
        "   u'publisher_doi': u'',\n",
        "   u'shares': 0,\n",
        "   u'status': u'Public',\n",
        "   u'tags': [{u'id': 321139, u'name': u'lania'},\n",
        "    {u'id': 334753, u'name': u'Android Development'}],\n",
        "   u'title': u'Hola de Helecho con esporas - Magnificada',\n",
        "   u'total_size': u'1.00 MB',\n",
        "   u'version': 1,\n",
        "   u'views': 1}]}"
       ]
      }
     ],
     "prompt_number": 15
    },
    {
     "cell_type": "code",
     "collapsed": false,
     "input": [
      "img_url_descarga = informacion_articulo['items'][0]['files'][0]['download_url']"
     ],
     "language": "python",
     "metadata": {},
     "outputs": [],
     "prompt_number": 16
    },
    {
     "cell_type": "code",
     "collapsed": false,
     "input": [
      "img_url_descarga"
     ],
     "language": "python",
     "metadata": {},
     "outputs": [
      {
       "metadata": {},
       "output_type": "pyout",
       "prompt_number": 17,
       "text": [
        "u'http://files.figshare.com/1784899/2014_11_08_14.40.50.jpg'"
       ]
      }
     ],
     "prompt_number": 17
    },
    {
     "cell_type": "code",
     "collapsed": false,
     "input": [
      "urllib.urlretrieve(img_url_descarga,destino)"
     ],
     "language": "python",
     "metadata": {},
     "outputs": [
      {
       "metadata": {},
       "output_type": "pyout",
       "prompt_number": 18,
       "text": [
        "('./helecho_Magnificado.jpg',\n",
        " <httplib.HTTPMessage instance at 0x000000000C47F048>)"
       ]
      }
     ],
     "prompt_number": 18
    },
    {
     "cell_type": "heading",
     "level": 2,
     "metadata": {},
     "source": [
      "Descarga"
     ]
    },
    {
     "cell_type": "code",
     "collapsed": false,
     "input": [
      "import urllib\n",
      "import json\n",
      "destino = './hoja de planta - magnificada.jpg'\n",
      "figshare_id = '1233504'\n",
      "figshare_url = 'http://api.figshare.com/v1/articles/%s' % figshare_id\n",
      "respuesta_json = urllib.urlopen(figshare_url)\n",
      "informacion_articulo = json.load(respuesta_json)\n",
      "img_url_descarga = informacion_articulo['items'][0]['files'][0]['download_url']\n",
      "urllib.urlretrieve(img_url_descarga,destino)"
     ],
     "language": "python",
     "metadata": {},
     "outputs": [
      {
       "metadata": {},
       "output_type": "pyout",
       "prompt_number": 19,
       "text": [
        "('./hoja de planta - magnificada.jpg',\n",
        " <httplib.HTTPMessage instance at 0x000000000C47F188>)"
       ]
      }
     ],
     "prompt_number": 19
    },
    {
     "cell_type": "code",
     "collapsed": false,
     "input": [
      "import urllib\n",
      "import json\n",
      "destino = './imagen_compa\u00f1ero_2.jpg'\n",
      "figshare_id = '1233519'\n",
      "figshare_url = 'http://api.figshare.com/v1/articles/%s' % figshare_id\n",
      "respuesta_json = urllib.urlopen(figshare_url)\n",
      "informacion_articulo = json.load(respuesta_json)\n",
      "img_url_descarga = informacion_articulo['items'][0]['files'][0]['download_url']\n",
      "urllib.urlretrieve(img_url_descarga,destino)"
     ],
     "language": "python",
     "metadata": {},
     "outputs": [
      {
       "metadata": {},
       "output_type": "pyout",
       "prompt_number": 21,
       "text": [
        "('./imagen_compa\\xc3\\xb1ero_2.jpg',\n",
        " <httplib.HTTPMessage instance at 0x000000000C494788>)"
       ]
      }
     ],
     "prompt_number": 21
    }
   ],
   "metadata": {}
  }
 ]
}